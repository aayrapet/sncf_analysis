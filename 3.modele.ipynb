{
 "cells": [
  {
   "cell_type": "markdown",
   "metadata": {},
   "source": [
    "# Importation des packages et connexion au S3"
   ]
  },
  {
   "cell_type": "code",
   "execution_count": 1,
   "metadata": {},
   "outputs": [],
   "source": [
    "from helpers.other_helpers import *\n",
    "import pandas as pd\n",
    "import statsmodels.api as sm\n",
    "import matplotlib.pyplot as plt\n",
    "import statsmodels.stats.api as sms\n"
   ]
  },
  {
   "cell_type": "code",
   "execution_count": 2,
   "metadata": {},
   "outputs": [
    {
     "name": "stdout",
     "output_type": "stream",
     "text": [
      "connection successful\n"
     ]
    }
   ],
   "source": [
    "s3=s3_connection()"
   ]
  },
  {
   "cell_type": "markdown",
   "metadata": {},
   "source": [
    "# 1. La motivation"
   ]
  },
  {
   "cell_type": "code",
   "execution_count": 25,
   "metadata": {},
   "outputs": [
    {
     "name": "stdout",
     "output_type": "stream",
     "text": [
      "        pop2022  revmoy2022  psup2022  pcadr2022\n",
      "count  36632.00    34720.00  35222.00   35065.00\n",
      "mean    1829.92    17049.74      0.27       0.12\n",
      "std     9954.65     5194.78      0.17       0.13\n",
      "min        0.00     3350.48      0.00       0.00\n",
      "25%      182.00    14011.97      0.16       0.00\n",
      "50%      428.00    16321.86      0.26       0.08\n",
      "75%     1116.00    19124.01      0.37       0.18\n",
      "max   875791.00   126903.91      1.00       1.00\n"
     ]
    }
   ],
   "source": [
    "regional_stat=s3.get_tables_from_s3(\"clichere/diffusion/final_comm.parquet\")\n",
    "print(regional_stat[[\"pop2022\", \"revmoy2022\", \"psup2022\", \"pcadr2022\"]].describe())"
   ]
  },
  {
   "cell_type": "code",
   "execution_count": 3,
   "metadata": {},
   "outputs": [
    {
     "name": "stdout",
     "output_type": "stream",
     "text": [
      "             pop2022     revmoy2022     psup2022    pcadr2022\n",
      "count    2808.000000    2808.000000  2808.000000  2808.000000\n",
      "mean    18078.540954   18221.520429     0.293846     0.141033\n",
      "std     50290.901554    6608.596156     0.132249     0.111082\n",
      "min        55.000000    5818.043000     0.000000     0.000000\n",
      "25%      1570.250000   14922.083000     0.203781     0.065058\n",
      "50%      4067.500000   16931.457000     0.279855     0.121349\n",
      "75%     12203.000000   19639.297250     0.365996     0.188963\n",
      "max    875791.000000  107572.810000     1.000000     0.817073\n"
     ]
    }
   ],
   "source": [
    "df=s3.get_tables_from_s3(\"aayrapetyan/diffusion/final_table.parquet\")\n",
    "print(df[[\"pop2022\", \"revmoy2022\", \"psup2022\", \"pcadr2022\"]].describe())"
   ]
  },
  {
   "cell_type": "markdown",
   "metadata": {},
   "source": [
    "On voit que la population moyenne diminue lorsque l'on sélectionne les communes ayant une gare. Cela correspond au fait que les petites communes ont moins de chance d'avoir une gare. On passe de 36000 communes à 2800 communes, ce qui donne tout de même beaucoup d'observations. On remarque que le revenu moyen d'une commune en France est plus élevé lorsque l'on sélectionne seulement les communes comprenant une gare. De même, les personnes sont en moyenne plus diplômée et appartiennent aux catégories socio-professionnelles plus élevées également. "
   ]
  },
  {
   "cell_type": "markdown",
   "metadata": {},
   "source": [
    "On veut montrer qu'il existe un lien entre le revenu, la catégorie socio-professionnelle (csp) et le fait de prendre un train en France. Pour cela, on effectue une régression linéaire avec le nombre total de voyageurs comme variable dépendante. Notre but est d'expliquer pourquoi est-ce que cette variable est différente en fonction des communes, en contrôlant par la population de la commune. Les premières visualisations et les premières données suggèrent qu'il peut y avoir un lien entre son revenu et le fait de prendre un train."
   ]
  },
  {
   "cell_type": "code",
   "execution_count": 4,
   "metadata": {},
   "outputs": [
    {
     "name": "stdout",
     "output_type": "stream",
     "text": [
      "Index(['total_voyageurs_2022', 'nom_gare', 'uic', 'codeinsee', 'lon_gare',\n",
      "       'lat_gare', 'codecommune', 'nomcommune', 'pop2022', 'revmoy2022',\n",
      "       'pbac2022', 'psup2022', 'pagri2022', 'pindp2022', 'pcadr2022',\n",
      "       'ppint2022', 'pempl2022', 'pouvr2022', 'pchom2022',\n",
      "       'dist_closest_station_km', 'regions'],\n",
      "      dtype='object')\n"
     ]
    }
   ],
   "source": [
    "print(df.columns)"
   ]
  },
  {
   "cell_type": "markdown",
   "metadata": {},
   "source": [
    "# 2. Régressions"
   ]
  },
  {
   "cell_type": "markdown",
   "metadata": {},
   "source": [
    "## 2.1. Transformer les variables pour notre modèle"
   ]
  },
  {
   "cell_type": "code",
   "execution_count": 4,
   "metadata": {},
   "outputs": [
    {
     "data": {
      "text/html": [
       "<div>\n",
       "<style scoped>\n",
       "    .dataframe tbody tr th:only-of-type {\n",
       "        vertical-align: middle;\n",
       "    }\n",
       "\n",
       "    .dataframe tbody tr th {\n",
       "        vertical-align: top;\n",
       "    }\n",
       "\n",
       "    .dataframe thead th {\n",
       "        text-align: right;\n",
       "    }\n",
       "</style>\n",
       "<table border=\"1\" class=\"dataframe\">\n",
       "  <thead>\n",
       "    <tr style=\"text-align: right;\">\n",
       "      <th></th>\n",
       "      <th>total_voyageurs_2022</th>\n",
       "      <th>nom_gare</th>\n",
       "      <th>uic</th>\n",
       "      <th>codeinsee</th>\n",
       "      <th>lon_gare</th>\n",
       "      <th>lat_gare</th>\n",
       "      <th>codecommune</th>\n",
       "      <th>nomcommune</th>\n",
       "      <th>pop2022</th>\n",
       "      <th>revmoy2022</th>\n",
       "      <th>...</th>\n",
       "      <th>Bretagne</th>\n",
       "      <th>Centre-Val de Loire</th>\n",
       "      <th>Grand Est</th>\n",
       "      <th>Hauts-de-France</th>\n",
       "      <th>Normandie</th>\n",
       "      <th>Nouvelle-Aquitaine</th>\n",
       "      <th>Occitanie</th>\n",
       "      <th>Pays de la Loire</th>\n",
       "      <th>Provence-Alpes-Côte d'Azur</th>\n",
       "      <th>Île-de-France</th>\n",
       "    </tr>\n",
       "  </thead>\n",
       "  <tbody>\n",
       "    <tr>\n",
       "      <th>714</th>\n",
       "      <td>7022</td>\n",
       "      <td>Étigny - Véron</td>\n",
       "      <td>87683201</td>\n",
       "      <td>89160</td>\n",
       "      <td>3.290419</td>\n",
       "      <td>48.138683</td>\n",
       "      <td>89160</td>\n",
       "      <td>ETIGNY</td>\n",
       "      <td>768.0</td>\n",
       "      <td>18712.057</td>\n",
       "      <td>...</td>\n",
       "      <td>0</td>\n",
       "      <td>0</td>\n",
       "      <td>0</td>\n",
       "      <td>0</td>\n",
       "      <td>0</td>\n",
       "      <td>0</td>\n",
       "      <td>0</td>\n",
       "      <td>0</td>\n",
       "      <td>0</td>\n",
       "      <td>0</td>\n",
       "    </tr>\n",
       "    <tr>\n",
       "      <th>2432</th>\n",
       "      <td>1231</td>\n",
       "      <td>Hellemmes</td>\n",
       "      <td>87286062</td>\n",
       "      <td>59350</td>\n",
       "      <td>3.114933</td>\n",
       "      <td>50.622640</td>\n",
       "      <td>59350</td>\n",
       "      <td>LILLE</td>\n",
       "      <td>238369.0</td>\n",
       "      <td>15658.886</td>\n",
       "      <td>...</td>\n",
       "      <td>0</td>\n",
       "      <td>0</td>\n",
       "      <td>0</td>\n",
       "      <td>1</td>\n",
       "      <td>0</td>\n",
       "      <td>0</td>\n",
       "      <td>0</td>\n",
       "      <td>0</td>\n",
       "      <td>0</td>\n",
       "      <td>0</td>\n",
       "    </tr>\n",
       "  </tbody>\n",
       "</table>\n",
       "<p>2 rows × 33 columns</p>\n",
       "</div>"
      ],
      "text/plain": [
       "      total_voyageurs_2022        nom_gare       uic codeinsee  lon_gare  \\\n",
       "714                   7022  Étigny - Véron  87683201     89160  3.290419   \n",
       "2432                  1231       Hellemmes  87286062     59350  3.114933   \n",
       "\n",
       "       lat_gare codecommune nomcommune   pop2022  revmoy2022  ...  Bretagne  \\\n",
       "714   48.138683       89160     ETIGNY     768.0   18712.057  ...         0   \n",
       "2432  50.622640       59350      LILLE  238369.0   15658.886  ...         0   \n",
       "\n",
       "      Centre-Val de Loire  Grand Est  Hauts-de-France  Normandie  \\\n",
       "714                     0          0                0          0   \n",
       "2432                    0          0                1          0   \n",
       "\n",
       "      Nouvelle-Aquitaine  Occitanie  Pays de la Loire  \\\n",
       "714                    0          0                 0   \n",
       "2432                   0          0                 0   \n",
       "\n",
       "      Provence-Alpes-Côte d'Azur  Île-de-France  \n",
       "714                            0              0  \n",
       "2432                           0              0  \n",
       "\n",
       "[2 rows x 33 columns]"
      ]
     },
     "execution_count": 4,
     "metadata": {},
     "output_type": "execute_result"
    }
   ],
   "source": [
    "dummies = pd.get_dummies(df['regions'], prefix=None)\n",
    "dummies = dummies.astype(int)\n",
    "\n",
    "df = pd.concat([df, dummies], axis=1)\n",
    "df.sample(2)"
   ]
  },
  {
   "cell_type": "code",
   "execution_count": 5,
   "metadata": {},
   "outputs": [
    {
     "name": "stdout",
     "output_type": "stream",
     "text": [
      "Index(['total_voyageurs_2022', 'nom_gare', 'uic', 'codeinsee', 'lon_gare',\n",
      "       'lat_gare', 'codecommune', 'nomcommune', 'pop2022', 'revmoy2022',\n",
      "       'pbac2022', 'psup2022', 'pagri2022', 'pindp2022', 'pcadr2022',\n",
      "       'ppint2022', 'pempl2022', 'pouvr2022', 'pchom2022',\n",
      "       'dist_closest_station_km', 'regions', 'Auvergne-Rhône-Alpes',\n",
      "       'Bourgogne-Franche-Comté', 'Bretagne', 'Centre-Val de Loire',\n",
      "       'Grand Est', 'Hauts-de-France', 'Normandie', 'Nouvelle-Aquitaine',\n",
      "       'Occitanie', 'Pays de la Loire', 'Provence-Alpes-Côte d'Azur',\n",
      "       'Île-de-France'],\n",
      "      dtype='object')\n"
     ]
    }
   ],
   "source": [
    "print(df.columns)"
   ]
  },
  {
   "cell_type": "code",
   "execution_count": 6,
   "metadata": {},
   "outputs": [],
   "source": [
    "df['pnodip2022']=1-df['pbac2022']\n",
    "df[['pbac2022', 'psup2022', 'pnodip2022', 'pagri2022', 'pempl2022', 'pcadr2022', 'pchom2022', 'pindp2022', 'pouvr2022', 'ppint2022']]=df[['pbac2022', 'psup2022', 'pnodip2022', 'pagri2022', 'pempl2022', 'pcadr2022', 'pchom2022', 'pindp2022', 'pouvr2022', 'ppint2022']]*100"
   ]
  },
  {
   "cell_type": "markdown",
   "metadata": {},
   "source": [
    "## 2.2 Régressions simples"
   ]
  },
  {
   "cell_type": "markdown",
   "metadata": {},
   "source": [
    "On enlève des csp les professions indépendantes qui regroupe des personnes très hétérogènes pour éviter la colinéarité parfaite. On enlève la Corse pour la même raison."
   ]
  },
  {
   "cell_type": "code",
   "execution_count": 7,
   "metadata": {},
   "outputs": [
    {
     "name": "stdout",
     "output_type": "stream",
     "text": [
      "                             OLS Regression Results                             \n",
      "================================================================================\n",
      "Dep. Variable:     total_voyageurs_2022   R-squared:                       0.215\n",
      "Model:                              OLS   Adj. R-squared:                  0.209\n",
      "Method:                   Least Squares   F-statistic:                     34.65\n",
      "Date:                  Sat, 28 Dec 2024   Prob (F-statistic):          7.90e-129\n",
      "Time:                          02:54:52   Log-Likelihood:                -45685.\n",
      "No. Observations:                  2808   AIC:                         9.142e+04\n",
      "Df Residuals:                      2785   BIC:                         9.155e+04\n",
      "Df Model:                            22                                         \n",
      "Covariance Type:              nonrobust                                         \n",
      "==============================================================================================\n",
      "                                 coef    std err          t      P>|t|      [0.025      0.975]\n",
      "----------------------------------------------------------------------------------------------\n",
      "const                      -2.676e+06   1.09e+06     -2.457      0.014   -4.81e+06    -5.4e+05\n",
      "revmoy2022                    79.1134     10.708      7.388      0.000      58.117     100.110\n",
      "pop2022                       11.7061      1.185      9.878      0.000       9.382      14.030\n",
      "pnodip2022                  1.201e+04   9689.358      1.239      0.215   -6991.464     3.1e+04\n",
      "psup2022                    2.047e+04   1.09e+04      1.878      0.061    -905.203    4.18e+04\n",
      "pcadr2022                   1.031e+04   1.14e+04      0.902      0.367   -1.21e+04    3.27e+04\n",
      "pouvr2022                   1.323e+04   9858.550      1.342      0.180   -6101.249    3.26e+04\n",
      "pchom2022                    2.22e+04   1.16e+04      1.911      0.056    -583.903     4.5e+04\n",
      "pempl2022                   7165.8918   1.01e+04      0.712      0.476   -1.26e+04    2.69e+04\n",
      "ppint2022                  -9968.3039   1.01e+04     -0.984      0.325   -2.98e+04    9894.284\n",
      "pagri2022                   9294.7752   1.59e+04      0.586      0.558   -2.18e+04    4.04e+04\n",
      "dist_closest_station_km     5683.4714   1.61e+04      0.354      0.723   -2.58e+04    3.72e+04\n",
      "Auvergne-Rhône-Alpes       -4.879e+05   1.77e+05     -2.757      0.006   -8.35e+05   -1.41e+05\n",
      "Bourgogne-Franche-Comté    -4.531e+05   2.18e+05     -2.077      0.038   -8.81e+05   -2.54e+04\n",
      "Bretagne                   -3.539e+05   2.53e+05     -1.396      0.163   -8.51e+05    1.43e+05\n",
      "Centre-Val de Loire        -3.386e+05   2.37e+05     -1.427      0.154   -8.04e+05    1.27e+05\n",
      "Grand Est                  -4.084e+05   1.83e+05     -2.236      0.025   -7.67e+05   -5.02e+04\n",
      "Hauts-de-France            -2.571e+05   1.85e+05     -1.390      0.165    -6.2e+05    1.06e+05\n",
      "Normandie                  -3.476e+05    2.9e+05     -1.199      0.231   -9.16e+05    2.21e+05\n",
      "Nouvelle-Aquitaine         -3.962e+05   1.77e+05     -2.235      0.025   -7.44e+05   -4.86e+04\n",
      "Occitanie                  -6.132e+05   1.89e+05     -3.253      0.001   -9.83e+05   -2.44e+05\n",
      "Pays de la Loire           -4.737e+05   2.56e+05     -1.847      0.065   -9.77e+05    2.91e+04\n",
      "Provence-Alpes-Côte d'Azur -8.489e+05   2.49e+05     -3.410      0.001   -1.34e+06   -3.61e+05\n",
      "Île-de-France               2.303e+06   1.93e+05     11.905      0.000    1.92e+06    2.68e+06\n",
      "==============================================================================\n",
      "Omnibus:                     5577.063   Durbin-Watson:                   2.019\n",
      "Prob(Omnibus):                  0.000   Jarque-Bera (JB):         21884999.990\n",
      "Skew:                          15.486   Prob(JB):                         0.00\n",
      "Kurtosis:                     434.384   Cond. No.                     2.67e+20\n",
      "==============================================================================\n",
      "\n",
      "Notes:\n",
      "[1] Standard Errors assume that the covariance matrix of the errors is correctly specified.\n",
      "[2] The smallest eigenvalue is 1.14e-28. This might indicate that there are\n",
      "strong multicollinearity problems or that the design matrix is singular.\n"
     ]
    }
   ],
   "source": [
    "\n",
    "X = df[['revmoy2022', 'pop2022', 'pnodip2022', 'psup2022', 'pcadr2022', 'pouvr2022', 'pchom2022', 'pempl2022','ppint2022', 'pagri2022', 'dist_closest_station_km', 'Auvergne-Rhône-Alpes', 'Bourgogne-Franche-Comté', 'Bretagne', 'Centre-Val de Loire', 'Grand Est', 'Hauts-de-France', 'Normandie', 'Nouvelle-Aquitaine', 'Occitanie', 'Pays de la Loire', 'Provence-Alpes-Côte d\\'Azur', 'Île-de-France']]\n",
    "Y = df['total_voyageurs_2022']  \n",
    "\n",
    "\n",
    "\n",
    "model0 = sm.OLS(Y, sm.add_constant(X)).fit()\n",
    "\n",
    "print(model0.summary())"
   ]
  },
  {
   "cell_type": "code",
   "execution_count": 8,
   "metadata": {},
   "outputs": [
    {
     "name": "stdout",
     "output_type": "stream",
     "text": [
      "                                   Coef.      Std.Err.          t  \\\n",
      "const                      -2.676070e+06  1.089218e+06  -2.456873   \n",
      "revmoy2022                  7.911336e+01  1.070816e+01   7.388141   \n",
      "pop2022                     1.170606e+01  1.185008e+00   9.878463   \n",
      "pnodip2022                  1.200759e+04  9.689358e+03   1.239255   \n",
      "psup2022                    2.046930e+04  1.090082e+04   1.877776   \n",
      "pcadr2022                   1.030505e+04  1.142734e+04   0.901789   \n",
      "pouvr2022                   1.322956e+04  9.858550e+03   1.341937   \n",
      "pchom2022                   2.219652e+04  1.161783e+04   1.910557   \n",
      "pempl2022                   7.165892e+03  1.006170e+04   0.712195   \n",
      "ppint2022                  -9.968304e+03  1.012976e+04  -0.984062   \n",
      "pagri2022                   9.294775e+03  1.587322e+04   0.585563   \n",
      "dist_closest_station_km     5.683471e+03  1.605963e+04   0.353898   \n",
      "Auvergne-Rhône-Alpes       -4.879199e+05  1.769692e+05  -2.757089   \n",
      "Bourgogne-Franche-Comté    -4.530986e+05  2.180998e+05  -2.077483   \n",
      "Bretagne                   -3.539145e+05  2.534554e+05  -1.396358   \n",
      "Centre-Val de Loire        -3.385923e+05  2.372123e+05  -1.427381   \n",
      "Grand Est                  -4.084000e+05  1.826540e+05  -2.235921   \n",
      "Hauts-de-France            -2.571112e+05  1.850120e+05  -1.389700   \n",
      "Normandie                  -3.475511e+05  2.899256e+05  -1.198759   \n",
      "Nouvelle-Aquitaine         -3.962295e+05  1.772771e+05  -2.235086   \n",
      "Occitanie                  -6.132115e+05  1.885006e+05  -3.253102   \n",
      "Pays de la Loire           -4.737242e+05  2.564274e+05  -1.847401   \n",
      "Provence-Alpes-Côte d'Azur -8.489395e+05  2.489841e+05  -3.409613   \n",
      "Île-de-France               2.302622e+06  1.934180e+05  11.904902   \n",
      "\n",
      "                                   P>|t|        [0.025        0.975]  \n",
      "const                       1.407581e-02 -4.811826e+06 -5.403140e+05  \n",
      "revmoy2022                  1.957596e-13  5.811664e+01  1.001101e+02  \n",
      "pop2022                     1.210704e-22  9.382473e+00  1.402964e+01  \n",
      "pnodip2022                  2.153555e-01 -6.991464e+03  3.100664e+04  \n",
      "psup2022                    6.051620e-02 -9.052032e+02  4.184381e+04  \n",
      "pcadr2022                   3.672467e-01 -1.210186e+04  3.271196e+04  \n",
      "pouvr2022                   1.797257e-01 -6.101249e+03  3.256036e+04  \n",
      "pchom2022                   5.616413e-02 -5.839028e+02  4.497694e+04  \n",
      "pempl2022                   4.764036e-01 -1.256325e+04  2.689503e+04  \n",
      "ppint2022                   3.251707e-01 -2.983089e+04  9.894284e+03  \n",
      "pagri2022                   5.582163e-01 -2.182968e+04  4.041923e+04  \n",
      "dist_closest_station_km     7.234421e-01 -2.580652e+04  3.717346e+04  \n",
      "Auvergne-Rhône-Alpes        5.869871e-03 -8.349239e+05 -1.409158e+05  \n",
      "Bourgogne-Franche-Comté     3.784842e-02 -8.807522e+05 -2.544505e+04  \n",
      "Bretagne                    1.627179e-01 -8.508939e+05  1.430649e+05  \n",
      "Centre-Val de Loire         1.535823e-01 -8.037221e+05  1.265375e+05  \n",
      "Grand Est                   2.543584e-02 -7.665509e+05 -5.024907e+04  \n",
      "Hauts-de-France             1.647311e-01 -6.198857e+05  1.056634e+05  \n",
      "Normandie                   2.307235e-01 -9.160419e+05  2.209398e+05  \n",
      "Nouvelle-Aquitaine          2.549070e-02 -7.438372e+05 -4.862173e+04  \n",
      "Occitanie                   1.155161e-03 -9.828265e+05 -2.435966e+05  \n",
      "Pays de la Loire            6.479508e-02 -9.765313e+05  2.908283e+04  \n",
      "Provence-Alpes-Côte d'Azur  6.598094e-04 -1.337152e+06 -3.607273e+05  \n",
      "Île-de-France               6.544294e-32  1.923365e+06  2.681879e+06  \n"
     ]
    }
   ],
   "source": [
    "summary0_df = model0.summary2().tables[1]\n",
    "print(summary0_df)"
   ]
  },
  {
   "cell_type": "markdown",
   "metadata": {},
   "source": [
    "On obtient des coefficients significatifs sauf pour le taux de personnes sans diplôme dans la commune.\n",
    "\n",
    "Essayons de passer au logarithme du nombre de voyageurs pour capturer des non-linéarités potentielles."
   ]
  },
  {
   "cell_type": "code",
   "execution_count": 9,
   "metadata": {},
   "outputs": [
    {
     "name": "stdout",
     "output_type": "stream",
     "text": [
      "nb removed observations :  18\n"
     ]
    }
   ],
   "source": [
    "df['log_nb_voy2022']= np.log(df['total_voyageurs_2022'])\n",
    "df = delete_outliers_z_score(df, (df[\"log_nb_voy2022\"]))"
   ]
  },
  {
   "cell_type": "code",
   "execution_count": 10,
   "metadata": {},
   "outputs": [
    {
     "name": "stdout",
     "output_type": "stream",
     "text": [
      "                            OLS Regression Results                            \n",
      "==============================================================================\n",
      "Dep. Variable:         log_nb_voy2022   R-squared:                       0.378\n",
      "Model:                            OLS   Adj. R-squared:                  0.373\n",
      "Method:                 Least Squares   F-statistic:                     76.31\n",
      "Date:                Sat, 28 Dec 2024   Prob (F-statistic):          5.44e-265\n",
      "Time:                        02:55:01   Log-Likelihood:                -5742.6\n",
      "No. Observations:                2790   AIC:                         1.153e+04\n",
      "Df Residuals:                    2767   BIC:                         1.167e+04\n",
      "Df Model:                          22                                         \n",
      "Covariance Type:            nonrobust                                         \n",
      "==============================================================================================\n",
      "                                 coef    std err          t      P>|t|      [0.025      0.975]\n",
      "----------------------------------------------------------------------------------------------\n",
      "const                          6.7027      0.737      9.096      0.000       5.258       8.148\n",
      "revmoy2022                 -8.705e-06   7.22e-06     -1.206      0.228   -2.29e-05    5.45e-06\n",
      "pop2022                      7.46e-06   7.98e-07      9.347      0.000    5.89e-06    9.02e-06\n",
      "psup2022                       0.0225      0.007      3.046      0.002       0.008       0.037\n",
      "pnodip2022                     0.0137      0.007      2.079      0.038       0.001       0.027\n",
      "pcadr2022                      0.0365      0.008      4.717      0.000       0.021       0.052\n",
      "pouvr2022                      0.0154      0.007      2.301      0.021       0.002       0.028\n",
      "pchom2022                      0.0494      0.008      6.244      0.000       0.034       0.065\n",
      "pempl2022                      0.0154      0.007      2.253      0.024       0.002       0.029\n",
      "pagri2022                     -0.0693      0.011     -6.474      0.000      -0.090      -0.048\n",
      "ppint2022                      0.0108      0.007      1.571      0.116      -0.003       0.024\n",
      "dist_closest_station_km        0.0854      0.011      7.845      0.000       0.064       0.107\n",
      "Auvergne-Rhône-Alpes           0.7321      0.119      6.138      0.000       0.498       0.966\n",
      "Bourgogne-Franche-Comté        0.1635      0.147      1.111      0.267      -0.125       0.452\n",
      "Bretagne                       0.1020      0.171      0.597      0.550      -0.233       0.437\n",
      "Centre-Val de Loire            0.2862      0.160      1.790      0.074      -0.027       0.600\n",
      "Grand Est                      0.5724      0.123      4.640      0.000       0.331       0.814\n",
      "Hauts-de-France                0.1740      0.126      1.383      0.167      -0.073       0.421\n",
      "Normandie                      0.4025      0.196      2.050      0.040       0.018       0.787\n",
      "Nouvelle-Aquitaine            -0.1332      0.120     -1.113      0.266      -0.368       0.102\n",
      "Occitanie                     -0.5538      0.127     -4.345      0.000      -0.804      -0.304\n",
      "Pays de la Loire               0.6813      0.173      3.945      0.000       0.343       1.020\n",
      "Provence-Alpes-Côte d'Azur     0.8832      0.168      5.264      0.000       0.554       1.212\n",
      "Île-de-France                  3.3925      0.130     26.012      0.000       3.137       3.648\n",
      "==============================================================================\n",
      "Omnibus:                      177.510   Durbin-Watson:                   1.935\n",
      "Prob(Omnibus):                  0.000   Jarque-Bera (JB):              223.698\n",
      "Skew:                          -0.600   Prob(JB):                     2.66e-49\n",
      "Kurtosis:                       3.697   Cond. No.                     4.78e+20\n",
      "==============================================================================\n",
      "\n",
      "Notes:\n",
      "[1] Standard Errors assume that the covariance matrix of the errors is correctly specified.\n",
      "[2] The smallest eigenvalue is 3.57e-29. This might indicate that there are\n",
      "strong multicollinearity problems or that the design matrix is singular.\n"
     ]
    }
   ],
   "source": [
    "X = df[['revmoy2022', 'pop2022', 'psup2022', 'pnodip2022', 'pcadr2022', 'pouvr2022', 'pchom2022', 'pempl2022', 'pagri2022', 'ppint2022', 'dist_closest_station_km', 'Auvergne-Rhône-Alpes', 'Bourgogne-Franche-Comté', 'Bretagne', 'Centre-Val de Loire', 'Grand Est', 'Hauts-de-France', 'Normandie', 'Nouvelle-Aquitaine', 'Occitanie', 'Pays de la Loire', 'Provence-Alpes-Côte d\\'Azur', 'Île-de-France']]\n",
    "Y = df['log_nb_voy2022']  \n",
    "\n",
    "\n",
    "model1 = sm.OLS(Y, sm.add_constant(X)).fit()\n",
    "\n",
    "print(model1.summary())"
   ]
  },
  {
   "cell_type": "code",
   "execution_count": 11,
   "metadata": {},
   "outputs": [
    {
     "name": "stdout",
     "output_type": "stream",
     "text": [
      "                               Coef.      Std.Err.          t          P>|t|  \\\n",
      "const                       6.702652  7.369024e-01   9.095712   1.748567e-19   \n",
      "revmoy2022                 -0.000009  7.220003e-06  -1.205641   2.280589e-01   \n",
      "pop2022                     0.000007  7.980318e-07   9.347428   1.792319e-20   \n",
      "psup2022                    0.022550  7.404080e-03   3.045603   2.344034e-03   \n",
      "pnodip2022                  0.013663  6.572665e-03   2.078754   3.773193e-02   \n",
      "pcadr2022                   0.036514  7.741195e-03   4.716895   2.513532e-06   \n",
      "pouvr2022                   0.015380  6.684050e-03   2.300982   2.146663e-02   \n",
      "pchom2022                   0.049359  7.904476e-03   6.244441   4.907121e-10   \n",
      "pempl2022                   0.015400  6.834259e-03   2.253401   2.431186e-02   \n",
      "pagri2022                  -0.069329  1.070873e-02  -6.474094   1.124465e-10   \n",
      "ppint2022                   0.010781  6.863011e-03   1.570938   1.163114e-01   \n",
      "dist_closest_station_km     0.085401  1.088624e-02   7.844891   6.137730e-15   \n",
      "Auvergne-Rhône-Alpes        0.732107  1.192659e-01   6.138444   9.526550e-10   \n",
      "Bourgogne-Franche-Comté     0.163482  1.471414e-01   1.111051   2.666431e-01   \n",
      "Bretagne                    0.101961  1.706787e-01   0.597383   5.503004e-01   \n",
      "Centre-Val de Loire         0.286205  1.598627e-01   1.790316   7.351245e-02   \n",
      "Grand Est                   0.572423  1.233768e-01   4.639635   3.652580e-06   \n",
      "Hauts-de-France             0.173981  1.257823e-01   1.383195   1.667168e-01   \n",
      "Normandie                   0.402499  1.963216e-01   2.050202   4.043872e-02   \n",
      "Nouvelle-Aquitaine         -0.133239  1.197263e-01  -1.112867   2.658621e-01   \n",
      "Occitanie                  -0.553754  1.274600e-01  -4.344531   1.445996e-05   \n",
      "Pays de la Loire            0.681279  1.727114e-01   3.944610   8.191552e-05   \n",
      "Provence-Alpes-Côte d'Azur  0.883186  1.677756e-01   5.264089   1.516816e-07   \n",
      "Île-de-France               3.392523  1.304216e-01  26.011971  1.236655e-133   \n",
      "\n",
      "                              [0.025    0.975]  \n",
      "const                       5.257717  8.147586  \n",
      "revmoy2022                 -0.000023  0.000005  \n",
      "pop2022                     0.000006  0.000009  \n",
      "psup2022                    0.008032  0.037068  \n",
      "pnodip2022                  0.000775  0.026551  \n",
      "pcadr2022                   0.021335  0.051694  \n",
      "pouvr2022                   0.002274  0.028486  \n",
      "pchom2022                   0.033860  0.064858  \n",
      "pempl2022                   0.002000  0.028801  \n",
      "pagri2022                  -0.090327 -0.048331  \n",
      "ppint2022                  -0.002676  0.024239  \n",
      "dist_closest_station_km     0.064055  0.106747  \n",
      "Auvergne-Rhône-Alpes        0.498248  0.965966  \n",
      "Bourgogne-Franche-Comté    -0.125037  0.452000  \n",
      "Bretagne                   -0.232710  0.436631  \n",
      "Centre-Val de Loire        -0.027258  0.599667  \n",
      "Grand Est                   0.330503  0.814343  \n",
      "Hauts-de-France            -0.072655  0.420618  \n",
      "Normandie                   0.017547  0.787451  \n",
      "Nouvelle-Aquitaine         -0.368001  0.101522  \n",
      "Occitanie                  -0.803680 -0.303828  \n",
      "Pays de la Loire            0.342623  1.019935  \n",
      "Provence-Alpes-Côte d'Azur  0.554208  1.212164  \n",
      "Île-de-France               3.136789  3.648256  \n"
     ]
    }
   ],
   "source": [
    "summary1_df = model1.summary2().tables[1]\n",
    "print(summary1_df)"
   ]
  },
  {
   "cell_type": "markdown",
   "metadata": {},
   "source": [
    "On note que les coefficients sont significatifs sauf pour le revenu moyen des communes. Après avoir contrôlé pour les autres variables, et en ajustant le nombre de voyageur en logarithme, les effets du revenu ainsi que le fait de n'avoir pas de diplôme ne sont plus significatifs. En revanche, tous les autres coefficients le sont à 1% sauf la distance de la gare la plus proche, dont le coefficient est significatif à 5%. Notons que le R^2 ajusté se situe autour de 35% ce qui est élevé."
   ]
  },
  {
   "cell_type": "markdown",
   "metadata": {},
   "source": [
    "## 2.3. Ajuster notre modèle"
   ]
  },
  {
   "cell_type": "markdown",
   "metadata": {},
   "source": [
    "### 2.3.1. Distance de Cook"
   ]
  },
  {
   "cell_type": "code",
   "execution_count": 12,
   "metadata": {},
   "outputs": [
    {
     "name": "stdout",
     "output_type": "stream",
     "text": [
      "Distances de Cook: [2.81440871e-06 3.82485216e-04 2.50363373e-05 ... 5.81007862e-07\n",
      " 1.38474575e-06 1.83299898e-03]\n",
      "Indices des points influents: [False False False ... False False  True]\n",
      "153\n"
     ]
    },
    {
     "data": {
      "image/png": "[encoded data removed]",
      "text/plain": [
       "<Figure size 1000x600 with 1 Axes>"
      ]
     },
     "metadata": {},
     "output_type": "display_data"
    }
   ],
   "source": [
    "influence = model1.get_influence()\n",
    "\n",
    "cooks_d, _ = influence.cooks_distance\n",
    "print(\"Distances de Cook:\", cooks_d)\n",
    "\n",
    "threshold = 4 / len(X)\n",
    "influential_points = cooks_d > threshold\n",
    "\n",
    "print(\"Indices des points influents:\", influential_points)\n",
    "\n",
    "num_influential_points = sum(influential_points)\n",
    "print(num_influential_points)\n",
    "import matplotlib.pyplot as plt\n",
    "\n",
    "plt.figure(figsize=(10, 6))\n",
    "plt.stem(range(len(cooks_d)), cooks_d, markerfmt='o', label=\"Distance de Cook\")\n",
    "plt.axhline(y=threshold, color='r', linestyle='--', label=\"Seuil\")\n",
    "plt.xlabel(\"Index des observations\")\n",
    "plt.ylabel(\"Distance de Cook\")\n",
    "plt.title(\"Distance de Cook pour chaque observation\")\n",
    "plt.legend()\n",
    "plt.show()"
   ]
  },
  {
   "cell_type": "markdown",
   "metadata": {},
   "source": [
    "On voit que il y a peu de outliers, donc on peut continuer sans les éliminer, les outliers sont déjà éliminés grace à Z-score"
   ]
  },
  {
   "cell_type": "markdown",
   "metadata": {},
   "source": [
    "Nous allons effectuer un test de Breusch-Pagan pour détecter l’hétéroscédasticité potentielle."
   ]
  },
  {
   "cell_type": "code",
   "execution_count": 13,
   "metadata": {},
   "outputs": [
    {
     "name": "stdout",
     "output_type": "stream",
     "text": [
      "Statistique de Breusch-Pagan: 304.1164202711656\n",
      "P-valeur de Breusch-Pagan: 6.735763985691799e-51\n",
      "Statistique F: 15.386702699124701\n",
      "P-valeur F: 8.35829510139758e-55\n"
     ]
    }
   ],
   "source": [
    "test_breusch_pagan = sms.het_breuschpagan(model1.resid, model1.model.exog)\n",
    "\n",
    "lm_stat, lm_p_value, f_stat, f_p_value = test_breusch_pagan\n",
    "\n",
    "print(\"Statistique de Breusch-Pagan:\", lm_stat)\n",
    "print(\"P-valeur de Breusch-Pagan:\", lm_p_value)\n",
    "print(\"Statistique F:\", f_stat)\n",
    "print(\"P-valeur F:\", f_p_value)"
   ]
  },
  {
   "cell_type": "markdown",
   "metadata": {},
   "source": [
    "La p-value est très proche de 0 donc on peut rejeter l'hypothèse d’homoscédasticité. Essayons d'ajuster notre modèle à l'aide des erreurs standards robustes de type HC3."
   ]
  },
  {
   "cell_type": "code",
   "execution_count": 14,
   "metadata": {},
   "outputs": [
    {
     "name": "stdout",
     "output_type": "stream",
     "text": [
      "                            OLS Regression Results                            \n",
      "==============================================================================\n",
      "Dep. Variable:         log_nb_voy2022   R-squared:                       0.378\n",
      "Model:                            OLS   Adj. R-squared:                  0.373\n",
      "Method:                 Least Squares   F-statistic:                     4947.\n",
      "Date:                Sat, 28 Dec 2024   Prob (F-statistic):               0.00\n",
      "Time:                        02:55:30   Log-Likelihood:                -5742.6\n",
      "No. Observations:                2790   AIC:                         1.153e+04\n",
      "Df Residuals:                    2767   BIC:                         1.167e+04\n",
      "Df Model:                          22                                         \n",
      "Covariance Type:                  HC3                                         \n",
      "==============================================================================================\n",
      "                                 coef    std err          z      P>|z|      [0.025      0.975]\n",
      "----------------------------------------------------------------------------------------------\n",
      "const                          6.7027      0.762      8.796      0.000       5.209       8.196\n",
      "revmoy2022                 -8.705e-06   8.13e-06     -1.071      0.284   -2.46e-05    7.22e-06\n",
      "pop2022                      7.46e-06   1.94e-06      3.836      0.000    3.65e-06    1.13e-05\n",
      "psup2022                       0.0225      0.009      2.625      0.009       0.006       0.039\n",
      "pnodip2022                     0.0137      0.007      1.891      0.059      -0.001       0.028\n",
      "pcadr2022                      0.0365      0.008      4.309      0.000       0.020       0.053\n",
      "pouvr2022                      0.0154      0.007      2.226      0.026       0.002       0.029\n",
      "pchom2022                      0.0494      0.010      4.837      0.000       0.029       0.069\n",
      "pempl2022                      0.0154      0.007      2.216      0.027       0.002       0.029\n",
      "pagri2022                     -0.0693      0.012     -5.998      0.000      -0.092      -0.047\n",
      "ppint2022                      0.0108      0.007      1.597      0.110      -0.002       0.024\n",
      "dist_closest_station_km        0.0854      0.011      7.881      0.000       0.064       0.107\n",
      "Auvergne-Rhône-Alpes           0.7321      0.120      6.109      0.000       0.497       0.967\n",
      "Bourgogne-Franche-Comté        0.1635      0.136      1.201      0.230      -0.103       0.430\n",
      "Bretagne                       0.1020      0.189      0.538      0.590      -0.269       0.473\n",
      "Centre-Val de Loire            0.2862      0.167      1.717      0.086      -0.040       0.613\n",
      "Grand Est                      0.5724      0.123      4.636      0.000       0.330       0.814\n",
      "Hauts-de-France                0.1740      0.139      1.249      0.212      -0.099       0.447\n",
      "Normandie                      0.4025      0.189      2.135      0.033       0.033       0.772\n",
      "Nouvelle-Aquitaine            -0.1332      0.122     -1.096      0.273      -0.371       0.105\n",
      "Occitanie                     -0.5538      0.148     -3.750      0.000      -0.843      -0.264\n",
      "Pays de la Loire               0.6813      0.135      5.028      0.000       0.416       0.947\n",
      "Provence-Alpes-Côte d'Azur     0.8832      0.154      5.729      0.000       0.581       1.185\n",
      "Île-de-France                  3.3925      0.121     28.054      0.000       3.156       3.630\n",
      "==============================================================================\n",
      "Omnibus:                      177.510   Durbin-Watson:                   1.935\n",
      "Prob(Omnibus):                  0.000   Jarque-Bera (JB):              223.698\n",
      "Skew:                          -0.600   Prob(JB):                     2.66e-49\n",
      "Kurtosis:                       3.697   Cond. No.                     4.78e+20\n",
      "==============================================================================\n",
      "\n",
      "Notes:\n",
      "[1] Standard Errors are heteroscedasticity robust (HC3)\n",
      "[2] The smallest eigenvalue is 3.57e-29. This might indicate that there are\n",
      "strong multicollinearity problems or that the design matrix is singular.\n"
     ]
    }
   ],
   "source": [
    "model1_robust = sm.OLS(Y, sm.add_constant(X)).fit(cov_type='HC3')\n",
    "\n",
    "# Affichage des résultats avec erreurs robustes\n",
    "print(model1_robust.summary())"
   ]
  },
  {
   "cell_type": "code",
   "execution_count": 15,
   "metadata": {},
   "outputs": [
    {
     "name": "stdout",
     "output_type": "stream",
     "text": [
      "                            OLS Regression Results                            \n",
      "==============================================================================\n",
      "Dep. Variable:         log_nb_voy2022   R-squared:                       0.376\n",
      "Model:                            OLS   Adj. R-squared:                  0.372\n",
      "Method:                 Least Squares   F-statistic:                     140.3\n",
      "Date:                Sat, 28 Dec 2024   Prob (F-statistic):               0.00\n",
      "Time:                        02:56:02   Log-Likelihood:                -5746.9\n",
      "No. Observations:                2790   AIC:                         1.153e+04\n",
      "Df Residuals:                    2774   BIC:                         1.162e+04\n",
      "Df Model:                          15                                         \n",
      "Covariance Type:                  HC3                                         \n",
      "==============================================================================================\n",
      "                                 coef    std err          z      P>|z|      [0.025      0.975]\n",
      "----------------------------------------------------------------------------------------------\n",
      "const                          8.1190      0.586     13.846      0.000       6.970       9.268\n",
      "revmoy2022                 -1.037e-05   8.08e-06     -1.283      0.200   -2.62e-05    5.47e-06\n",
      "pop2022                      7.65e-06   1.94e-06      3.940      0.000    3.84e-06    1.15e-05\n",
      "psup2022                       0.0217      0.008      2.594      0.009       0.005       0.038\n",
      "pnodip2022                     0.0155      0.007      2.216      0.027       0.002       0.029\n",
      "pcadr2022                      0.0238      0.006      3.813      0.000       0.012       0.036\n",
      "pchom2022                      0.0509      0.010      5.143      0.000       0.031       0.070\n",
      "pagri2022                     -0.0845      0.009     -9.145      0.000      -0.103      -0.066\n",
      "dist_closest_station_km        0.0880      0.010      8.459      0.000       0.068       0.108\n",
      "Auvergne-Rhône-Alpes           0.5056      0.127      3.976      0.000       0.256       0.755\n",
      "Grand Est                      0.3732      0.122      3.071      0.002       0.135       0.611\n",
      "Nouvelle-Aquitaine            -0.3672      0.130     -2.826      0.005      -0.622      -0.112\n",
      "Occitanie                     -0.7968      0.160     -4.980      0.000      -1.110      -0.483\n",
      "Pays de la Loire               0.4594      0.140      3.274      0.001       0.184       0.734\n",
      "Provence-Alpes-Côte d'Azur     0.6409      0.162      3.945      0.000       0.322       0.959\n",
      "Île-de-France                  3.2077      0.124     25.855      0.000       2.965       3.451\n",
      "==============================================================================\n",
      "Omnibus:                      173.386   Durbin-Watson:                   1.936\n",
      "Prob(Omnibus):                  0.000   Jarque-Bera (JB):              217.480\n",
      "Skew:                          -0.592   Prob(JB):                     5.95e-48\n",
      "Kurtosis:                       3.686   Cond. No.                     8.01e+05\n",
      "==============================================================================\n",
      "\n",
      "Notes:\n",
      "[1] Standard Errors are heteroscedasticity robust (HC3)\n",
      "[2] The condition number is large, 8.01e+05. This might indicate that there are\n",
      "strong multicollinearity or other numerical problems.\n"
     ]
    }
   ],
   "source": [
    "column_names = X.columns  \n",
    "#perform stepwise selection algorithm to select best covariates based on AIC/BIC measure\n",
    "selected_columns = column_names[np.sort((stepwise_selection(X,Y,aic=\"aic\")))]\n",
    "#run final model on these selected variables\n",
    "model1_robust = sm.OLS(Y, sm.add_constant(X[selected_columns])).fit(cov_type='HC3')\n",
    "# Affichage des résultats avec erreurs robustes\n",
    "print(model1_robust.summary())"
   ]
  },
  {
   "cell_type": "code",
   "execution_count": 16,
   "metadata": {},
   "outputs": [
    {
     "name": "stdout",
     "output_type": "stream",
     "text": [
      "                               Coef.  Std.Err.          z          P>|z|  \\\n",
      "const                       6.857547  0.808271   8.484217   2.171768e-17   \n",
      "revmoy2022                 -0.000012  0.000008  -1.371550   1.702035e-01   \n",
      "pop2022                     0.000008  0.000002   3.859846   1.134584e-04   \n",
      "psup2022                    0.020321  0.009264   2.193510   2.827069e-02   \n",
      "pnodip2022                  0.010116  0.007818   1.293864   1.957124e-01   \n",
      "pcadr2022                   0.039222  0.009161   4.281312   1.857948e-05   \n",
      "pouvr2022                   0.020033  0.007675   2.610332   9.045450e-03   \n",
      "pchom2022                   0.045554  0.011180   4.074565   4.610042e-05   \n",
      "pempl2022                   0.013815  0.007778   1.776201   7.569979e-02   \n",
      "pagri2022                  -0.067663  0.011856  -5.706944   1.150228e-08   \n",
      "ppint2022                   0.012115  0.007470   1.621843   1.048369e-01   \n",
      "dist_closest_station_km     0.083404  0.012234   6.817654   9.253942e-12   \n",
      "Auvergne-Rhône-Alpes        0.779661  0.121706   6.406108   1.492813e-10   \n",
      "Bourgogne-Franche-Comté     0.179562  0.140595   1.277158   2.015464e-01   \n",
      "Bretagne                    0.141578  0.190420   0.743504   4.571767e-01   \n",
      "Centre-Val de Loire         0.349391  0.169375   2.062824   3.912933e-02   \n",
      "Grand Est                   0.548736  0.131068   4.186635   2.831212e-05   \n",
      "Hauts-de-France             0.036184  0.154215   0.234635   8.144921e-01   \n",
      "Normandie                   0.389617  0.207956   1.873559   6.099130e-02   \n",
      "Nouvelle-Aquitaine         -0.164494  0.129742  -1.267855   2.048497e-01   \n",
      "Occitanie                  -0.536683  0.153449  -3.497474   4.696867e-04   \n",
      "Pays de la Loire            0.720752  0.138499   5.204031   1.950112e-07   \n",
      "Provence-Alpes-Côte d'Azur  0.966513  0.157829   6.123786   9.137747e-10   \n",
      "Île-de-France               3.446729  0.124386  27.710014  5.288618e-169   \n",
      "\n",
      "                              [0.025    0.975]  \n",
      "const                       5.273364  8.441729  \n",
      "revmoy2022                 -0.000028  0.000005  \n",
      "pop2022                     0.000004  0.000011  \n",
      "psup2022                    0.002164  0.038479  \n",
      "pnodip2022                 -0.005208  0.025439  \n",
      "pcadr2022                   0.021266  0.057178  \n",
      "pouvr2022                   0.004991  0.035075  \n",
      "pchom2022                   0.023641  0.067466  \n",
      "pempl2022                  -0.001429  0.029060  \n",
      "pagri2022                  -0.090900 -0.044425  \n",
      "ppint2022                  -0.002526  0.026757  \n",
      "dist_closest_station_km     0.059427  0.107382  \n",
      "Auvergne-Rhône-Alpes        0.541122  1.018200  \n",
      "Bourgogne-Franche-Comté    -0.095999  0.455123  \n",
      "Bretagne                   -0.231638  0.514794  \n",
      "Centre-Val de Loire         0.017422  0.681361  \n",
      "Grand Est                   0.291846  0.805625  \n",
      "Hauts-de-France            -0.266071  0.338439  \n",
      "Normandie                  -0.017969  0.797203  \n",
      "Nouvelle-Aquitaine         -0.418783  0.089795  \n",
      "Occitanie                  -0.837437 -0.235929  \n",
      "Pays de la Loire            0.449300  0.992205  \n",
      "Provence-Alpes-Côte d'Azur  0.657173  1.275853  \n",
      "Île-de-France               3.202937  3.690520  \n"
     ]
    }
   ],
   "source": [
    "summary_corr_het_df = model1_robust.summary2().tables[1]\n",
    "print(summary_corr_het_df)"
   ]
  },
  {
   "cell_type": "markdown",
   "metadata": {},
   "source": [
    "Augmenter d'un point de pourcentage la proportion de cadre dans la commune augmente de 0.02% le nombre de voyageur dans une gare. Le coefficient ne peut pas être interprété comme un effect causal dû à l'endogénéité du modèle. La densité de population peut être perçue comme un biais de variable oubliée.  "
   ]
  },
  {
   "cell_type": "markdown",
   "metadata": {},
   "source": [
    "# 3. Conclusion"
   ]
  },
  {
   "cell_type": "markdown",
   "metadata": {},
   "source": [
    "Nous avons montrer qu'il existe un lien entre le pourcentage de catégories socio-professionnels et le nombre de voyageurs dans les communes. Cela ne suffit pas à en déduire un lien causal dû à l'endogénéité du modèle. Cela ne nous donne pas un modèle causal mais un modèle de prédiction. Il faudrait ajouter certaines variables comme les variables de densité de population ou de types de transports utilisés. "
   ]
  }
 ],
 "metadata": {
  "kernelspec": {
   "display_name": "base",
   "language": "python",
   "name": "python3"
  },
  "language_info": {
   "codemirror_mode": {
    "name": "ipython",
    "version": 3
   },
   "file_extension": ".py",
   "mimetype": "text/x-python",
   "name": "python",
   "nbconvert_exporter": "python",
   "pygments_lexer": "ipython3",
   "version": "3.12.7"
  }
 },
 "nbformat": 4,
 "nbformat_minor": 2
}
