{
 "cells": [
  {
   "cell_type": "markdown",
   "metadata": {},
   "source": [
    "# Importation des packages et connexion au S3"
   ]
  },
  {
   "cell_type": "code",
   "execution_count": null,
   "metadata": {},
   "outputs": [],
   "source": [
    "from helpers import *\n",
    "import pandas as pd\n",
    "import statsmodels.api as sm\n",
    "import matplotlib.pyplot as plt\n",
    "pd.set_option('display.float_format', '{:.2f}'.format)\n"
   ]
  },
  {
   "cell_type": "code",
   "execution_count": 2,
   "metadata": {},
   "outputs": [
    {
     "name": "stdout",
     "output_type": "stream",
     "text": [
      "connection successful\n"
     ]
    }
   ],
   "source": [
    "s3=s3_connection()"
   ]
  },
  {
   "cell_type": "markdown",
   "metadata": {},
   "source": [
    "# 1. La motivation"
   ]
  },
  {
   "cell_type": "code",
   "execution_count": 3,
   "metadata": {},
   "outputs": [
    {
     "name": "stdout",
     "output_type": "stream",
     "text": [
      "        pop2022  revmoy2022  psup2022  pcadr2022\n",
      "count  36632.00    34720.00  35222.00   35065.00\n",
      "mean    1829.92    17049.74      0.27       0.12\n",
      "std     9954.65     5194.78      0.17       0.13\n",
      "min        0.00     3350.48      0.00       0.00\n",
      "25%      182.00    14011.97      0.16       0.00\n",
      "50%      428.00    16321.86      0.26       0.08\n",
      "75%     1116.00    19124.01      0.37       0.18\n",
      "max   875791.00   126903.91      1.00       1.00\n"
     ]
    }
   ],
   "source": [
    "regional_stat=s3.get_tables_from_s3(\"clichere/diffusion/final_comm.parquet\")\n",
    "print(regional_stat[[\"pop2022\", \"revmoy2022\", \"psup2022\", \"pcadr2022\"]].describe())"
   ]
  },
  {
   "cell_type": "code",
   "execution_count": 28,
   "metadata": {},
   "outputs": [
    {
     "name": "stdout",
     "output_type": "stream",
     "text": [
      "        pop2022  revmoy2022  psup2022  pcadr2022\n",
      "count   2808.00     2808.00   2808.00    2808.00\n",
      "mean   18078.54    18221.52      0.29       0.14\n",
      "std    50290.90     6608.60      0.13       0.11\n",
      "min       55.00     5818.04      0.00       0.00\n",
      "25%     1570.25    14922.08      0.20       0.07\n",
      "50%     4067.50    16931.46      0.28       0.12\n",
      "75%    12203.00    19639.30      0.37       0.19\n",
      "max   875791.00   107572.81      1.00       0.82\n"
     ]
    }
   ],
   "source": [
    "df=s3.get_tables_from_s3(\"aayrapetyan/diffusion/final_table.parquet\")\n",
    "print(df[[\"pop2022\", \"revmoy2022\", \"psup2022\", \"pcadr2022\"]].describe())"
   ]
  },
  {
   "cell_type": "markdown",
   "metadata": {},
   "source": [
    "On voit que la population moyenne diminue lorsque l'on sélectionne les communes ayant une gare. Cela correspond au fait que les petites communes ont moins de chance d'avoir une gare. On passe de 36000 communes à 2800 communes, ce qui donne tout de même beaucoup d'observations. On remarque que le revenu moyen d'une commune en France est plus élevé lorsque l'on sélectionne seulement les communes comprenant une gare. De même, les personnes sont en moyenne plus diplômée et appartiennent aux catégories socio-professionnelles plus élevées également. "
   ]
  },
  {
   "cell_type": "markdown",
   "metadata": {},
   "source": [
    "On veut montrer qu'il existe un lien entre le revenu, la catégorie socio-professionnelle (csp) et le fait de prendre un train en France. Pour cela, on effectue une régression linéaire avec le nombre total de voyageurs comme variable dépendante. Notre but est d'expliquer pourquoi est-ce que cette variable est différente en fonction des communes, en contrôlant par la population de la commune. Les premières visualisations et les premières données suggèrent qu'il peut y avoir un lien entre son revenu et le fait de prendre un train."
   ]
  },
  {
   "cell_type": "code",
   "execution_count": 25,
   "metadata": {},
   "outputs": [
    {
     "name": "stdout",
     "output_type": "stream",
     "text": [
      "Index(['total_voyageurs_2022', 'nom_gare', 'uic', 'codeinsee', 'lon_gare', 'lat_gare', 'codecommune', 'nomcommune', 'pop2022', 'revmoy2022', 'pbac2022', 'psup2022', 'pagri2022', 'pindp2022', 'pcadr2022', 'ppint2022', 'pempl2022', 'pouvr2022', 'pchom2022', 'dist_closest_station_km', 'regions'], dtype='object')\n"
     ]
    }
   ],
   "source": [
    "print(df.columns)"
   ]
  },
  {
   "cell_type": "markdown",
   "metadata": {},
   "source": [
    "# 2. Régressions"
   ]
  },
  {
   "cell_type": "code",
   "execution_count": 29,
   "metadata": {},
   "outputs": [
    {
     "name": "stdout",
     "output_type": "stream",
     "text": [
      "      total_voyageurs_2022               nom_gare       uic codeinsee  lon_gare  lat_gare codecommune             nomcommune  pop2022  revmoy2022  pbac2022  psup2022  pagri2022  pindp2022  pcadr2022  ppint2022  pempl2022  pouvr2022  pchom2022  dist_closest_station_km                     regions  Auvergne-Rhône-Alpes  Bourgogne-Franche-Comté  Bretagne  Centre-Val de Loire  Grand Est  Hauts-de-France  Normandie  Nouvelle-Aquitaine  Occitanie  Pays de la Loire  Provence-Alpes-Côte d'Azur  Île-de-France\n",
      "0                    40825               Abbaretz  87481614     44001     -1.52     47.55       44001               ABBARETZ  2257.00    12567.25      0.27      0.17       0.06       0.02       0.05       0.14       0.31       0.42       0.04                     9.75            Pays de la Loire                     0                        0         0                    0          0                0          0                   0          0                 1                           0              0\n",
      "1                   177092  Achères Grand Cormier  87386052     78551      2.09     48.96       78551  SAINT-GERMAIN-EN-LAYE 39172.00    41601.99      0.80      0.64       0.00       0.04       0.39       0.27       0.23       0.07       0.06                     1.97               Île-de-France                     0                        0         0                    0          0                0          0                   0          0                 0                           0              1\n",
      "2                    80648        Achiet-le-Grand  87342048     62005      2.78     50.13       62005        ACHIET-LE-GRAND   888.00    15813.03      0.42      0.34       0.00       0.00       0.11       0.35       0.16       0.38       0.08                     4.22             Hauts-de-France                     0                        0         0                    0          0                1          0                   0          0                 0                           0              0\n",
      "3                    32800                   Agay  87757559     83118      6.86     43.43       83118          SAINT-RAPHAEL 37114.00    26637.97      0.55      0.34       0.00       0.13       0.13       0.25       0.35       0.13       0.10                     1.80  Provence-Alpes-Côte d'Azur                     0                        0         0                    0          0                0          0                   0          0                 0                           1              0\n",
      "4                    11325          Aigues-Mortes  87775858     30003      4.19     43.57       30003          AIGUES-MORTES  8076.00    20798.90      0.37      0.20       0.01       0.14       0.08       0.21       0.39       0.17       0.11                     5.56                   Occitanie                     0                        0         0                    0          0                0          0                   0          1                 0                           0              0\n",
      "...                    ...                    ...       ...       ...       ...       ...         ...                    ...      ...         ...       ...       ...        ...        ...        ...        ...        ...        ...        ...                      ...                         ...                   ...                      ...       ...                  ...        ...              ...        ...                 ...        ...               ...                         ...            ...\n",
      "2803                176599             Weyersheim  87213678     67529      7.80     48.72       67529             WEYERSHEIM  3365.00    21737.75      0.40      0.26       0.01       0.15       0.23       0.33       0.22       0.07       0.03                     2.10                   Grand Est                     0                        0         0                    0          1                0          0                   0          0                 0                           0              0\n",
      "2804                 30849        Willer-sur-Thur  87182584     68372      7.07     47.84       68372        WILLER-SUR-THUR  1735.00    18620.66      0.38      0.13       0.00       0.09       0.09       0.23       0.24       0.34       0.04                     1.82                   Grand Est                     0                        0         0                    0          1                0          0                   0          0                 0                           0              0\n",
      "2805                 37020     Wimille - Wimereux  87317123     62894      1.61     50.76       62894                WIMILLE  4062.00    19524.12      0.40      0.28       0.01       0.07       0.15       0.27       0.21       0.30       0.06                     4.08             Hauts-de-France                     0                        0         0                    0          0                1          0                   0          0                 0                           0              0\n",
      "2806                 38618    Ygos-Saint-Saturnin  87671487     40333     -0.74     43.98       40333    YGOS-SAINT-SATURNIN  1490.00    15004.68      0.46      0.28       0.00       0.08       0.11       0.17       0.33       0.32       0.09                     6.68          Nouvelle-Aquitaine                     0                        0         0                    0          0                0          0                   1          0                 0                           0              0\n",
      "2807                   139                  Ytrac  87645101     15267      2.36     44.91       15267                  YTRAC  4598.00    18109.14      0.47      0.26       0.03       0.01       0.16       0.31       0.32       0.16       0.01                     5.73        Auvergne-Rhône-Alpes                     1                        0         0                    0          0                0          0                   0          0                 0                           0              0\n",
      "\n",
      "[2808 rows x 33 columns]\n"
     ]
    }
   ],
   "source": [
    "dummies = pd.get_dummies(df['regions'], prefix=None)\n",
    "dummies = dummies.astype(int)\n",
    "\n",
    "df = pd.concat([df, dummies], axis=1)\n",
    "print(df)"
   ]
  },
  {
   "cell_type": "code",
   "execution_count": 31,
   "metadata": {},
   "outputs": [
    {
     "name": "stdout",
     "output_type": "stream",
     "text": [
      "Index(['total_voyageurs_2022', 'nom_gare', 'uic', 'codeinsee', 'lon_gare', 'lat_gare', 'codecommune', 'nomcommune', 'pop2022', 'revmoy2022', 'pbac2022', 'psup2022', 'pagri2022', 'pindp2022', 'pcadr2022', 'ppint2022', 'pempl2022', 'pouvr2022', 'pchom2022', 'dist_closest_station_km', 'regions', 'Auvergne-Rhône-Alpes', 'Bourgogne-Franche-Comté', 'Bretagne', 'Centre-Val de Loire', 'Grand Est', 'Hauts-de-France', 'Normandie', 'Nouvelle-Aquitaine', 'Occitanie', 'Pays de la Loire', 'Provence-Alpes-Côte d'Azur', 'Île-de-France', 'pnodip2022'], dtype='object')\n"
     ]
    }
   ],
   "source": [
    "print(df.columns)"
   ]
  },
  {
   "cell_type": "code",
   "execution_count": 30,
   "metadata": {},
   "outputs": [],
   "source": [
    "df['pnodip2022']=1-df['pbac2022']\n",
    "df[['pbac2022', 'psup2022', 'pnodip2022', 'pagri2022', 'pempl2022', 'pcadr2022', 'pchom2022', 'pindp2022', 'pouvr2022', 'ppint2022']]=df[['pbac2022', 'psup2022', 'pnodip2022', 'pagri2022', 'pempl2022', 'pcadr2022', 'pchom2022', 'pindp2022', 'pouvr2022', 'ppint2022']]*100"
   ]
  },
  {
   "cell_type": "code",
   "execution_count": 34,
   "metadata": {},
   "outputs": [
    {
     "name": "stdout",
     "output_type": "stream",
     "text": [
      "                             OLS Regression Results                             \n",
      "================================================================================\n",
      "Dep. Variable:     total_voyageurs_2022   R-squared:                       0.215\n",
      "Model:                              OLS   Adj. R-squared:                  0.209\n",
      "Method:                   Least Squares   F-statistic:                     34.65\n",
      "Date:                  Mon, 23 Dec 2024   Prob (F-statistic):          7.90e-129\n",
      "Time:                          16:10:25   Log-Likelihood:                -45685.\n",
      "No. Observations:                  2808   AIC:                         9.142e+04\n",
      "Df Residuals:                      2785   BIC:                         9.155e+04\n",
      "Df Model:                            22                                         \n",
      "Covariance Type:              nonrobust                                         \n",
      "==============================================================================================\n",
      "                                 coef    std err          t      P>|t|      [0.025      0.975]\n",
      "----------------------------------------------------------------------------------------------\n",
      "const                      -2.676e+06   1.09e+06     -2.457      0.014   -4.81e+06    -5.4e+05\n",
      "revmoy2022                    79.1134     10.708      7.388      0.000      58.117     100.110\n",
      "pop2022                       11.7061      1.185      9.878      0.000       9.382      14.030\n",
      "pnodip2022                  1.201e+04   9689.358      1.239      0.215   -6991.464     3.1e+04\n",
      "psup2022                    2.047e+04   1.09e+04      1.878      0.061    -905.203    4.18e+04\n",
      "pcadr2022                   1.031e+04   1.14e+04      0.902      0.367   -1.21e+04    3.27e+04\n",
      "pouvr2022                   1.323e+04   9858.550      1.342      0.180   -6101.249    3.26e+04\n",
      "pchom2022                    2.22e+04   1.16e+04      1.911      0.056    -583.903     4.5e+04\n",
      "pempl2022                   7165.8918   1.01e+04      0.712      0.476   -1.26e+04    2.69e+04\n",
      "ppint2022                  -9968.3039   1.01e+04     -0.984      0.325   -2.98e+04    9894.284\n",
      "pagri2022                   9294.7752   1.59e+04      0.586      0.558   -2.18e+04    4.04e+04\n",
      "dist_closest_station_km     5683.4714   1.61e+04      0.354      0.723   -2.58e+04    3.72e+04\n",
      "Auvergne-Rhône-Alpes       -4.879e+05   1.77e+05     -2.757      0.006   -8.35e+05   -1.41e+05\n",
      "Bourgogne-Franche-Comté    -4.531e+05   2.18e+05     -2.077      0.038   -8.81e+05   -2.54e+04\n",
      "Bretagne                   -3.539e+05   2.53e+05     -1.396      0.163   -8.51e+05    1.43e+05\n",
      "Centre-Val de Loire        -3.386e+05   2.37e+05     -1.427      0.154   -8.04e+05    1.27e+05\n",
      "Grand Est                  -4.084e+05   1.83e+05     -2.236      0.025   -7.67e+05   -5.02e+04\n",
      "Hauts-de-France            -2.571e+05   1.85e+05     -1.390      0.165    -6.2e+05    1.06e+05\n",
      "Normandie                  -3.476e+05    2.9e+05     -1.199      0.231   -9.16e+05    2.21e+05\n",
      "Nouvelle-Aquitaine         -3.962e+05   1.77e+05     -2.235      0.025   -7.44e+05   -4.86e+04\n",
      "Occitanie                  -6.132e+05   1.89e+05     -3.253      0.001   -9.83e+05   -2.44e+05\n",
      "Pays de la Loire           -4.737e+05   2.56e+05     -1.847      0.065   -9.77e+05    2.91e+04\n",
      "Provence-Alpes-Côte d'Azur -8.489e+05   2.49e+05     -3.410      0.001   -1.34e+06   -3.61e+05\n",
      "Île-de-France               2.303e+06   1.93e+05     11.905      0.000    1.92e+06    2.68e+06\n",
      "==============================================================================\n",
      "Omnibus:                     5577.063   Durbin-Watson:                   2.019\n",
      "Prob(Omnibus):                  0.000   Jarque-Bera (JB):         21884999.990\n",
      "Skew:                          15.486   Prob(JB):                         0.00\n",
      "Kurtosis:                     434.384   Cond. No.                     2.67e+20\n",
      "==============================================================================\n",
      "\n",
      "Notes:\n",
      "[1] Standard Errors assume that the covariance matrix of the errors is correctly specified.\n",
      "[2] The smallest eigenvalue is 1.14e-28. This might indicate that there are\n",
      "strong multicollinearity problems or that the design matrix is singular.\n"
     ]
    }
   ],
   "source": [
    "\n",
    "X = df[['revmoy2022', 'pop2022', 'pnodip2022', 'psup2022', 'pcadr2022', 'pouvr2022', 'pchom2022', 'pempl2022','ppint2022', 'pagri2022', 'dist_closest_station_km', 'Auvergne-Rhône-Alpes', 'Bourgogne-Franche-Comté', 'Bretagne', 'Centre-Val de Loire', 'Grand Est', 'Hauts-de-France', 'Normandie', 'Nouvelle-Aquitaine', 'Occitanie', 'Pays de la Loire', 'Provence-Alpes-Côte d\\'Azur', 'Île-de-France']]\n",
    "Y = df['total_voyageurs_2022']  \n",
    "\n",
    "X = sm.add_constant(X)\n",
    "\n",
    "model0 = sm.OLS(Y, X).fit()\n",
    "\n",
    "print(model0.summary())"
   ]
  },
  {
   "cell_type": "code",
   "execution_count": 35,
   "metadata": {},
   "outputs": [
    {
     "name": "stdout",
     "output_type": "stream",
     "text": [
      "                                 Coef.   Std.Err.     t  P>|t|      [0.025     0.975]\n",
      "const                      -2676070.24 1089217.99 -2.46   0.01 -4811826.46 -540314.01\n",
      "revmoy2022                       79.11      10.71  7.39   0.00       58.12     100.11\n",
      "pop2022                          11.71       1.19  9.88   0.00        9.38      14.03\n",
      "pnodip2022                    12007.59    9689.36  1.24   0.22    -6991.46   31006.64\n",
      "psup2022                      20469.30   10900.82  1.88   0.06     -905.20   41843.81\n",
      "pcadr2022                     10305.05   11427.34  0.90   0.37   -12101.86   32711.96\n",
      "pouvr2022                     13229.56    9858.55  1.34   0.18    -6101.25   32560.36\n",
      "pchom2022                     22196.52   11617.83  1.91   0.06     -583.90   44976.94\n",
      "pempl2022                      7165.89   10061.70  0.71   0.48   -12563.25   26895.03\n",
      "ppint2022                     -9968.30   10129.76 -0.98   0.33   -29830.89    9894.28\n",
      "pagri2022                      9294.78   15873.22  0.59   0.56   -21829.68   40419.23\n",
      "dist_closest_station_km        5683.47   16059.63  0.35   0.72   -25806.52   37173.46\n",
      "Auvergne-Rhône-Alpes        -487919.87  176969.20 -2.76   0.01  -834923.93 -140915.80\n",
      "Bourgogne-Franche-Comté     -453098.62  218099.78 -2.08   0.04  -880752.19  -25445.05\n",
      "Bretagne                    -353914.49  253455.37 -1.40   0.16  -850893.87  143064.90\n",
      "Centre-Val de Loire         -338592.29  237212.33 -1.43   0.15  -803722.05  126537.48\n",
      "Grand Est                   -408399.98  182654.00 -2.24   0.03  -766550.88  -50249.07\n",
      "Hauts-de-France             -257111.18  185012.01 -1.39   0.16  -619885.72  105663.36\n",
      "Normandie                   -347551.07  289925.64 -1.20   0.23  -916041.94  220939.81\n",
      "Nouvelle-Aquitaine          -396229.46  177277.06 -2.24   0.03  -743837.19  -48621.73\n",
      "Occitanie                   -613211.54  188500.56 -3.25   0.00  -982826.48 -243596.59\n",
      "Pays de la Loire            -473724.22  256427.43 -1.85   0.06  -976531.28   29082.83\n",
      "Provence-Alpes-Côte d'Azur  -848939.46  248984.14 -3.41   0.00 -1337151.58 -360727.33\n",
      "Île-de-France               2302621.93  193417.96 11.90   0.00  1923364.87 2681878.99\n"
     ]
    }
   ],
   "source": [
    "summary0_df = model0.summary2().tables[1]\n",
    "print(summary0_df)"
   ]
  },
  {
   "cell_type": "markdown",
   "metadata": {},
   "source": [
    "On enlève des csp les professions indépendantes qui regroupe des personnes très hétérogènes pour éviter la colinéarité parfaite. On obtient des coefficients significatifs sauf pour le taux de personnes sans diplôme dans la commune.\n",
    "\n",
    "Essayons de passer au logarithme du nombre de voyageurs pour capturer des non-linéarités potentielles."
   ]
  },
  {
   "cell_type": "code",
   "execution_count": 36,
   "metadata": {},
   "outputs": [],
   "source": [
    "df['log_nb_voy2022']= np.log(df['total_voyageurs_2022'])"
   ]
  },
  {
   "cell_type": "code",
   "execution_count": 37,
   "metadata": {},
   "outputs": [
    {
     "name": "stdout",
     "output_type": "stream",
     "text": [
      "                            OLS Regression Results                            \n",
      "==============================================================================\n",
      "Dep. Variable:         log_nb_voy2022   R-squared:                       0.358\n",
      "Model:                            OLS   Adj. R-squared:                  0.353\n",
      "Method:                 Least Squares   F-statistic:                     70.72\n",
      "Date:                Mon, 23 Dec 2024   Prob (F-statistic):          1.07e-248\n",
      "Time:                        16:12:13   Log-Likelihood:                -5934.5\n",
      "No. Observations:                2808   AIC:                         1.191e+04\n",
      "Df Residuals:                    2785   BIC:                         1.205e+04\n",
      "Df Model:                          22                                         \n",
      "Covariance Type:            nonrobust                                         \n",
      "==============================================================================================\n",
      "                                 coef    std err          t      P>|t|      [0.025      0.975]\n",
      "----------------------------------------------------------------------------------------------\n",
      "const                          6.8575      0.775      8.852      0.000       5.339       8.377\n",
      "revmoy2022                 -1.164e-05   7.62e-06     -1.528      0.127   -2.66e-05    3.29e-06\n",
      "pop2022                     7.597e-06   8.43e-07      9.014      0.000    5.94e-06    9.25e-06\n",
      "psup2022                       0.0203      0.008      2.621      0.009       0.005       0.036\n",
      "pnodip2022                     0.0101      0.007      1.468      0.142      -0.003       0.024\n",
      "pcadr2022                      0.0392      0.008      4.826      0.000       0.023       0.055\n",
      "pouvr2022                      0.0200      0.007      2.857      0.004       0.006       0.034\n",
      "pchom2022                      0.0456      0.008      5.513      0.000       0.029       0.062\n",
      "pempl2022                      0.0138      0.007      1.931      0.054      -0.000       0.028\n",
      "pagri2022                     -0.0677      0.011     -5.993      0.000      -0.090      -0.046\n",
      "ppint2022                      0.0121      0.007      1.682      0.093      -0.002       0.026\n",
      "dist_closest_station_km        0.0834      0.011      7.302      0.000       0.061       0.106\n",
      "Auvergne-Rhône-Alpes           0.7797      0.126      6.194      0.000       0.533       1.026\n",
      "Bourgogne-Franche-Comté        0.1796      0.155      1.158      0.247      -0.125       0.484\n",
      "Bretagne                       0.1416      0.180      0.785      0.432      -0.212       0.495\n",
      "Centre-Val de Loire            0.3494      0.169      2.071      0.038       0.019       0.680\n",
      "Grand Est                      0.5487      0.130      4.224      0.000       0.294       0.803\n",
      "Hauts-de-France                0.0362      0.132      0.275      0.783      -0.222       0.294\n",
      "Normandie                      0.3896      0.206      1.889      0.059      -0.015       0.794\n",
      "Nouvelle-Aquitaine            -0.1645      0.126     -1.305      0.192      -0.412       0.083\n",
      "Occitanie                     -0.5367      0.134     -4.003      0.000      -0.800      -0.274\n",
      "Pays de la Loire               0.7208      0.182      3.952      0.000       0.363       1.078\n",
      "Provence-Alpes-Côte d'Azur     0.9665      0.177      5.458      0.000       0.619       1.314\n",
      "Île-de-France                  3.4467      0.138     25.055      0.000       3.177       3.716\n",
      "==============================================================================\n",
      "Omnibus:                      401.819   Durbin-Watson:                   1.926\n",
      "Prob(Omnibus):                  0.000   Jarque-Bera (JB):              786.575\n",
      "Skew:                          -0.883   Prob(JB):                    1.58e-171\n",
      "Kurtosis:                       4.899   Cond. No.                     2.61e+20\n",
      "==============================================================================\n",
      "\n",
      "Notes:\n",
      "[1] Standard Errors assume that the covariance matrix of the errors is correctly specified.\n",
      "[2] The smallest eigenvalue is 1.2e-28. This might indicate that there are\n",
      "strong multicollinearity problems or that the design matrix is singular.\n"
     ]
    }
   ],
   "source": [
    "X = df[['revmoy2022', 'pop2022', 'psup2022', 'pnodip2022', 'pcadr2022', 'pouvr2022', 'pchom2022', 'pempl2022', 'pagri2022', 'ppint2022', 'dist_closest_station_km', 'Auvergne-Rhône-Alpes', 'Bourgogne-Franche-Comté', 'Bretagne', 'Centre-Val de Loire', 'Grand Est', 'Hauts-de-France', 'Normandie', 'Nouvelle-Aquitaine', 'Occitanie', 'Pays de la Loire', 'Provence-Alpes-Côte d\\'Azur', 'Île-de-France']]\n",
    "Y = df['log_nb_voy2022']  \n",
    "\n",
    "X = sm.add_constant(X)\n",
    "\n",
    "model1 = sm.OLS(Y, X).fit()\n",
    "\n",
    "print(model1.summary())"
   ]
  },
  {
   "cell_type": "code",
   "execution_count": 38,
   "metadata": {},
   "outputs": [
    {
     "name": "stdout",
     "output_type": "stream",
     "text": [
      "                            Coef.  Std.Err.     t  P>|t|  [0.025  0.975]\n",
      "const                        6.86      0.77  8.85   0.00    5.34    8.38\n",
      "revmoy2022                  -0.00      0.00 -1.53   0.13   -0.00    0.00\n",
      "pop2022                      0.00      0.00  9.01   0.00    0.00    0.00\n",
      "psup2022                     0.02      0.01  2.62   0.01    0.01    0.04\n",
      "pnodip2022                   0.01      0.01  1.47   0.14   -0.00    0.02\n",
      "pcadr2022                    0.04      0.01  4.83   0.00    0.02    0.06\n",
      "pouvr2022                    0.02      0.01  2.86   0.00    0.01    0.03\n",
      "pchom2022                    0.05      0.01  5.51   0.00    0.03    0.06\n",
      "pempl2022                    0.01      0.01  1.93   0.05   -0.00    0.03\n",
      "pagri2022                   -0.07      0.01 -5.99   0.00   -0.09   -0.05\n",
      "ppint2022                    0.01      0.01  1.68   0.09   -0.00    0.03\n",
      "dist_closest_station_km      0.08      0.01  7.30   0.00    0.06    0.11\n",
      "Auvergne-Rhône-Alpes         0.78      0.13  6.19   0.00    0.53    1.03\n",
      "Bourgogne-Franche-Comté      0.18      0.16  1.16   0.25   -0.12    0.48\n",
      "Bretagne                     0.14      0.18  0.79   0.43   -0.21    0.50\n",
      "Centre-Val de Loire          0.35      0.17  2.07   0.04    0.02    0.68\n",
      "Grand Est                    0.55      0.13  4.22   0.00    0.29    0.80\n",
      "Hauts-de-France              0.04      0.13  0.27   0.78   -0.22    0.29\n",
      "Normandie                    0.39      0.21  1.89   0.06   -0.01    0.79\n",
      "Nouvelle-Aquitaine          -0.16      0.13 -1.30   0.19   -0.41    0.08\n",
      "Occitanie                   -0.54      0.13 -4.00   0.00   -0.80   -0.27\n",
      "Pays de la Loire             0.72      0.18  3.95   0.00    0.36    1.08\n",
      "Provence-Alpes-Côte d'Azur   0.97      0.18  5.46   0.00    0.62    1.31\n",
      "Île-de-France                3.45      0.14 25.06   0.00    3.18    3.72\n"
     ]
    }
   ],
   "source": [
    "summary1_df = model1.summary2().tables[1]\n",
    "print(summary1_df)"
   ]
  },
  {
   "cell_type": "markdown",
   "metadata": {},
   "source": [
    "On note que les coefficients sont significatifs sauf pour le revenu moyen des communes. Après avoir contrôlé pour les autres variables, et en ajustant le nombre de voyageur en logarithme, les effets du revenu ainsi que le fait de n'avoir pas de diplôme ne sont plus significatifs. En revanche, tous les autres coefficients le sont à 1% sauf la distance de la gare la plus proche, dont le coefficient est significatif à 5%. Notons que le R^2 ajusté se situe autour de 19% ce qui est assez élevé.\n",
    "\n",
    "Nous allons "
   ]
  },
  {
   "cell_type": "code",
   "execution_count": null,
   "metadata": {},
   "outputs": [],
   "source": []
  },
  {
   "cell_type": "markdown",
   "metadata": {},
   "source": [
    "Augmenter d'un point de pourcentage la proportion de cadre dans la commune augmente de 0.07% le nombre de voyageur dans une gare. Le coefficient ne peut pas être interprété comme un effect causal dû à l'endogénéité du modèle. La densité de population peut être perçue comme un biais de variable oubliée.  "
   ]
  },
  {
   "cell_type": "markdown",
   "metadata": {},
   "source": [
    "# 3. Conclusion"
   ]
  },
  {
   "cell_type": "markdown",
   "metadata": {},
   "source": [
    "Nous avons montrer qu'il existe un lien entre le pourcentage de catégories socio-professionnels et le nombre de voyageurs dans les communes. Cela ne suffit pas à en déduire un lien causal à cause de l'endogénéité du modèle. Cela ne nous donne pas un modèle causal mais un modèle de prédiction. Il faudrait ajouter certaines variables comme les variables de densité de population ou de types de transports utilisés. "
   ]
  }
 ],
 "metadata": {
  "kernelspec": {
   "display_name": "base",
   "language": "python",
   "name": "python3"
  },
  "language_info": {
   "codemirror_mode": {
    "name": "ipython",
    "version": 3
   },
   "file_extension": ".py",
   "mimetype": "text/x-python",
   "name": "python",
   "nbconvert_exporter": "python",
   "pygments_lexer": "ipython3",
   "version": "3.12.7"
  }
 },
 "nbformat": 4,
 "nbformat_minor": 2
}
