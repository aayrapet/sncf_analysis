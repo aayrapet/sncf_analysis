{
 "cells": [
  {
   "cell_type": "markdown",
   "metadata": {},
   "source": [
    "# Importation des packages et connexion au S3"
   ]
  },
  {
   "cell_type": "code",
   "execution_count": 1,
   "metadata": {},
   "outputs": [],
   "source": [
    "from helpers import *\n",
    "import pandas as pd\n",
    "import statsmodels.api as sm\n",
    "import matplotlib.pyplot as plt\n",
    "pd.set_option('display.float_format', '{:.2f}'.format)"
   ]
  },
  {
   "cell_type": "code",
   "execution_count": 2,
   "metadata": {},
   "outputs": [
    {
     "name": "stdout",
     "output_type": "stream",
     "text": [
      "connection successful\n"
     ]
    }
   ],
   "source": [
    "s3=s3_connection()"
   ]
  },
  {
   "cell_type": "markdown",
   "metadata": {},
   "source": [
    "# 1. La motivation"
   ]
  },
  {
   "cell_type": "code",
   "execution_count": 3,
   "metadata": {},
   "outputs": [
    {
     "name": "stdout",
     "output_type": "stream",
     "text": [
      "        pop2022  revmoy2022  psup2022  pcadr2022\n",
      "count  36632.00    34720.00  35222.00   35065.00\n",
      "mean    1829.92    17049.74      0.27       0.12\n",
      "std     9954.65     5194.78      0.17       0.13\n",
      "min        0.00     3350.48      0.00       0.00\n",
      "25%      182.00    14011.97      0.16       0.00\n",
      "50%      428.00    16321.86      0.26       0.08\n",
      "75%     1116.00    19124.01      0.37       0.18\n",
      "max   875791.00   126903.91      1.00       1.00\n"
     ]
    }
   ],
   "source": [
    "regional_stat=s3.get_tables_from_s3(\"clichere/diffusion/final_comm.parquet\")\n",
    "print(regional_stat[[\"pop2022\", \"revmoy2022\", \"psup2022\", \"pcadr2022\"]].describe())"
   ]
  },
  {
   "cell_type": "code",
   "execution_count": 4,
   "metadata": {},
   "outputs": [
    {
     "name": "stdout",
     "output_type": "stream",
     "text": [
      "        pop2022  revmoy2022  psup2022  pcadr2022\n",
      "count   2808.00     2808.00   2808.00    2808.00\n",
      "mean   18078.54    18221.52      0.29       0.14\n",
      "std    50290.90     6608.60      0.13       0.11\n",
      "min       55.00     5818.04      0.00       0.00\n",
      "25%     1570.25    14922.08      0.20       0.07\n",
      "50%     4067.50    16931.46      0.28       0.12\n",
      "75%    12203.00    19639.30      0.37       0.19\n",
      "max   875791.00   107572.81      1.00       0.82\n"
     ]
    }
   ],
   "source": [
    "df=s3.get_tables_from_s3(\"aayrapetyan/diffusion/final_table.parquet\")\n",
    "print(df[[\"pop2022\", \"revmoy2022\", \"psup2022\", \"pcadr2022\"]].describe())"
   ]
  },
  {
   "cell_type": "markdown",
   "metadata": {},
   "source": [
    "On voit que la population moyenne diminue lorsque l'on sélectionne les communes ayant une gare. Cela correspond au fait que les petites communes ont moins de chance d'avoir une gare. On passe de 36000 communes à 2800 communes, ce qui donne tout de même beaucoup d'observations. On remarque que le revenu moyen d'une commune en France est plus élevé lorsque l'on sélectionne seulement les communes comprenant une gare. De même, les personnes sont en moyenne plus diplômée et appartiennent aux catégories socio-professionnelles plus élevées également. "
   ]
  },
  {
   "cell_type": "markdown",
   "metadata": {},
   "source": [
    "On veut montrer qu'il existe un lien entre le revenu, la catégorie socio-professionnelle (csp) et le fait de prendre un train en France. Pour cela, on effectue une régression linéaire avec le nombre total de voyageurs comme variable dépendante. Notre but est d'expliquer pourquoi est-ce que cette variable est différente en fonction des communes, en contrôlant par la population de la commune. Les premières visualisations et les premières données suggèrent qu'il peut y avoir un lien entre son revenu et le fait de prendre un train."
   ]
  },
  {
   "cell_type": "code",
   "execution_count": 24,
   "metadata": {},
   "outputs": [
    {
     "name": "stdout",
     "output_type": "stream",
     "text": [
      "Index(['total_voyageurs_2022', 'nom_gare', 'uic', 'codeinsee', 'lon_gare',\n",
      "       'lat_gare', 'codecommune', 'nomcommune', 'pop2022', 'revmoy2022',\n",
      "       'pbac2022', 'psup2022', 'pagri2022', 'pindp2022', 'pcadr2022',\n",
      "       'pempl2022', 'pouvr2022', 'pchom2022', 'dist_closest_station_km',\n",
      "       'nb_stations_same_commune', 'regions', 'freq_par_hab'],\n",
      "      dtype='object')\n"
     ]
    }
   ],
   "source": [
    "print(df.columns)"
   ]
  },
  {
   "cell_type": "markdown",
   "metadata": {},
   "source": [
    "# 2. Régressions"
   ]
  },
  {
   "cell_type": "code",
   "execution_count": 5,
   "metadata": {},
   "outputs": [],
   "source": [
    "df['pnodip2022']=1-df['pbac2022']\n",
    "df[['pbac2022', 'psup2022', 'pnodip2022', 'pagri2022', 'pempl2022', 'pcadr2022', 'pchom2022', 'pindp2022', 'pouvr2022', 'ppint2022']]=df[['pbac2022', 'psup2022', 'pnodip2022', 'pagri2022', 'pempl2022', 'pcadr2022', 'pchom2022', 'pindp2022', 'pouvr2022', 'ppint2022']]*100"
   ]
  },
  {
   "cell_type": "code",
   "execution_count": 6,
   "metadata": {},
   "outputs": [
    {
     "name": "stdout",
     "output_type": "stream",
     "text": [
      "                             OLS Regression Results                             \n",
      "================================================================================\n",
      "Dep. Variable:     total_voyageurs_2022   R-squared:                       0.146\n",
      "Model:                              OLS   Adj. R-squared:                  0.143\n",
      "Method:                   Least Squares   F-statistic:                     43.59\n",
      "Date:                  Thu, 19 Dec 2024   Prob (F-statistic):           3.89e-88\n",
      "Time:                          16:44:03   Log-Likelihood:                -45803.\n",
      "No. Observations:                  2808   AIC:                         9.163e+04\n",
      "Df Residuals:                      2796   BIC:                         9.170e+04\n",
      "Df Model:                            11                                         \n",
      "Covariance Type:              nonrobust                                         \n",
      "===========================================================================================\n",
      "                              coef    std err          t      P>|t|      [0.025      0.975]\n",
      "-------------------------------------------------------------------------------------------\n",
      "const                   -4.085e+06    1.2e+06     -3.407      0.001   -6.44e+06   -1.73e+06\n",
      "revmoy2022                 89.1608     10.929      8.158      0.000      67.730     110.591\n",
      "pop2022                    10.6124      1.218      8.710      0.000       8.223      13.002\n",
      "pnodip2022               7844.4282   9914.808      0.791      0.429   -1.16e+04    2.73e+04\n",
      "psup2022                 2.156e+04   1.13e+04      1.904      0.057    -645.227    4.38e+04\n",
      "pcadr2022                4.609e+04   1.15e+04      4.025      0.000    2.36e+04    6.85e+04\n",
      "pouvr2022                2.381e+04      1e+04      2.376      0.018    4160.717    4.35e+04\n",
      "pchom2022                2.508e+04    1.2e+04      2.097      0.036    1629.241    4.85e+04\n",
      "pempl2022                2.556e+04   1.03e+04      2.482      0.013    5369.779    4.57e+04\n",
      "ppint2022                1357.3814   1.03e+04      0.132      0.895   -1.89e+04    2.16e+04\n",
      "pagri2022                1.463e+04   1.64e+04      0.890      0.373   -1.76e+04    4.69e+04\n",
      "dist_closest_station_km -4.244e+04   1.59e+04     -2.677      0.007   -7.35e+04   -1.14e+04\n",
      "==============================================================================\n",
      "Omnibus:                     5380.515   Durbin-Watson:                   1.990\n",
      "Prob(Omnibus):                  0.000   Jarque-Bera (JB):         16292810.515\n",
      "Skew:                          14.352   Prob(JB):                         0.00\n",
      "Kurtosis:                     375.063   Cond. No.                     1.16e+06\n",
      "==============================================================================\n",
      "\n",
      "Notes:\n",
      "[1] Standard Errors assume that the covariance matrix of the errors is correctly specified.\n",
      "[2] The condition number is large, 1.16e+06. This might indicate that there are\n",
      "strong multicollinearity or other numerical problems.\n"
     ]
    }
   ],
   "source": [
    "\n",
    "X = df[['revmoy2022', 'pop2022', 'pnodip2022', 'psup2022', 'pcadr2022', 'pouvr2022', 'pchom2022', 'pempl2022','ppint2022', 'pagri2022', 'dist_closest_station_km']]\n",
    "Y = df['total_voyageurs_2022']  \n",
    "\n",
    "X = sm.add_constant(X)\n",
    "\n",
    "model = sm.OLS(Y, X).fit()\n",
    "\n",
    "print(model.summary())"
   ]
  },
  {
   "cell_type": "markdown",
   "metadata": {},
   "source": [
    "On enlève des csp les professions indépendantes qui regroupe des personnes très hétérogènes pour éviter la colinéarité parfaite. On obtient des coefficients significatifs sauf pour le taux de personnes sans diplôme dans la commune.\n",
    "\n",
    "Essayons de passer au logarithme du nombre de voyageurs pour capturer des potentielles non-linéarités."
   ]
  },
  {
   "cell_type": "code",
   "execution_count": 7,
   "metadata": {},
   "outputs": [],
   "source": [
    "df['log_nb_voy2022']= np.log(df['total_voyageurs_2022'])"
   ]
  },
  {
   "cell_type": "code",
   "execution_count": 9,
   "metadata": {},
   "outputs": [
    {
     "name": "stdout",
     "output_type": "stream",
     "text": [
      "                            OLS Regression Results                            \n",
      "==============================================================================\n",
      "Dep. Variable:         log_nb_voy2022   R-squared:                       0.193\n",
      "Model:                            OLS   Adj. R-squared:                  0.190\n",
      "Method:                 Least Squares   F-statistic:                     66.77\n",
      "Date:                Thu, 19 Dec 2024   Prob (F-statistic):          2.08e-122\n",
      "Time:                        17:05:50   Log-Likelihood:                -6257.1\n",
      "No. Observations:                2808   AIC:                         1.254e+04\n",
      "Df Residuals:                    2797   BIC:                         1.260e+04\n",
      "Df Model:                          10                                         \n",
      "Covariance Type:            nonrobust                                         \n",
      "===========================================================================================\n",
      "                              coef    std err          t      P>|t|      [0.025      0.975]\n",
      "-------------------------------------------------------------------------------------------\n",
      "const                       6.2596      0.705      8.878      0.000       4.877       7.642\n",
      "revmoy2022               1.333e-05   8.36e-06      1.595      0.111   -3.06e-06    2.97e-05\n",
      "pop2022                  6.819e-06   9.32e-07      7.315      0.000    4.99e-06    8.65e-06\n",
      "psup2022                    0.0159      0.006      2.857      0.004       0.005       0.027\n",
      "pcadr2022                   0.0785      0.009      8.965      0.000       0.061       0.096\n",
      "pouvr2022                   0.0331      0.008      4.333      0.000       0.018       0.048\n",
      "pchom2022                   0.0442      0.009      4.853      0.000       0.026       0.062\n",
      "pempl2022                   0.0341      0.008      4.336      0.000       0.019       0.050\n",
      "pagri2022                  -0.0682      0.013     -5.426      0.000      -0.093      -0.044\n",
      "ppint2022                   0.0259      0.008      3.290      0.001       0.010       0.041\n",
      "dist_closest_station_km     0.0291      0.012      2.411      0.016       0.005       0.053\n",
      "==============================================================================\n",
      "Omnibus:                      354.852   Durbin-Watson:                   1.908\n",
      "Prob(Omnibus):                  0.000   Jarque-Bera (JB):              626.970\n",
      "Skew:                          -0.831   Prob(JB):                    7.16e-137\n",
      "Kurtosis:                       4.611   Cond. No.                     8.95e+05\n",
      "==============================================================================\n",
      "\n",
      "Notes:\n",
      "[1] Standard Errors assume that the covariance matrix of the errors is correctly specified.\n",
      "[2] The condition number is large, 8.95e+05. This might indicate that there are\n",
      "strong multicollinearity or other numerical problems.\n"
     ]
    }
   ],
   "source": [
    "X = df[['revmoy2022', 'pop2022', 'psup2022', 'pcadr2022', 'pouvr2022', 'pchom2022', 'pempl2022', 'pagri2022', 'ppint2022', 'dist_closest_station_km']]\n",
    "Y = df['log_nb_voy2022']  \n",
    "\n",
    "X = sm.add_constant(X)\n",
    "\n",
    "model = sm.OLS(Y, X).fit()\n",
    "\n",
    "print(model.summary())"
   ]
  },
  {
   "cell_type": "markdown",
   "metadata": {},
   "source": [
    "On note que les coefficients sont significatifs sauf pour le revenu moyen des communes. Après avoir contrôlé pour les autres variables, et en ajustant le nombre de voyageur en logarithme, l'effet du revenu n'est plus significatif. En revanche, tous les autres coefficients le sont à 1% sauf la distance de la gare la plus proche, dont le coefficient est significatif à 5%. \n",
    "\n",
    "Augmenter d'un point de pourcentage la proportion de cadre dans la commune augmente de 0.07% le nombre de voyageur dans une gare. Le coefficient ne peut pas être interprété comme un effect causal dû à l'endogénéité du modèle. Il peut y avoir une causalité inverse (les gares attirent les personnes avec un diplôme), mais cette endogénéité ne sera pas traitée ici."
   ]
  },
  {
   "cell_type": "markdown",
   "metadata": {},
   "source": [
    "# 3. Conclusion"
   ]
  },
  {
   "cell_type": "markdown",
   "metadata": {},
   "source": [
    "Nous avons montrer qu'il existe un lien entre le pourcentage de catégories socio-professionnels et le nombre de voyageurs dans les communes. Cela ne suffit pas à en déduire un lien causal à cause de l'endogénéité du model. En revanche, cela nous donne un modèle de prédiction. "
   ]
  }
 ],
 "metadata": {
  "kernelspec": {
   "display_name": "base",
   "language": "python",
   "name": "python3"
  },
  "language_info": {
   "codemirror_mode": {
    "name": "ipython",
    "version": 3
   },
   "file_extension": ".py",
   "mimetype": "text/x-python",
   "name": "python",
   "nbconvert_exporter": "python",
   "pygments_lexer": "ipython3",
   "version": "3.12.7"
  }
 },
 "nbformat": 4,
 "nbformat_minor": 2
}
