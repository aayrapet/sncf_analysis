{
 "cells": [
  {
   "cell_type": "code",
   "execution_count": 1,
   "metadata": {},
   "outputs": [],
   "source": [
    "import requests\n",
    "import pandas as pd\n",
    "import numpy as np \n",
    "from pyarrow import fs\n",
    "import pyarrow as pa\n",
    "import pyarrow.parquet as pq\n",
    "from scipy.stats import zscore\n",
    "import matplotlib.pyplot as plt\n",
    "from tqdm import tqdm\n",
    "from helpers import *\n",
    "pd.set_option('display.float_format', '{:.2f}'.format)\n"
   ]
  },
  {
   "cell_type": "markdown",
   "metadata": {},
   "source": [
    "Data extraction from multiples files : API SNCF, API GOUV, economic regional data from web csv\n",
    "first use sncf well established api to access data of stations "
   ]
  },
  {
   "cell_type": "code",
   "execution_count": 85,
   "metadata": {},
   "outputs": [
    {
     "name": "stdout",
     "output_type": "stream",
     "text": [
      "nb of stations downloaded: 2881, from table gares-de-voyageurs\n",
      "nb of stations downloaded: 3010, from table frequentation-gares\n"
     ]
    }
   ],
   "source": [
    "station_geo_data = get_names_geo_data_from_sncf_api(\n",
    "    endpoint_suffix=\"gares-de-voyageurs\",\n",
    "    select=\"\"\"nom as nom_gare,\n",
    "                           position_geographique,\n",
    "                           codeinsee,\n",
    "                           codes_uic as uic\"\"\",\n",
    ")\n",
    "\n",
    "station_freq_data = get_names_geo_data_from_sncf_api(\n",
    "    endpoint_suffix=\"frequentation-gares\",\n",
    "    select=\"\"\"total_voyageurs_2022,\n",
    "                           \n",
    "                           nom_gare,\n",
    "                           code_uic_complet as uic \"\"\",\n",
    ")"
   ]
  },
  {
   "cell_type": "code",
   "execution_count": null,
   "metadata": {},
   "outputs": [],
   "source": [
    "station_geo_data = station_geo_data.rename(\n",
    "    columns={\n",
    "        \"position_geographique.lon\": \"lon_gare\",\n",
    "        \"position_geographique.lat\": \"lat_gare\",\n",
    "    }\n",
    ")\n",
    "station_geo_data = station_geo_data.drop(\"position_geographique\", axis=1)"
   ]
  },
  {
   "cell_type": "code",
   "execution_count": null,
   "metadata": {},
   "outputs": [],
   "source": [
    "merged = station_freq_data.merge(\n",
    "    station_geo_data.drop(\"nom_gare\", axis=1), on=[\"uic\"], how=\"left\"\n",
    ")\n",
    "merged = merged[merged[\"total_voyageurs_2022\"] > 0]"
   ]
  },
  {
   "cell_type": "markdown",
   "metadata": {},
   "source": []
  },
  {
   "cell_type": "markdown",
   "metadata": {},
   "source": []
  },
  {
   "cell_type": "markdown",
   "metadata": {},
   "source": [
    "here insert code from communes and delete extract from S3!!!!!!!!!!!!!"
   ]
  },
  {
   "cell_type": "markdown",
   "metadata": {},
   "source": [
    "get stat about regions"
   ]
  },
  {
   "cell_type": "code",
   "execution_count": 88,
   "metadata": {},
   "outputs": [
    {
     "name": "stdout",
     "output_type": "stream",
     "text": [
      "connection successful\n"
     ]
    }
   ],
   "source": [
    "s3=s3_connection(\"aayrapetyan\")\n",
    "regional_stat=s3.get_tables_from_s3(\"clichere/diffusion/rev_dip_pop_comm.parquet\")"
   ]
  },
  {
   "cell_type": "code",
   "execution_count": null,
   "metadata": {},
   "outputs": [],
   "source": [
    "regional_stat = regional_stat[\n",
    "    (regional_stat[\"pop2022\"] > 0)\n",
    "    & (regional_stat[\"revmoy2022\"] > 0)\n",
    "    & (regional_stat[\"pbac2022\"].notna())\n",
    "]"
   ]
  },
  {
   "cell_type": "code",
   "execution_count": 90,
   "metadata": {},
   "outputs": [],
   "source": [
    "fusion=merged.merge(regional_stat,left_on=\"codeinsee\",right_on=\"codecommune\",how=\"left\")"
   ]
  },
  {
   "cell_type": "code",
   "execution_count": 91,
   "metadata": {},
   "outputs": [
    {
     "data": {
      "text/html": [
       "<div>\n",
       "<style scoped>\n",
       "    .dataframe tbody tr th:only-of-type {\n",
       "        vertical-align: middle;\n",
       "    }\n",
       "\n",
       "    .dataframe tbody tr th {\n",
       "        vertical-align: top;\n",
       "    }\n",
       "\n",
       "    .dataframe thead th {\n",
       "        text-align: right;\n",
       "    }\n",
       "</style>\n",
       "<table border=\"1\" class=\"dataframe\">\n",
       "  <thead>\n",
       "    <tr style=\"text-align: right;\">\n",
       "      <th></th>\n",
       "      <th>total_voyageurs_2022</th>\n",
       "      <th>nom_gare</th>\n",
       "      <th>uic</th>\n",
       "      <th>codeinsee</th>\n",
       "      <th>lon_gare</th>\n",
       "      <th>lat_gare</th>\n",
       "      <th>codecommune</th>\n",
       "      <th>nomcommune</th>\n",
       "      <th>pop2022</th>\n",
       "      <th>revmoy2022</th>\n",
       "      <th>pbac2022</th>\n",
       "      <th>psup2022</th>\n",
       "    </tr>\n",
       "  </thead>\n",
       "  <tbody>\n",
       "    <tr>\n",
       "      <th>377</th>\n",
       "      <td>184840</td>\n",
       "      <td>Orgerus - Béhoust</td>\n",
       "      <td>87393447</td>\n",
       "      <td>78465</td>\n",
       "      <td>1.70</td>\n",
       "      <td>48.83</td>\n",
       "      <td>78465</td>\n",
       "      <td>ORGERUS</td>\n",
       "      <td>2303.00</td>\n",
       "      <td>26872.25</td>\n",
       "      <td>0.60</td>\n",
       "      <td>0.48</td>\n",
       "    </tr>\n",
       "    <tr>\n",
       "      <th>1262</th>\n",
       "      <td>2079</td>\n",
       "      <td>Base Aérienne</td>\n",
       "      <td>87699223</td>\n",
       "      <td>41194</td>\n",
       "      <td>1.68</td>\n",
       "      <td>47.32</td>\n",
       "      <td>41194</td>\n",
       "      <td>ROMORANTIN-LANTHENAY</td>\n",
       "      <td>19202.00</td>\n",
       "      <td>15276.31</td>\n",
       "      <td>0.39</td>\n",
       "      <td>0.23</td>\n",
       "    </tr>\n",
       "  </tbody>\n",
       "</table>\n",
       "</div>"
      ],
      "text/plain": [
       "      total_voyageurs_2022           nom_gare       uic codeinsee  lon_gare  \\\n",
       "377                 184840  Orgerus - Béhoust  87393447     78465      1.70   \n",
       "1262                  2079      Base Aérienne  87699223     41194      1.68   \n",
       "\n",
       "      lat_gare codecommune            nomcommune  pop2022  revmoy2022  \\\n",
       "377      48.83       78465               ORGERUS  2303.00    26872.25   \n",
       "1262     47.32       41194  ROMORANTIN-LANTHENAY 19202.00    15276.31   \n",
       "\n",
       "      pbac2022  psup2022  \n",
       "377       0.60      0.48  \n",
       "1262      0.39      0.23  "
      ]
     },
     "execution_count": 91,
     "metadata": {},
     "output_type": "execute_result"
    }
   ],
   "source": [
    "fusion.sample(2)"
   ]
  },
  {
   "cell_type": "code",
   "execution_count": 92,
   "metadata": {},
   "outputs": [],
   "source": [
    "final=fusion[fusion[\"pop2022\"].notna()]"
   ]
  },
  {
   "cell_type": "code",
   "execution_count": 94,
   "metadata": {},
   "outputs": [],
   "source": [
    "cross_table_for_distance_calculation = final[[\"uic\", \"lon_gare\", \"lat_gare\"]].merge(\n",
    "    final[[\"uic\", \"lon_gare\", \"lat_gare\"]], how=\"cross\"\n",
    ")\n",
    "(\n",
    "    lat1,\n",
    "    lon1,\n",
    "    lat2,\n",
    "    lon2,\n",
    ") = (\n",
    "    cross_table_for_distance_calculation[\"lat_gare_x\"],\n",
    "    cross_table_for_distance_calculation[\"lon_gare_x\"],\n",
    "    cross_table_for_distance_calculation[\"lat_gare_y\"],\n",
    "    cross_table_for_distance_calculation[\"lon_gare_y\"],\n",
    ")\n",
    "cross_table_for_distance_calculation[\"dist_closest_station_km\"] = haversine_vectorized(\n",
    "    lat1, lon1, lat2, lon2\n",
    ")"
   ]
  },
  {
   "cell_type": "code",
   "execution_count": null,
   "metadata": {},
   "outputs": [],
   "source": [
    "cross_table_for_distance_calculation = cross_table_for_distance_calculation[\n",
    "    cross_table_for_distance_calculation[\"uic_x\"]\n",
    "    != cross_table_for_distance_calculation[\"uic_y\"]\n",
    "]"
   ]
  },
  {
   "cell_type": "code",
   "execution_count": null,
   "metadata": {},
   "outputs": [],
   "source": [
    "idx = cross_table_for_distance_calculation.groupby([\"uic_x\"])[\n",
    "    \"dist_closest_station_km\"\n",
    "].idxmin()\n",
    "\n",
    "result = cross_table_for_distance_calculation.loc[idx].reset_index(drop=True)"
   ]
  },
  {
   "cell_type": "code",
   "execution_count": null,
   "metadata": {},
   "outputs": [],
   "source": [
    "final = final.merge(\n",
    "    result[[\"uic_x\", \"dist_closest_station_km\"]].rename(columns={\"uic_x\": \"uic\"}),\n",
    "    on=\"uic\",\n",
    "    how=\"inner\",\n",
    ")"
   ]
  },
  {
   "cell_type": "code",
   "execution_count": 100,
   "metadata": {},
   "outputs": [],
   "source": [
    "\n",
    "new=final.groupby('nomcommune').agg({'nomcommune': ['count']})\n",
    "new[\"commune\"]=new.index\n",
    "new=new.reset_index(drop=True)\n",
    "new.columns = [\"nb_stations_same_commune\",\"nomcommune\"]"
   ]
  },
  {
   "cell_type": "code",
   "execution_count": 101,
   "metadata": {},
   "outputs": [],
   "source": [
    "final=final.merge(new,on=\"nomcommune\",how=\"inner\")"
   ]
  },
  {
   "cell_type": "code",
   "execution_count": null,
   "metadata": {},
   "outputs": [],
   "source": [
    "french_regions=gouv_api_addresses(final)"
   ]
  },
  {
   "cell_type": "code",
   "execution_count": 279,
   "metadata": {},
   "outputs": [
    {
     "data": {
      "text/plain": [
       "array(['Pays de la Loire', 'Île-de-France', 'Hauts-de-France',\n",
       "       \"Provence-Alpes-Côte d'Azur\", 'Occitanie', 'Auvergne-Rhône-Alpes',\n",
       "       'Bourgogne-Franche-Comté', 'Centre-Val de Loire', 'Normandie',\n",
       "       'Nouvelle-Aquitaine', 'Grand Est', 'Bretagne'], dtype=object)"
      ]
     },
     "execution_count": 279,
     "metadata": {},
     "output_type": "execute_result"
    }
   ],
   "source": [
    "final[\"regions\"].unique()"
   ]
  },
  {
   "cell_type": "code",
   "execution_count": 278,
   "metadata": {},
   "outputs": [],
   "source": [
    "final[\"regions\"]=french_regions"
   ]
  },
  {
   "cell_type": "code",
   "execution_count": 280,
   "metadata": {},
   "outputs": [
    {
     "data": {
      "text/plain": [
       "total_voyageurs_2022        0\n",
       "nom_gare                    0\n",
       "uic                         0\n",
       "codeinsee                   0\n",
       "lon_gare                    0\n",
       "lat_gare                    0\n",
       "codecommune                 0\n",
       "nomcommune                  0\n",
       "pop2022                     0\n",
       "revmoy2022                  0\n",
       "pbac2022                    0\n",
       "psup2022                    0\n",
       "dist_closest_station_km     0\n",
       "nb_stations_same_commune    0\n",
       "regions                     0\n",
       "dtype: int64"
      ]
     },
     "execution_count": 280,
     "metadata": {},
     "output_type": "execute_result"
    }
   ],
   "source": [
    "final.isna().sum()"
   ]
  },
  {
   "cell_type": "code",
   "execution_count": 288,
   "metadata": {},
   "outputs": [
    {
     "data": {
      "text/html": [
       "<div>\n",
       "<style scoped>\n",
       "    .dataframe tbody tr th:only-of-type {\n",
       "        vertical-align: middle;\n",
       "    }\n",
       "\n",
       "    .dataframe tbody tr th {\n",
       "        vertical-align: top;\n",
       "    }\n",
       "\n",
       "    .dataframe thead th {\n",
       "        text-align: right;\n",
       "    }\n",
       "</style>\n",
       "<table border=\"1\" class=\"dataframe\">\n",
       "  <thead>\n",
       "    <tr style=\"text-align: right;\">\n",
       "      <th></th>\n",
       "      <th>total_voyageurs_2022</th>\n",
       "      <th>nom_gare</th>\n",
       "      <th>uic</th>\n",
       "      <th>codeinsee</th>\n",
       "      <th>lon_gare</th>\n",
       "      <th>lat_gare</th>\n",
       "      <th>codecommune</th>\n",
       "      <th>nomcommune</th>\n",
       "      <th>pop2022</th>\n",
       "      <th>revmoy2022</th>\n",
       "      <th>pbac2022</th>\n",
       "      <th>psup2022</th>\n",
       "      <th>dist_closest_station_km</th>\n",
       "      <th>nb_stations_same_commune</th>\n",
       "      <th>regions</th>\n",
       "    </tr>\n",
       "  </thead>\n",
       "  <tbody>\n",
       "    <tr>\n",
       "      <th>175</th>\n",
       "      <td>1469</td>\n",
       "      <td>Gudmont</td>\n",
       "      <td>87142265</td>\n",
       "      <td>52230</td>\n",
       "      <td>5.14</td>\n",
       "      <td>48.34</td>\n",
       "      <td>52230</td>\n",
       "      <td>GUDMONT-VILLIERS</td>\n",
       "      <td>234.00</td>\n",
       "      <td>19475.53</td>\n",
       "      <td>0.39</td>\n",
       "      <td>0.35</td>\n",
       "      <td>3.12</td>\n",
       "      <td>1</td>\n",
       "      <td>Grand Est</td>\n",
       "    </tr>\n",
       "    <tr>\n",
       "      <th>930</th>\n",
       "      <td>9781</td>\n",
       "      <td>Montreuil-Bellay</td>\n",
       "      <td>87487637</td>\n",
       "      <td>49215</td>\n",
       "      <td>-0.15</td>\n",
       "      <td>47.13</td>\n",
       "      <td>49215</td>\n",
       "      <td>MONTREUIL-BELLAY</td>\n",
       "      <td>3726.00</td>\n",
       "      <td>15218.20</td>\n",
       "      <td>0.32</td>\n",
       "      <td>0.18</td>\n",
       "      <td>16.27</td>\n",
       "      <td>1</td>\n",
       "      <td>Pays de la Loire</td>\n",
       "    </tr>\n",
       "  </tbody>\n",
       "</table>\n",
       "</div>"
      ],
      "text/plain": [
       "     total_voyageurs_2022          nom_gare       uic codeinsee  lon_gare  \\\n",
       "175                  1469           Gudmont  87142265     52230      5.14   \n",
       "930                  9781  Montreuil-Bellay  87487637     49215     -0.15   \n",
       "\n",
       "     lat_gare codecommune        nomcommune  pop2022  revmoy2022  pbac2022  \\\n",
       "175     48.34       52230  GUDMONT-VILLIERS   234.00    19475.53      0.39   \n",
       "930     47.13       49215  MONTREUIL-BELLAY  3726.00    15218.20      0.32   \n",
       "\n",
       "     psup2022  dist_closest_station_km  nb_stations_same_commune  \\\n",
       "175      0.35                     3.12                         1   \n",
       "930      0.18                    16.27                         1   \n",
       "\n",
       "              regions  \n",
       "175         Grand Est  \n",
       "930  Pays de la Loire  "
      ]
     },
     "execution_count": 288,
     "metadata": {},
     "output_type": "execute_result"
    }
   ],
   "source": [
    "final.sample(2)"
   ]
  },
  {
   "cell_type": "code",
   "execution_count": 284,
   "metadata": {},
   "outputs": [],
   "source": [
    "s3.from_pandas_to_parquet_store_in_s3(final,\"aayrapetyan/diffusion/final_table.parquet\")"
   ]
  },
  {
   "cell_type": "code",
   "execution_count": 285,
   "metadata": {},
   "outputs": [
    {
     "data": {
      "text/html": [
       "<div>\n",
       "<style scoped>\n",
       "    .dataframe tbody tr th:only-of-type {\n",
       "        vertical-align: middle;\n",
       "    }\n",
       "\n",
       "    .dataframe tbody tr th {\n",
       "        vertical-align: top;\n",
       "    }\n",
       "\n",
       "    .dataframe thead th {\n",
       "        text-align: right;\n",
       "    }\n",
       "</style>\n",
       "<table border=\"1\" class=\"dataframe\">\n",
       "  <thead>\n",
       "    <tr style=\"text-align: right;\">\n",
       "      <th></th>\n",
       "      <th>total_voyageurs_2022</th>\n",
       "      <th>nom_gare</th>\n",
       "      <th>uic</th>\n",
       "      <th>codeinsee</th>\n",
       "      <th>lon_gare</th>\n",
       "      <th>lat_gare</th>\n",
       "      <th>codecommune</th>\n",
       "      <th>nomcommune</th>\n",
       "      <th>pop2022</th>\n",
       "      <th>revmoy2022</th>\n",
       "      <th>pbac2022</th>\n",
       "      <th>psup2022</th>\n",
       "      <th>dist_closest_station_km</th>\n",
       "      <th>nb_stations_same_commune</th>\n",
       "      <th>regions</th>\n",
       "    </tr>\n",
       "  </thead>\n",
       "  <tbody>\n",
       "    <tr>\n",
       "      <th>0</th>\n",
       "      <td>40825</td>\n",
       "      <td>Abbaretz</td>\n",
       "      <td>87481614</td>\n",
       "      <td>44001</td>\n",
       "      <td>-1.52</td>\n",
       "      <td>47.55</td>\n",
       "      <td>44001</td>\n",
       "      <td>ABBARETZ</td>\n",
       "      <td>2257.00</td>\n",
       "      <td>12567.25</td>\n",
       "      <td>0.27</td>\n",
       "      <td>0.17</td>\n",
       "      <td>9.75</td>\n",
       "      <td>1</td>\n",
       "      <td>Pays de la Loire</td>\n",
       "    </tr>\n",
       "    <tr>\n",
       "      <th>1</th>\n",
       "      <td>177092</td>\n",
       "      <td>Achères Grand Cormier</td>\n",
       "      <td>87386052</td>\n",
       "      <td>78551</td>\n",
       "      <td>2.09</td>\n",
       "      <td>48.96</td>\n",
       "      <td>78551</td>\n",
       "      <td>SAINT-GERMAIN-EN-LAYE</td>\n",
       "      <td>39172.00</td>\n",
       "      <td>41601.99</td>\n",
       "      <td>0.80</td>\n",
       "      <td>0.64</td>\n",
       "      <td>1.97</td>\n",
       "      <td>1</td>\n",
       "      <td>Île-de-France</td>\n",
       "    </tr>\n",
       "    <tr>\n",
       "      <th>2</th>\n",
       "      <td>80648</td>\n",
       "      <td>Achiet-le-Grand</td>\n",
       "      <td>87342048</td>\n",
       "      <td>62005</td>\n",
       "      <td>2.78</td>\n",
       "      <td>50.13</td>\n",
       "      <td>62005</td>\n",
       "      <td>ACHIET-LE-GRAND</td>\n",
       "      <td>888.00</td>\n",
       "      <td>15813.03</td>\n",
       "      <td>0.42</td>\n",
       "      <td>0.34</td>\n",
       "      <td>4.22</td>\n",
       "      <td>1</td>\n",
       "      <td>Hauts-de-France</td>\n",
       "    </tr>\n",
       "    <tr>\n",
       "      <th>3</th>\n",
       "      <td>32800</td>\n",
       "      <td>Agay</td>\n",
       "      <td>87757559</td>\n",
       "      <td>83118</td>\n",
       "      <td>6.86</td>\n",
       "      <td>43.43</td>\n",
       "      <td>83118</td>\n",
       "      <td>SAINT-RAPHAEL</td>\n",
       "      <td>37114.00</td>\n",
       "      <td>26637.97</td>\n",
       "      <td>0.55</td>\n",
       "      <td>0.34</td>\n",
       "      <td>1.80</td>\n",
       "      <td>6</td>\n",
       "      <td>Provence-Alpes-Côte d'Azur</td>\n",
       "    </tr>\n",
       "    <tr>\n",
       "      <th>4</th>\n",
       "      <td>11325</td>\n",
       "      <td>Aigues-Mortes</td>\n",
       "      <td>87775858</td>\n",
       "      <td>30003</td>\n",
       "      <td>4.19</td>\n",
       "      <td>43.57</td>\n",
       "      <td>30003</td>\n",
       "      <td>AIGUES-MORTES</td>\n",
       "      <td>8076.00</td>\n",
       "      <td>20798.90</td>\n",
       "      <td>0.37</td>\n",
       "      <td>0.20</td>\n",
       "      <td>5.56</td>\n",
       "      <td>1</td>\n",
       "      <td>Occitanie</td>\n",
       "    </tr>\n",
       "    <tr>\n",
       "      <th>...</th>\n",
       "      <td>...</td>\n",
       "      <td>...</td>\n",
       "      <td>...</td>\n",
       "      <td>...</td>\n",
       "      <td>...</td>\n",
       "      <td>...</td>\n",
       "      <td>...</td>\n",
       "      <td>...</td>\n",
       "      <td>...</td>\n",
       "      <td>...</td>\n",
       "      <td>...</td>\n",
       "      <td>...</td>\n",
       "      <td>...</td>\n",
       "      <td>...</td>\n",
       "      <td>...</td>\n",
       "    </tr>\n",
       "    <tr>\n",
       "      <th>2803</th>\n",
       "      <td>176599</td>\n",
       "      <td>Weyersheim</td>\n",
       "      <td>87213678</td>\n",
       "      <td>67529</td>\n",
       "      <td>7.80</td>\n",
       "      <td>48.72</td>\n",
       "      <td>67529</td>\n",
       "      <td>WEYERSHEIM</td>\n",
       "      <td>3365.00</td>\n",
       "      <td>21737.75</td>\n",
       "      <td>0.40</td>\n",
       "      <td>0.26</td>\n",
       "      <td>2.10</td>\n",
       "      <td>1</td>\n",
       "      <td>Grand Est</td>\n",
       "    </tr>\n",
       "    <tr>\n",
       "      <th>2804</th>\n",
       "      <td>30849</td>\n",
       "      <td>Willer-sur-Thur</td>\n",
       "      <td>87182584</td>\n",
       "      <td>68372</td>\n",
       "      <td>7.07</td>\n",
       "      <td>47.84</td>\n",
       "      <td>68372</td>\n",
       "      <td>WILLER-SUR-THUR</td>\n",
       "      <td>1735.00</td>\n",
       "      <td>18620.66</td>\n",
       "      <td>0.38</td>\n",
       "      <td>0.13</td>\n",
       "      <td>1.82</td>\n",
       "      <td>1</td>\n",
       "      <td>Grand Est</td>\n",
       "    </tr>\n",
       "    <tr>\n",
       "      <th>2805</th>\n",
       "      <td>37020</td>\n",
       "      <td>Wimille - Wimereux</td>\n",
       "      <td>87317123</td>\n",
       "      <td>62894</td>\n",
       "      <td>1.61</td>\n",
       "      <td>50.76</td>\n",
       "      <td>62894</td>\n",
       "      <td>WIMILLE</td>\n",
       "      <td>4062.00</td>\n",
       "      <td>19524.12</td>\n",
       "      <td>0.40</td>\n",
       "      <td>0.28</td>\n",
       "      <td>4.08</td>\n",
       "      <td>1</td>\n",
       "      <td>Hauts-de-France</td>\n",
       "    </tr>\n",
       "    <tr>\n",
       "      <th>2806</th>\n",
       "      <td>38618</td>\n",
       "      <td>Ygos-Saint-Saturnin</td>\n",
       "      <td>87671487</td>\n",
       "      <td>40333</td>\n",
       "      <td>-0.74</td>\n",
       "      <td>43.98</td>\n",
       "      <td>40333</td>\n",
       "      <td>YGOS-SAINT-SATURNIN</td>\n",
       "      <td>1490.00</td>\n",
       "      <td>15004.68</td>\n",
       "      <td>0.46</td>\n",
       "      <td>0.28</td>\n",
       "      <td>6.68</td>\n",
       "      <td>1</td>\n",
       "      <td>Nouvelle-Aquitaine</td>\n",
       "    </tr>\n",
       "    <tr>\n",
       "      <th>2807</th>\n",
       "      <td>139</td>\n",
       "      <td>Ytrac</td>\n",
       "      <td>87645101</td>\n",
       "      <td>15267</td>\n",
       "      <td>2.36</td>\n",
       "      <td>44.91</td>\n",
       "      <td>15267</td>\n",
       "      <td>YTRAC</td>\n",
       "      <td>4598.00</td>\n",
       "      <td>18109.14</td>\n",
       "      <td>0.47</td>\n",
       "      <td>0.26</td>\n",
       "      <td>5.73</td>\n",
       "      <td>1</td>\n",
       "      <td>Auvergne-Rhône-Alpes</td>\n",
       "    </tr>\n",
       "  </tbody>\n",
       "</table>\n",
       "<p>2808 rows × 15 columns</p>\n",
       "</div>"
      ],
      "text/plain": [
       "      total_voyageurs_2022               nom_gare       uic codeinsee  \\\n",
       "0                    40825               Abbaretz  87481614     44001   \n",
       "1                   177092  Achères Grand Cormier  87386052     78551   \n",
       "2                    80648        Achiet-le-Grand  87342048     62005   \n",
       "3                    32800                   Agay  87757559     83118   \n",
       "4                    11325          Aigues-Mortes  87775858     30003   \n",
       "...                    ...                    ...       ...       ...   \n",
       "2803                176599             Weyersheim  87213678     67529   \n",
       "2804                 30849        Willer-sur-Thur  87182584     68372   \n",
       "2805                 37020     Wimille - Wimereux  87317123     62894   \n",
       "2806                 38618    Ygos-Saint-Saturnin  87671487     40333   \n",
       "2807                   139                  Ytrac  87645101     15267   \n",
       "\n",
       "      lon_gare  lat_gare codecommune             nomcommune  pop2022  \\\n",
       "0        -1.52     47.55       44001               ABBARETZ  2257.00   \n",
       "1         2.09     48.96       78551  SAINT-GERMAIN-EN-LAYE 39172.00   \n",
       "2         2.78     50.13       62005        ACHIET-LE-GRAND   888.00   \n",
       "3         6.86     43.43       83118          SAINT-RAPHAEL 37114.00   \n",
       "4         4.19     43.57       30003          AIGUES-MORTES  8076.00   \n",
       "...        ...       ...         ...                    ...      ...   \n",
       "2803      7.80     48.72       67529             WEYERSHEIM  3365.00   \n",
       "2804      7.07     47.84       68372        WILLER-SUR-THUR  1735.00   \n",
       "2805      1.61     50.76       62894                WIMILLE  4062.00   \n",
       "2806     -0.74     43.98       40333    YGOS-SAINT-SATURNIN  1490.00   \n",
       "2807      2.36     44.91       15267                  YTRAC  4598.00   \n",
       "\n",
       "      revmoy2022  pbac2022  psup2022  dist_closest_station_km  \\\n",
       "0       12567.25      0.27      0.17                     9.75   \n",
       "1       41601.99      0.80      0.64                     1.97   \n",
       "2       15813.03      0.42      0.34                     4.22   \n",
       "3       26637.97      0.55      0.34                     1.80   \n",
       "4       20798.90      0.37      0.20                     5.56   \n",
       "...          ...       ...       ...                      ...   \n",
       "2803    21737.75      0.40      0.26                     2.10   \n",
       "2804    18620.66      0.38      0.13                     1.82   \n",
       "2805    19524.12      0.40      0.28                     4.08   \n",
       "2806    15004.68      0.46      0.28                     6.68   \n",
       "2807    18109.14      0.47      0.26                     5.73   \n",
       "\n",
       "      nb_stations_same_commune                     regions  \n",
       "0                            1            Pays de la Loire  \n",
       "1                            1               Île-de-France  \n",
       "2                            1             Hauts-de-France  \n",
       "3                            6  Provence-Alpes-Côte d'Azur  \n",
       "4                            1                   Occitanie  \n",
       "...                        ...                         ...  \n",
       "2803                         1                   Grand Est  \n",
       "2804                         1                   Grand Est  \n",
       "2805                         1             Hauts-de-France  \n",
       "2806                         1          Nouvelle-Aquitaine  \n",
       "2807                         1        Auvergne-Rhône-Alpes  \n",
       "\n",
       "[2808 rows x 15 columns]"
      ]
     },
     "execution_count": 285,
     "metadata": {},
     "output_type": "execute_result"
    }
   ],
   "source": [
    "final=s3.get_tables_from_s3(\"aayrapetyan/diffusion/final_table.parquet\")\n",
    "final"
   ]
  }
 ],
 "metadata": {
  "kernelspec": {
   "display_name": "base",
   "language": "python",
   "name": "python3"
  },
  "language_info": {
   "codemirror_mode": {
    "name": "ipython",
    "version": 3
   },
   "file_extension": ".py",
   "mimetype": "text/x-python",
   "name": "python",
   "nbconvert_exporter": "python",
   "pygments_lexer": "ipython3",
   "version": "3.12.7"
  }
 },
 "nbformat": 4,
 "nbformat_minor": 2
}
