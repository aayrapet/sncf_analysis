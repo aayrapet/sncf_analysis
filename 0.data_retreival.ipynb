{
 "cells": [
  {
   "cell_type": "code",
   "execution_count": 1,
   "metadata": {},
   "outputs": [],
   "source": [
    "import requests\n",
    "import pandas as pd\n",
    "import numpy as np \n",
    "import s3fs\n",
    "from scipy.stats import zscore\n",
    "import matplotlib.pyplot as plt\n",
    "from tqdm import tqdm\n",
    "from helpers import *\n",
    "pd.set_option('display.float_format', '{:.2f}'.format)\n"
   ]
  },
  {
   "cell_type": "markdown",
   "metadata": {},
   "source": [
    "Data extraction from multiples files : API SNCF, API GOUV, economic regional data from web csv\n",
    "first use sncf well established api to access data of stations "
   ]
  },
  {
   "cell_type": "code",
   "execution_count": 8,
   "metadata": {},
   "outputs": [
    {
     "name": "stdout",
     "output_type": "stream",
     "text": [
      "nb of stations downloaded: 2881, from table gares-de-voyageurs\n",
      "nb of stations downloaded: 3010, from table frequentation-gares\n"
     ]
    }
   ],
   "source": [
    "station_geo_data = get_names_geo_data_from_sncf_api(\n",
    "    endpoint_suffix=\"gares-de-voyageurs\",\n",
    "    select=\"\"\"nom as nom_gare,\n",
    "                           position_geographique,\n",
    "                           codeinsee,\n",
    "                           codes_uic as uic\"\"\",\n",
    ")\n",
    "\n",
    "station_freq_data = get_names_geo_data_from_sncf_api(\n",
    "    endpoint_suffix=\"frequentation-gares\",\n",
    "    select=\"\"\"total_voyageurs_2022,\n",
    "                           \n",
    "                           nom_gare,\n",
    "                           code_uic_complet as uic \"\"\",\n",
    ")"
   ]
  },
  {
   "cell_type": "code",
   "execution_count": 9,
   "metadata": {},
   "outputs": [],
   "source": [
    "station_geo_data = station_geo_data.rename(\n",
    "    columns={\n",
    "        \"position_geographique.lon\": \"lon_gare\",\n",
    "        \"position_geographique.lat\": \"lat_gare\",\n",
    "    }\n",
    ")\n",
    "station_geo_data = station_geo_data.drop(\"position_geographique\", axis=1)"
   ]
  },
  {
   "cell_type": "code",
   "execution_count": 10,
   "metadata": {},
   "outputs": [],
   "source": [
    "merged = station_freq_data.merge(\n",
    "    station_geo_data.drop(\"nom_gare\", axis=1), on=[\"uic\"], how=\"left\"\n",
    ")\n",
    "merged = merged[merged[\"total_voyageurs_2022\"] > 0]"
   ]
  },
  {
   "cell_type": "markdown",
   "metadata": {},
   "source": [
    "## Importations des données communales "
   ]
  },
  {
   "cell_type": "code",
   "execution_count": 2,
   "metadata": {},
   "outputs": [
    {
     "name": "stdout",
     "output_type": "stream",
     "text": [
      "connection successful\n"
     ]
    }
   ],
   "source": [
    "s3=s3_connection()"
   ]
  },
  {
   "cell_type": "markdown",
   "metadata": {},
   "source": [
    "On importe les données communales récupérées sur le site \"https://www.unehistoireduconflitpolitique.fr/telecharger.html\". Nous avons des fichiers de données sur le taux de personnes diplômées par commune, la population et le revenu par habitant."
   ]
  },
  {
   "cell_type": "markdown",
   "metadata": {},
   "source": [
    "1. Revenus par habitant et population par commune"
   ]
  },
  {
   "cell_type": "code",
   "execution_count": 3,
   "metadata": {},
   "outputs": [
    {
     "name": "stdout",
     "output_type": "stream",
     "text": [
      "  codecommune             nomcommune  pop2022  revmoy2022\n",
      "0       01001  ABERGEMENT-CLEMENCIAT      747    21615.65\n",
      "1       01002    ABERGEMENT-DE-VAREY      288    16945.77\n",
      "2       01004      AMBERIEU-EN-BUGEY    14375    18423.11\n",
      "3       01005    AMBERIEUX-EN-DOMBES     1717    20996.12\n",
      "4       01006                AMBLEON      116    18075.99\n",
      "         pop2022  revmoy2022\n",
      "count   36661.00    34746.00\n",
      "mean     1925.01    17051.48\n",
      "std     14952.15     5197.38\n",
      "min         0.00     3350.48\n",
      "25%       182.00    14012.09\n",
      "50%       429.00    16322.69\n",
      "75%      1118.00    19126.26\n",
      "max   2118266.00   126903.91\n"
     ]
    }
   ],
   "source": [
    "columns_to_select = [\"codecommune\", \"nomcommune\", \"pop2022\", \"revmoy2022\"]\n",
    "dtype_spec = {'codecommune': 'str'}\n",
    "\n",
    "path_revcommunes = \"clichere/diffusion/revcommunes.csv\"\n",
    "revcommunes = s3.read_csv_from_s3(path_revcommunes, columns_to_select, dtype_spec)\n",
    "\n",
    "print(revcommunes.head())\n",
    "\n",
    "print(revcommunes.describe())"
   ]
  },
  {
   "cell_type": "markdown",
   "metadata": {},
   "source": [
    "2. Taux de diplome par commune"
   ]
  },
  {
   "cell_type": "code",
   "execution_count": 4,
   "metadata": {},
   "outputs": [
    {
     "name": "stdout",
     "output_type": "stream",
     "text": [
      "  codecommune  pbac2022  psup2022\n",
      "0       01001      0.45      0.23\n",
      "1       01002      0.67      0.09\n",
      "2       01003       NaN       NaN\n",
      "3       01004      0.46      0.29\n",
      "4       01005      0.34      0.17\n",
      "       pbac2022  psup2022\n",
      "count  35222.00  35222.00\n",
      "mean       0.46      0.27\n",
      "std        0.20      0.17\n",
      "min        0.00      0.00\n",
      "25%        0.33      0.16\n",
      "50%        0.45      0.26\n",
      "75%        0.58      0.37\n",
      "max        1.00      1.00\n"
     ]
    }
   ],
   "source": [
    "columns_to_select = [\"codecommune\",\"pbac2022\", \"psup2022\"]\n",
    "dtype_spec = {'codecommune': 'str'}\n",
    "\n",
    "path_dipcommunes = \"clichere/diffusion/diplomescommunes.csv\"\n",
    "dipcommunes = s3.read_csv_from_s3(path_dipcommunes, columns_to_select, dtype_spec)\n",
    "\n",
    "print(dipcommunes.head())\n",
    "\n",
    "print(dipcommunes.describe())"
   ]
  },
  {
   "cell_type": "markdown",
   "metadata": {},
   "source": [
    "3. Fusion et export des fichiers de données"
   ]
  },
  {
   "cell_type": "code",
   "execution_count": null,
   "metadata": {},
   "outputs": [
    {
     "name": "stdout",
     "output_type": "stream",
     "text": [
      "      codecommune             nomcommune  pop2022  revmoy2022  pbac2022  \\\n",
      "0           01001  ABERGEMENT-CLEMENCIAT      747    21615.65      0.45   \n",
      "1           01002    ABERGEMENT-DE-VAREY      288    16945.77      0.67   \n",
      "2           01004      AMBERIEU-EN-BUGEY    14375    18423.11      0.46   \n",
      "3           01005    AMBERIEUX-EN-DOMBES     1717    20996.12      0.34   \n",
      "4           01006                AMBLEON      116    18075.99      1.00   \n",
      "...           ...                    ...      ...         ...       ...   \n",
      "36627       95676     VILLERS-EN-ARTHIES      529    20655.25      0.53   \n",
      "36628       95678          VILLIERS-ADAM      927    26113.93      0.89   \n",
      "36629       95680        VILLIERS-LE-BEL    27033    11837.68      0.44   \n",
      "36630       95682        VILLIERS-LE-SEC      248    18516.31      0.27   \n",
      "36631       95690    WY-DIT-JOLY-VILLAGE      375    25304.95      0.87   \n",
      "\n",
      "       psup2022  \n",
      "0          0.23  \n",
      "1          0.09  \n",
      "2          0.29  \n",
      "3          0.17  \n",
      "4          0.01  \n",
      "...         ...  \n",
      "36627      0.51  \n",
      "36628      0.67  \n",
      "36629      0.23  \n",
      "36630      0.09  \n",
      "36631      0.59  \n",
      "\n",
      "[36632 rows x 6 columns]\n"
     ]
    }
   ],
   "source": [
    "rev_dip_pop_comm = pd.merge(revcommunes, dipcommunes, on='codecommune', how='inner')\n",
    "\n",
    "print(rev_dip_pop_comm)"
   ]
  },
  {
   "cell_type": "code",
   "execution_count": 6,
   "metadata": {},
   "outputs": [],
   "source": [
    "output_path1 = 'clichere/diffusion/rev_dip_pop_comm.parquet'\n",
    "output_path2 = 'clichere/diffusion/revcommunes.parquet'\n",
    "output_path3 = 'clichere/diffusion/dipcommunes.parquet'\n",
    "\n",
    "s3.from_pandas_to_parquet_store_in_s3(rev_dip_pop_comm, output_path1)\n",
    "s3.from_pandas_to_parquet_store_in_s3(revcommunes, output_path2)\n",
    "s3.from_pandas_to_parquet_store_in_s3(dipcommunes, output_path3)"
   ]
  },
  {
   "cell_type": "markdown",
   "metadata": {},
   "source": []
  },
  {
   "cell_type": "markdown",
   "metadata": {},
   "source": [
    "here insert code from communes and delete extract from S3!!!!!!!!!!!!!"
   ]
  },
  {
   "cell_type": "markdown",
   "metadata": {},
   "source": [
    "get stat about regions"
   ]
  },
  {
   "cell_type": "code",
   "execution_count": null,
   "metadata": {},
   "outputs": [
    {
     "name": "stdout",
     "output_type": "stream",
     "text": [
      "connection successful\n"
     ]
    }
   ],
   "source": [
    "regional_stat=s3.get_tables_from_s3(\"clichere/diffusion/rev_dip_pop_comm.parquet\")"
   ]
  },
  {
   "cell_type": "code",
   "execution_count": 12,
   "metadata": {},
   "outputs": [
    {
     "data": {
      "text/html": [
       "<div>\n",
       "<style scoped>\n",
       "    .dataframe tbody tr th:only-of-type {\n",
       "        vertical-align: middle;\n",
       "    }\n",
       "\n",
       "    .dataframe tbody tr th {\n",
       "        vertical-align: top;\n",
       "    }\n",
       "\n",
       "    .dataframe thead th {\n",
       "        text-align: right;\n",
       "    }\n",
       "</style>\n",
       "<table border=\"1\" class=\"dataframe\">\n",
       "  <thead>\n",
       "    <tr style=\"text-align: right;\">\n",
       "      <th></th>\n",
       "      <th>codecommune</th>\n",
       "      <th>nomcommune</th>\n",
       "      <th>pop2022</th>\n",
       "      <th>revmoy2022</th>\n",
       "      <th>pbac2022</th>\n",
       "      <th>psup2022</th>\n",
       "    </tr>\n",
       "  </thead>\n",
       "  <tbody>\n",
       "    <tr>\n",
       "      <th>0</th>\n",
       "      <td>01001</td>\n",
       "      <td>ABERGEMENT-CLEMENCIAT</td>\n",
       "      <td>747</td>\n",
       "      <td>21615.65</td>\n",
       "      <td>0.45</td>\n",
       "      <td>0.23</td>\n",
       "    </tr>\n",
       "    <tr>\n",
       "      <th>1</th>\n",
       "      <td>01002</td>\n",
       "      <td>ABERGEMENT-DE-VAREY</td>\n",
       "      <td>288</td>\n",
       "      <td>16945.77</td>\n",
       "      <td>0.67</td>\n",
       "      <td>0.09</td>\n",
       "    </tr>\n",
       "    <tr>\n",
       "      <th>2</th>\n",
       "      <td>01004</td>\n",
       "      <td>AMBERIEU-EN-BUGEY</td>\n",
       "      <td>14375</td>\n",
       "      <td>18423.11</td>\n",
       "      <td>0.46</td>\n",
       "      <td>0.29</td>\n",
       "    </tr>\n",
       "    <tr>\n",
       "      <th>3</th>\n",
       "      <td>01005</td>\n",
       "      <td>AMBERIEUX-EN-DOMBES</td>\n",
       "      <td>1717</td>\n",
       "      <td>20996.12</td>\n",
       "      <td>0.34</td>\n",
       "      <td>0.17</td>\n",
       "    </tr>\n",
       "    <tr>\n",
       "      <th>4</th>\n",
       "      <td>01006</td>\n",
       "      <td>AMBLEON</td>\n",
       "      <td>116</td>\n",
       "      <td>18075.99</td>\n",
       "      <td>1.00</td>\n",
       "      <td>0.01</td>\n",
       "    </tr>\n",
       "    <tr>\n",
       "      <th>...</th>\n",
       "      <td>...</td>\n",
       "      <td>...</td>\n",
       "      <td>...</td>\n",
       "      <td>...</td>\n",
       "      <td>...</td>\n",
       "      <td>...</td>\n",
       "    </tr>\n",
       "    <tr>\n",
       "      <th>36627</th>\n",
       "      <td>95676</td>\n",
       "      <td>VILLERS-EN-ARTHIES</td>\n",
       "      <td>529</td>\n",
       "      <td>20655.25</td>\n",
       "      <td>0.53</td>\n",
       "      <td>0.51</td>\n",
       "    </tr>\n",
       "    <tr>\n",
       "      <th>36628</th>\n",
       "      <td>95678</td>\n",
       "      <td>VILLIERS-ADAM</td>\n",
       "      <td>927</td>\n",
       "      <td>26113.93</td>\n",
       "      <td>0.89</td>\n",
       "      <td>0.67</td>\n",
       "    </tr>\n",
       "    <tr>\n",
       "      <th>36629</th>\n",
       "      <td>95680</td>\n",
       "      <td>VILLIERS-LE-BEL</td>\n",
       "      <td>27033</td>\n",
       "      <td>11837.68</td>\n",
       "      <td>0.44</td>\n",
       "      <td>0.23</td>\n",
       "    </tr>\n",
       "    <tr>\n",
       "      <th>36630</th>\n",
       "      <td>95682</td>\n",
       "      <td>VILLIERS-LE-SEC</td>\n",
       "      <td>248</td>\n",
       "      <td>18516.31</td>\n",
       "      <td>0.27</td>\n",
       "      <td>0.09</td>\n",
       "    </tr>\n",
       "    <tr>\n",
       "      <th>36631</th>\n",
       "      <td>95690</td>\n",
       "      <td>WY-DIT-JOLY-VILLAGE</td>\n",
       "      <td>375</td>\n",
       "      <td>25304.95</td>\n",
       "      <td>0.87</td>\n",
       "      <td>0.59</td>\n",
       "    </tr>\n",
       "  </tbody>\n",
       "</table>\n",
       "<p>36632 rows × 6 columns</p>\n",
       "</div>"
      ],
      "text/plain": [
       "      codecommune             nomcommune  pop2022  revmoy2022  pbac2022  \\\n",
       "0           01001  ABERGEMENT-CLEMENCIAT      747    21615.65      0.45   \n",
       "1           01002    ABERGEMENT-DE-VAREY      288    16945.77      0.67   \n",
       "2           01004      AMBERIEU-EN-BUGEY    14375    18423.11      0.46   \n",
       "3           01005    AMBERIEUX-EN-DOMBES     1717    20996.12      0.34   \n",
       "4           01006                AMBLEON      116    18075.99      1.00   \n",
       "...           ...                    ...      ...         ...       ...   \n",
       "36627       95676     VILLERS-EN-ARTHIES      529    20655.25      0.53   \n",
       "36628       95678          VILLIERS-ADAM      927    26113.93      0.89   \n",
       "36629       95680        VILLIERS-LE-BEL    27033    11837.68      0.44   \n",
       "36630       95682        VILLIERS-LE-SEC      248    18516.31      0.27   \n",
       "36631       95690    WY-DIT-JOLY-VILLAGE      375    25304.95      0.87   \n",
       "\n",
       "       psup2022  \n",
       "0          0.23  \n",
       "1          0.09  \n",
       "2          0.29  \n",
       "3          0.17  \n",
       "4          0.01  \n",
       "...         ...  \n",
       "36627      0.51  \n",
       "36628      0.67  \n",
       "36629      0.23  \n",
       "36630      0.09  \n",
       "36631      0.59  \n",
       "\n",
       "[36632 rows x 6 columns]"
      ]
     },
     "execution_count": 12,
     "metadata": {},
     "output_type": "execute_result"
    }
   ],
   "source": [
    "regional_stat"
   ]
  },
  {
   "cell_type": "code",
   "execution_count": 13,
   "metadata": {},
   "outputs": [],
   "source": [
    "regional_stat = regional_stat[\n",
    "    (regional_stat[\"pop2022\"] > 0)\n",
    "    & (regional_stat[\"revmoy2022\"] > 0)\n",
    "    & (regional_stat[\"pbac2022\"].notna())\n",
    "]"
   ]
  },
  {
   "cell_type": "code",
   "execution_count": 14,
   "metadata": {},
   "outputs": [],
   "source": [
    "fusion=merged.merge(regional_stat,left_on=\"codeinsee\",right_on=\"codecommune\",how=\"left\")"
   ]
  },
  {
   "cell_type": "code",
   "execution_count": 15,
   "metadata": {},
   "outputs": [
    {
     "data": {
      "text/html": [
       "<div>\n",
       "<style scoped>\n",
       "    .dataframe tbody tr th:only-of-type {\n",
       "        vertical-align: middle;\n",
       "    }\n",
       "\n",
       "    .dataframe tbody tr th {\n",
       "        vertical-align: top;\n",
       "    }\n",
       "\n",
       "    .dataframe thead th {\n",
       "        text-align: right;\n",
       "    }\n",
       "</style>\n",
       "<table border=\"1\" class=\"dataframe\">\n",
       "  <thead>\n",
       "    <tr style=\"text-align: right;\">\n",
       "      <th></th>\n",
       "      <th>total_voyageurs_2022</th>\n",
       "      <th>nom_gare</th>\n",
       "      <th>uic</th>\n",
       "      <th>codeinsee</th>\n",
       "      <th>lon_gare</th>\n",
       "      <th>lat_gare</th>\n",
       "      <th>codecommune</th>\n",
       "      <th>nomcommune</th>\n",
       "      <th>pop2022</th>\n",
       "      <th>revmoy2022</th>\n",
       "      <th>pbac2022</th>\n",
       "      <th>psup2022</th>\n",
       "    </tr>\n",
       "  </thead>\n",
       "  <tbody>\n",
       "    <tr>\n",
       "      <th>44</th>\n",
       "      <td>26977</td>\n",
       "      <td>Belleville</td>\n",
       "      <td>87141804</td>\n",
       "      <td>54060</td>\n",
       "      <td>6.10</td>\n",
       "      <td>48.82</td>\n",
       "      <td>54060</td>\n",
       "      <td>BELLEVILLE</td>\n",
       "      <td>1395.00</td>\n",
       "      <td>18995.50</td>\n",
       "      <td>0.46</td>\n",
       "      <td>0.23</td>\n",
       "    </tr>\n",
       "    <tr>\n",
       "      <th>2411</th>\n",
       "      <td>25360</td>\n",
       "      <td>Brionne</td>\n",
       "      <td>87415364</td>\n",
       "      <td>27116</td>\n",
       "      <td>0.71</td>\n",
       "      <td>49.20</td>\n",
       "      <td>27116</td>\n",
       "      <td>BRIONNE</td>\n",
       "      <td>4431.00</td>\n",
       "      <td>12957.08</td>\n",
       "      <td>0.23</td>\n",
       "      <td>0.08</td>\n",
       "    </tr>\n",
       "  </tbody>\n",
       "</table>\n",
       "</div>"
      ],
      "text/plain": [
       "      total_voyageurs_2022    nom_gare       uic codeinsee  lon_gare  \\\n",
       "44                   26977  Belleville  87141804     54060      6.10   \n",
       "2411                 25360     Brionne  87415364     27116      0.71   \n",
       "\n",
       "      lat_gare codecommune  nomcommune  pop2022  revmoy2022  pbac2022  \\\n",
       "44       48.82       54060  BELLEVILLE  1395.00    18995.50      0.46   \n",
       "2411     49.20       27116     BRIONNE  4431.00    12957.08      0.23   \n",
       "\n",
       "      psup2022  \n",
       "44        0.23  \n",
       "2411      0.08  "
      ]
     },
     "execution_count": 15,
     "metadata": {},
     "output_type": "execute_result"
    }
   ],
   "source": [
    "fusion.sample(2)"
   ]
  },
  {
   "cell_type": "code",
   "execution_count": 16,
   "metadata": {},
   "outputs": [],
   "source": [
    "final=fusion[fusion[\"pop2022\"].notna()]"
   ]
  },
  {
   "cell_type": "code",
   "execution_count": 17,
   "metadata": {},
   "outputs": [],
   "source": [
    "cross_table_for_distance_calculation = final[[\"uic\", \"lon_gare\", \"lat_gare\"]].merge(\n",
    "    final[[\"uic\", \"lon_gare\", \"lat_gare\"]], how=\"cross\"\n",
    ")\n",
    "(\n",
    "    lat1,\n",
    "    lon1,\n",
    "    lat2,\n",
    "    lon2,\n",
    ") = (\n",
    "    cross_table_for_distance_calculation[\"lat_gare_x\"],\n",
    "    cross_table_for_distance_calculation[\"lon_gare_x\"],\n",
    "    cross_table_for_distance_calculation[\"lat_gare_y\"],\n",
    "    cross_table_for_distance_calculation[\"lon_gare_y\"],\n",
    ")\n",
    "cross_table_for_distance_calculation[\"dist_closest_station_km\"] = haversine_vectorized(\n",
    "    lat1, lon1, lat2, lon2\n",
    ")"
   ]
  },
  {
   "cell_type": "code",
   "execution_count": 18,
   "metadata": {},
   "outputs": [],
   "source": [
    "cross_table_for_distance_calculation = cross_table_for_distance_calculation[\n",
    "    cross_table_for_distance_calculation[\"uic_x\"]\n",
    "    != cross_table_for_distance_calculation[\"uic_y\"]\n",
    "]"
   ]
  },
  {
   "cell_type": "code",
   "execution_count": 19,
   "metadata": {},
   "outputs": [],
   "source": [
    "idx = cross_table_for_distance_calculation.groupby([\"uic_x\"])[\n",
    "    \"dist_closest_station_km\"\n",
    "].idxmin()\n",
    "\n",
    "result = cross_table_for_distance_calculation.loc[idx].reset_index(drop=True)"
   ]
  },
  {
   "cell_type": "code",
   "execution_count": 20,
   "metadata": {},
   "outputs": [],
   "source": [
    "final = final.merge(\n",
    "    result[[\"uic_x\", \"dist_closest_station_km\"]].rename(columns={\"uic_x\": \"uic\"}),\n",
    "    on=\"uic\",\n",
    "    how=\"inner\",\n",
    ")"
   ]
  },
  {
   "cell_type": "code",
   "execution_count": 21,
   "metadata": {},
   "outputs": [],
   "source": [
    "\n",
    "new=final.groupby('nomcommune').agg({'nomcommune': ['count']})\n",
    "new[\"commune\"]=new.index\n",
    "new=new.reset_index(drop=True)\n",
    "new.columns = [\"nb_stations_same_commune\",\"nomcommune\"]"
   ]
  },
  {
   "cell_type": "code",
   "execution_count": 22,
   "metadata": {},
   "outputs": [],
   "source": [
    "final=final.merge(new,on=\"nomcommune\",how=\"inner\")"
   ]
  },
  {
   "cell_type": "code",
   "execution_count": 23,
   "metadata": {},
   "outputs": [],
   "source": [
    "french_regions=gouv_api_addresses(final)"
   ]
  },
  {
   "cell_type": "code",
   "execution_count": 24,
   "metadata": {},
   "outputs": [],
   "source": [
    "final[\"regions\"]=french_regions"
   ]
  },
  {
   "cell_type": "code",
   "execution_count": 25,
   "metadata": {},
   "outputs": [
    {
     "data": {
      "text/plain": [
       "array(['Pays de la Loire', 'Île-de-France', 'Hauts-de-France',\n",
       "       \"Provence-Alpes-Côte d'Azur\", 'Occitanie', 'Auvergne-Rhône-Alpes',\n",
       "       'Bourgogne-Franche-Comté', 'Centre-Val de Loire', 'Normandie',\n",
       "       'Nouvelle-Aquitaine', 'Grand Est', 'Bretagne'], dtype=object)"
      ]
     },
     "execution_count": 25,
     "metadata": {},
     "output_type": "execute_result"
    }
   ],
   "source": [
    "final[\"regions\"].unique()"
   ]
  },
  {
   "cell_type": "code",
   "execution_count": 26,
   "metadata": {},
   "outputs": [
    {
     "data": {
      "text/plain": [
       "total_voyageurs_2022        0\n",
       "nom_gare                    0\n",
       "uic                         0\n",
       "codeinsee                   0\n",
       "lon_gare                    0\n",
       "lat_gare                    0\n",
       "codecommune                 0\n",
       "nomcommune                  0\n",
       "pop2022                     0\n",
       "revmoy2022                  0\n",
       "pbac2022                    0\n",
       "psup2022                    0\n",
       "dist_closest_station_km     0\n",
       "nb_stations_same_commune    0\n",
       "regions                     0\n",
       "dtype: int64"
      ]
     },
     "execution_count": 26,
     "metadata": {},
     "output_type": "execute_result"
    }
   ],
   "source": [
    "final.isna().sum()"
   ]
  },
  {
   "cell_type": "code",
   "execution_count": 27,
   "metadata": {},
   "outputs": [
    {
     "data": {
      "text/html": [
       "<div>\n",
       "<style scoped>\n",
       "    .dataframe tbody tr th:only-of-type {\n",
       "        vertical-align: middle;\n",
       "    }\n",
       "\n",
       "    .dataframe tbody tr th {\n",
       "        vertical-align: top;\n",
       "    }\n",
       "\n",
       "    .dataframe thead th {\n",
       "        text-align: right;\n",
       "    }\n",
       "</style>\n",
       "<table border=\"1\" class=\"dataframe\">\n",
       "  <thead>\n",
       "    <tr style=\"text-align: right;\">\n",
       "      <th></th>\n",
       "      <th>total_voyageurs_2022</th>\n",
       "      <th>nom_gare</th>\n",
       "      <th>uic</th>\n",
       "      <th>codeinsee</th>\n",
       "      <th>lon_gare</th>\n",
       "      <th>lat_gare</th>\n",
       "      <th>codecommune</th>\n",
       "      <th>nomcommune</th>\n",
       "      <th>pop2022</th>\n",
       "      <th>revmoy2022</th>\n",
       "      <th>pbac2022</th>\n",
       "      <th>psup2022</th>\n",
       "      <th>dist_closest_station_km</th>\n",
       "      <th>nb_stations_same_commune</th>\n",
       "      <th>regions</th>\n",
       "    </tr>\n",
       "  </thead>\n",
       "  <tbody>\n",
       "    <tr>\n",
       "      <th>1938</th>\n",
       "      <td>28946</td>\n",
       "      <td>La Grand-Combe</td>\n",
       "      <td>87775254</td>\n",
       "      <td>30132</td>\n",
       "      <td>4.03</td>\n",
       "      <td>44.21</td>\n",
       "      <td>30132</td>\n",
       "      <td>GRAND-COMBE</td>\n",
       "      <td>4884.00</td>\n",
       "      <td>8132.21</td>\n",
       "      <td>0.24</td>\n",
       "      <td>0.08</td>\n",
       "      <td>2.76</td>\n",
       "      <td>2</td>\n",
       "      <td>Occitanie</td>\n",
       "    </tr>\n",
       "    <tr>\n",
       "      <th>2122</th>\n",
       "      <td>6077</td>\n",
       "      <td>Saint-Dalmas de Tende</td>\n",
       "      <td>87756866</td>\n",
       "      <td>06162</td>\n",
       "      <td>7.58</td>\n",
       "      <td>44.06</td>\n",
       "      <td>06162</td>\n",
       "      <td>BRIGUE</td>\n",
       "      <td>625.00</td>\n",
       "      <td>13126.16</td>\n",
       "      <td>0.55</td>\n",
       "      <td>0.54</td>\n",
       "      <td>1.92</td>\n",
       "      <td>2</td>\n",
       "      <td>Provence-Alpes-Côte d'Azur</td>\n",
       "    </tr>\n",
       "  </tbody>\n",
       "</table>\n",
       "</div>"
      ],
      "text/plain": [
       "      total_voyageurs_2022               nom_gare       uic codeinsee  \\\n",
       "1938                 28946         La Grand-Combe  87775254     30132   \n",
       "2122                  6077  Saint-Dalmas de Tende  87756866     06162   \n",
       "\n",
       "      lon_gare  lat_gare codecommune   nomcommune  pop2022  revmoy2022  \\\n",
       "1938      4.03     44.21       30132  GRAND-COMBE  4884.00     8132.21   \n",
       "2122      7.58     44.06       06162       BRIGUE   625.00    13126.16   \n",
       "\n",
       "      pbac2022  psup2022  dist_closest_station_km  nb_stations_same_commune  \\\n",
       "1938      0.24      0.08                     2.76                         2   \n",
       "2122      0.55      0.54                     1.92                         2   \n",
       "\n",
       "                         regions  \n",
       "1938                   Occitanie  \n",
       "2122  Provence-Alpes-Côte d'Azur  "
      ]
     },
     "execution_count": 27,
     "metadata": {},
     "output_type": "execute_result"
    }
   ],
   "source": [
    "final.sample(2)"
   ]
  },
  {
   "cell_type": "code",
   "execution_count": 28,
   "metadata": {},
   "outputs": [
    {
     "name": "stdout",
     "output_type": "stream",
     "text": [
      "connection successful\n"
     ]
    }
   ],
   "source": [
    "s3=s3_connection()\n",
    "\n",
    "s3.from_pandas_to_parquet_store_in_s3(final,\"aayrapetyan/diffusion/final_table.parquet\")"
   ]
  },
  {
   "cell_type": "code",
   "execution_count": 29,
   "metadata": {},
   "outputs": [],
   "source": [
    "s3.from_pandas_to_parquet_store_in_s3(final,\"aayrapetyan/diffusion/final_table.parquet\")"
   ]
  },
  {
   "cell_type": "code",
   "execution_count": 30,
   "metadata": {},
   "outputs": [
    {
     "data": {
      "text/html": [
       "<div>\n",
       "<style scoped>\n",
       "    .dataframe tbody tr th:only-of-type {\n",
       "        vertical-align: middle;\n",
       "    }\n",
       "\n",
       "    .dataframe tbody tr th {\n",
       "        vertical-align: top;\n",
       "    }\n",
       "\n",
       "    .dataframe thead th {\n",
       "        text-align: right;\n",
       "    }\n",
       "</style>\n",
       "<table border=\"1\" class=\"dataframe\">\n",
       "  <thead>\n",
       "    <tr style=\"text-align: right;\">\n",
       "      <th></th>\n",
       "      <th>total_voyageurs_2022</th>\n",
       "      <th>nom_gare</th>\n",
       "      <th>uic</th>\n",
       "      <th>codeinsee</th>\n",
       "      <th>lon_gare</th>\n",
       "      <th>lat_gare</th>\n",
       "      <th>codecommune</th>\n",
       "      <th>nomcommune</th>\n",
       "      <th>pop2022</th>\n",
       "      <th>revmoy2022</th>\n",
       "      <th>pbac2022</th>\n",
       "      <th>psup2022</th>\n",
       "      <th>dist_closest_station_km</th>\n",
       "      <th>nb_stations_same_commune</th>\n",
       "      <th>regions</th>\n",
       "    </tr>\n",
       "  </thead>\n",
       "  <tbody>\n",
       "    <tr>\n",
       "      <th>0</th>\n",
       "      <td>40825</td>\n",
       "      <td>Abbaretz</td>\n",
       "      <td>87481614</td>\n",
       "      <td>44001</td>\n",
       "      <td>-1.52</td>\n",
       "      <td>47.55</td>\n",
       "      <td>44001</td>\n",
       "      <td>ABBARETZ</td>\n",
       "      <td>2257.00</td>\n",
       "      <td>12567.25</td>\n",
       "      <td>0.27</td>\n",
       "      <td>0.17</td>\n",
       "      <td>9.75</td>\n",
       "      <td>1</td>\n",
       "      <td>Pays de la Loire</td>\n",
       "    </tr>\n",
       "    <tr>\n",
       "      <th>1</th>\n",
       "      <td>177092</td>\n",
       "      <td>Achères Grand Cormier</td>\n",
       "      <td>87386052</td>\n",
       "      <td>78551</td>\n",
       "      <td>2.09</td>\n",
       "      <td>48.96</td>\n",
       "      <td>78551</td>\n",
       "      <td>SAINT-GERMAIN-EN-LAYE</td>\n",
       "      <td>39172.00</td>\n",
       "      <td>41601.99</td>\n",
       "      <td>0.80</td>\n",
       "      <td>0.64</td>\n",
       "      <td>1.97</td>\n",
       "      <td>1</td>\n",
       "      <td>Île-de-France</td>\n",
       "    </tr>\n",
       "    <tr>\n",
       "      <th>2</th>\n",
       "      <td>80648</td>\n",
       "      <td>Achiet-le-Grand</td>\n",
       "      <td>87342048</td>\n",
       "      <td>62005</td>\n",
       "      <td>2.78</td>\n",
       "      <td>50.13</td>\n",
       "      <td>62005</td>\n",
       "      <td>ACHIET-LE-GRAND</td>\n",
       "      <td>888.00</td>\n",
       "      <td>15813.03</td>\n",
       "      <td>0.42</td>\n",
       "      <td>0.34</td>\n",
       "      <td>4.22</td>\n",
       "      <td>1</td>\n",
       "      <td>Hauts-de-France</td>\n",
       "    </tr>\n",
       "    <tr>\n",
       "      <th>3</th>\n",
       "      <td>32800</td>\n",
       "      <td>Agay</td>\n",
       "      <td>87757559</td>\n",
       "      <td>83118</td>\n",
       "      <td>6.86</td>\n",
       "      <td>43.43</td>\n",
       "      <td>83118</td>\n",
       "      <td>SAINT-RAPHAEL</td>\n",
       "      <td>37114.00</td>\n",
       "      <td>26637.97</td>\n",
       "      <td>0.55</td>\n",
       "      <td>0.34</td>\n",
       "      <td>1.80</td>\n",
       "      <td>6</td>\n",
       "      <td>Provence-Alpes-Côte d'Azur</td>\n",
       "    </tr>\n",
       "    <tr>\n",
       "      <th>4</th>\n",
       "      <td>11325</td>\n",
       "      <td>Aigues-Mortes</td>\n",
       "      <td>87775858</td>\n",
       "      <td>30003</td>\n",
       "      <td>4.19</td>\n",
       "      <td>43.57</td>\n",
       "      <td>30003</td>\n",
       "      <td>AIGUES-MORTES</td>\n",
       "      <td>8076.00</td>\n",
       "      <td>20798.90</td>\n",
       "      <td>0.37</td>\n",
       "      <td>0.20</td>\n",
       "      <td>5.56</td>\n",
       "      <td>1</td>\n",
       "      <td>Occitanie</td>\n",
       "    </tr>\n",
       "    <tr>\n",
       "      <th>...</th>\n",
       "      <td>...</td>\n",
       "      <td>...</td>\n",
       "      <td>...</td>\n",
       "      <td>...</td>\n",
       "      <td>...</td>\n",
       "      <td>...</td>\n",
       "      <td>...</td>\n",
       "      <td>...</td>\n",
       "      <td>...</td>\n",
       "      <td>...</td>\n",
       "      <td>...</td>\n",
       "      <td>...</td>\n",
       "      <td>...</td>\n",
       "      <td>...</td>\n",
       "      <td>...</td>\n",
       "    </tr>\n",
       "    <tr>\n",
       "      <th>2803</th>\n",
       "      <td>176599</td>\n",
       "      <td>Weyersheim</td>\n",
       "      <td>87213678</td>\n",
       "      <td>67529</td>\n",
       "      <td>7.80</td>\n",
       "      <td>48.72</td>\n",
       "      <td>67529</td>\n",
       "      <td>WEYERSHEIM</td>\n",
       "      <td>3365.00</td>\n",
       "      <td>21737.75</td>\n",
       "      <td>0.40</td>\n",
       "      <td>0.26</td>\n",
       "      <td>2.10</td>\n",
       "      <td>1</td>\n",
       "      <td>Grand Est</td>\n",
       "    </tr>\n",
       "    <tr>\n",
       "      <th>2804</th>\n",
       "      <td>30849</td>\n",
       "      <td>Willer-sur-Thur</td>\n",
       "      <td>87182584</td>\n",
       "      <td>68372</td>\n",
       "      <td>7.07</td>\n",
       "      <td>47.84</td>\n",
       "      <td>68372</td>\n",
       "      <td>WILLER-SUR-THUR</td>\n",
       "      <td>1735.00</td>\n",
       "      <td>18620.66</td>\n",
       "      <td>0.38</td>\n",
       "      <td>0.13</td>\n",
       "      <td>1.82</td>\n",
       "      <td>1</td>\n",
       "      <td>Grand Est</td>\n",
       "    </tr>\n",
       "    <tr>\n",
       "      <th>2805</th>\n",
       "      <td>37020</td>\n",
       "      <td>Wimille - Wimereux</td>\n",
       "      <td>87317123</td>\n",
       "      <td>62894</td>\n",
       "      <td>1.61</td>\n",
       "      <td>50.76</td>\n",
       "      <td>62894</td>\n",
       "      <td>WIMILLE</td>\n",
       "      <td>4062.00</td>\n",
       "      <td>19524.12</td>\n",
       "      <td>0.40</td>\n",
       "      <td>0.28</td>\n",
       "      <td>4.08</td>\n",
       "      <td>1</td>\n",
       "      <td>Hauts-de-France</td>\n",
       "    </tr>\n",
       "    <tr>\n",
       "      <th>2806</th>\n",
       "      <td>38618</td>\n",
       "      <td>Ygos-Saint-Saturnin</td>\n",
       "      <td>87671487</td>\n",
       "      <td>40333</td>\n",
       "      <td>-0.74</td>\n",
       "      <td>43.98</td>\n",
       "      <td>40333</td>\n",
       "      <td>YGOS-SAINT-SATURNIN</td>\n",
       "      <td>1490.00</td>\n",
       "      <td>15004.68</td>\n",
       "      <td>0.46</td>\n",
       "      <td>0.28</td>\n",
       "      <td>6.68</td>\n",
       "      <td>1</td>\n",
       "      <td>Nouvelle-Aquitaine</td>\n",
       "    </tr>\n",
       "    <tr>\n",
       "      <th>2807</th>\n",
       "      <td>139</td>\n",
       "      <td>Ytrac</td>\n",
       "      <td>87645101</td>\n",
       "      <td>15267</td>\n",
       "      <td>2.36</td>\n",
       "      <td>44.91</td>\n",
       "      <td>15267</td>\n",
       "      <td>YTRAC</td>\n",
       "      <td>4598.00</td>\n",
       "      <td>18109.14</td>\n",
       "      <td>0.47</td>\n",
       "      <td>0.26</td>\n",
       "      <td>5.73</td>\n",
       "      <td>1</td>\n",
       "      <td>Auvergne-Rhône-Alpes</td>\n",
       "    </tr>\n",
       "  </tbody>\n",
       "</table>\n",
       "<p>2808 rows × 15 columns</p>\n",
       "</div>"
      ],
      "text/plain": [
       "      total_voyageurs_2022               nom_gare       uic codeinsee  \\\n",
       "0                    40825               Abbaretz  87481614     44001   \n",
       "1                   177092  Achères Grand Cormier  87386052     78551   \n",
       "2                    80648        Achiet-le-Grand  87342048     62005   \n",
       "3                    32800                   Agay  87757559     83118   \n",
       "4                    11325          Aigues-Mortes  87775858     30003   \n",
       "...                    ...                    ...       ...       ...   \n",
       "2803                176599             Weyersheim  87213678     67529   \n",
       "2804                 30849        Willer-sur-Thur  87182584     68372   \n",
       "2805                 37020     Wimille - Wimereux  87317123     62894   \n",
       "2806                 38618    Ygos-Saint-Saturnin  87671487     40333   \n",
       "2807                   139                  Ytrac  87645101     15267   \n",
       "\n",
       "      lon_gare  lat_gare codecommune             nomcommune  pop2022  \\\n",
       "0        -1.52     47.55       44001               ABBARETZ  2257.00   \n",
       "1         2.09     48.96       78551  SAINT-GERMAIN-EN-LAYE 39172.00   \n",
       "2         2.78     50.13       62005        ACHIET-LE-GRAND   888.00   \n",
       "3         6.86     43.43       83118          SAINT-RAPHAEL 37114.00   \n",
       "4         4.19     43.57       30003          AIGUES-MORTES  8076.00   \n",
       "...        ...       ...         ...                    ...      ...   \n",
       "2803      7.80     48.72       67529             WEYERSHEIM  3365.00   \n",
       "2804      7.07     47.84       68372        WILLER-SUR-THUR  1735.00   \n",
       "2805      1.61     50.76       62894                WIMILLE  4062.00   \n",
       "2806     -0.74     43.98       40333    YGOS-SAINT-SATURNIN  1490.00   \n",
       "2807      2.36     44.91       15267                  YTRAC  4598.00   \n",
       "\n",
       "      revmoy2022  pbac2022  psup2022  dist_closest_station_km  \\\n",
       "0       12567.25      0.27      0.17                     9.75   \n",
       "1       41601.99      0.80      0.64                     1.97   \n",
       "2       15813.03      0.42      0.34                     4.22   \n",
       "3       26637.97      0.55      0.34                     1.80   \n",
       "4       20798.90      0.37      0.20                     5.56   \n",
       "...          ...       ...       ...                      ...   \n",
       "2803    21737.75      0.40      0.26                     2.10   \n",
       "2804    18620.66      0.38      0.13                     1.82   \n",
       "2805    19524.12      0.40      0.28                     4.08   \n",
       "2806    15004.68      0.46      0.28                     6.68   \n",
       "2807    18109.14      0.47      0.26                     5.73   \n",
       "\n",
       "      nb_stations_same_commune                     regions  \n",
       "0                            1            Pays de la Loire  \n",
       "1                            1               Île-de-France  \n",
       "2                            1             Hauts-de-France  \n",
       "3                            6  Provence-Alpes-Côte d'Azur  \n",
       "4                            1                   Occitanie  \n",
       "...                        ...                         ...  \n",
       "2803                         1                   Grand Est  \n",
       "2804                         1                   Grand Est  \n",
       "2805                         1             Hauts-de-France  \n",
       "2806                         1          Nouvelle-Aquitaine  \n",
       "2807                         1        Auvergne-Rhône-Alpes  \n",
       "\n",
       "[2808 rows x 15 columns]"
      ]
     },
     "execution_count": 30,
     "metadata": {},
     "output_type": "execute_result"
    }
   ],
   "source": [
    "final=s3.get_tables_from_s3(\"aayrapetyan/diffusion/final_table.parquet\")\n",
    "final"
   ]
  }
 ],
 "metadata": {
  "kernelspec": {
   "display_name": "base",
   "language": "python",
   "name": "python3"
  },
  "language_info": {
   "codemirror_mode": {
    "name": "ipython",
    "version": 3
   },
   "file_extension": ".py",
   "mimetype": "text/x-python",
   "name": "python",
   "nbconvert_exporter": "python",
   "pygments_lexer": "ipython3",
   "version": "3.12.7"
  }
 },
 "nbformat": 4,
 "nbformat_minor": 2
}
