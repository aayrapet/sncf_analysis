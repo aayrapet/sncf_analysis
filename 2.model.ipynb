{
 "cells": [
  {
   "cell_type": "markdown",
   "metadata": {},
   "source": [
    "### La motivation"
   ]
  },
  {
   "cell_type": "code",
   "execution_count": 2,
   "metadata": {},
   "outputs": [],
   "source": [
    "from helpers import *"
   ]
  },
  {
   "cell_type": "code",
   "execution_count": 3,
   "metadata": {},
   "outputs": [
    {
     "name": "stdout",
     "output_type": "stream",
     "text": [
      "connection successful\n"
     ]
    }
   ],
   "source": [
    "s3=s3_connection()"
   ]
  },
  {
   "cell_type": "code",
   "execution_count": 4,
   "metadata": {},
   "outputs": [
    {
     "name": "stdout",
     "output_type": "stream",
     "text": [
      "             pop2022     revmoy2022      psup2022     pcadr2022\n",
      "count   36632.000000   34720.000000  35222.000000  35065.000000\n",
      "mean     1829.919387   17049.742626      0.274160      0.116033\n",
      "std      9954.647803    5194.780298      0.174347      0.134639\n",
      "min         0.000000    3350.483900      0.000000      0.000000\n",
      "25%       182.000000   14011.968000      0.157895      0.000000\n",
      "50%       428.000000   16321.857000      0.259494      0.082090\n",
      "75%      1116.000000   19124.010750      0.372092      0.177049\n",
      "max    875791.000000  126903.910000      1.000000      1.000000\n"
     ]
    }
   ],
   "source": [
    "regional_stat=s3.get_tables_from_s3(\"clichere/diffusion/final_comm.parquet\")\n",
    "print(regional_stat[[\"pop2022\", \"revmoy2022\", \"psup2022\", \"pcadr2022\"]].describe())"
   ]
  },
  {
   "cell_type": "code",
   "execution_count": 5,
   "metadata": {},
   "outputs": [
    {
     "name": "stdout",
     "output_type": "stream",
     "text": [
      "             pop2022     revmoy2022     psup2022    pcadr2022\n",
      "count    2808.000000    2808.000000  2808.000000  2808.000000\n",
      "mean    18078.540954   18221.520429     0.293846     0.141033\n",
      "std     50290.901554    6608.596156     0.132249     0.111082\n",
      "min        55.000000    5818.043000     0.000000     0.000000\n",
      "25%      1570.250000   14922.083000     0.203781     0.065058\n",
      "50%      4067.500000   16931.457000     0.279855     0.121349\n",
      "75%     12203.000000   19639.297250     0.365996     0.188963\n",
      "max    875791.000000  107572.810000     1.000000     0.817073\n"
     ]
    }
   ],
   "source": [
    "df=s3.get_tables_from_s3(\"aayrapetyan/diffusion/final_table.parquet\")\n",
    "print(df[[\"pop2022\", \"revmoy2022\", \"psup2022\", \"pcadr2022\"]].describe())"
   ]
  },
  {
   "cell_type": "markdown",
   "metadata": {},
   "source": [
    "On voit que la population moyenne diminue lorsque l'on sélectionne les communes ayant une gare. Cela correspond au fait que les petites communes ont moins de chance d'avoir une gare. On passe de 36000 communes à 2800 communes, ce qui donne tout de même beaucoup d'observations. On remarque que le revenu moyen d'une commune en France est plus élevé lorsque l'on sélectionne seulement les communes comprenant une gare. De même, les personnes sont en moyenne plus diplômée et appartiennent aux catégories socio-professionnelles plus élevées également. "
   ]
  },
  {
   "cell_type": "markdown",
   "metadata": {},
   "source": [
    "On veut montrer qu'il existe un lien entre le revenu, la catégorie socio-professionnelle et le fait de prendre un train en France. Pour cela, on crée une variable \"nombre de voyageur par habitant d'une commune\". Notre but est d'expliquer pourquoi est-ce que cette variable est différente en fonction des communes. Les premières visualisations et les premières données suggèrent qu'il peut y avoir un lien entre son revenu et le fait de prendre un train."
   ]
  },
  {
   "cell_type": "markdown",
   "metadata": {},
   "source": [
    "### Création d'une nouvelle variable"
   ]
  },
  {
   "cell_type": "code",
   "execution_count": 8,
   "metadata": {},
   "outputs": [
    {
     "name": "stdout",
     "output_type": "stream",
     "text": [
      "   freq_par_hab\n",
      "0     18.088170\n",
      "1      4.520882\n",
      "2     90.819820\n",
      "3      0.883764\n",
      "4      1.402303\n"
     ]
    }
   ],
   "source": [
    "df['freq_par_hab']= df['total_voyageurs_2022']/df['pop2022']\n",
    "print(df[[\"freq_par_hab\"]].head())"
   ]
  },
  {
   "cell_type": "code",
   "execution_count": null,
   "metadata": {},
   "outputs": [],
   "source": [
    "plot_hist(series=(final_dataset['freq_par_hab']),title_suffix=\"frequence par habitant\")"
   ]
  }
 ],
 "metadata": {
  "kernelspec": {
   "display_name": "base",
   "language": "python",
   "name": "python3"
  },
  "language_info": {
   "codemirror_mode": {
    "name": "ipython",
    "version": 3
   },
   "file_extension": ".py",
   "mimetype": "text/x-python",
   "name": "python",
   "nbconvert_exporter": "python",
   "pygments_lexer": "ipython3",
   "version": "3.12.7"
  }
 },
 "nbformat": 4,
 "nbformat_minor": 2
}
