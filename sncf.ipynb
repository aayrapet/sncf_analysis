{
 "cells": [
  {
   "cell_type": "code",
   "execution_count": null,
   "metadata": {},
   "outputs": [],
   "source": [
    "import requests\n",
    "import pandas as pd\n",
    "import numpy as np \n",
    "from tqdm import tqdm\n"
   ]
  },
  {
   "cell_type": "code",
   "execution_count": 81,
   "metadata": {},
   "outputs": [],
   "source": [
    "def get_names_geo_data_from_sncf_api(endpoint_suffix,**kwargs):\n",
    "    base_url = \"https://ressources.data.sncf.com\"\n",
    "    # Endpoint for the desired dataset\n",
    "    endpoint = f\"/api/explore/v2.1/catalog/datasets/{endpoint_suffix}/records\"\n",
    "    # Parameters for the API request\n",
    "    params = {\n",
    "        \n",
    "        \"limit\": 100,  # in this API maximum limit is 100\n",
    "        \"offset\": 0,  # we start from 0 to 100, then FROM 100 to 200 etc etc, but limit is fixed at 100, it is moving\n",
    "        \n",
    "    }\n",
    "    params.update(kwargs)\n",
    "    # Construct the full URL\n",
    "    url = f\"{base_url}{endpoint}\"\n",
    "    response = requests.get(url, params=params)\n",
    "    wb = response.json()\n",
    "    resulting_dictionnary = wb[\"results\"].copy()\n",
    "    while wb[\"results\"] != []:\n",
    "        params[\"offset\"] = params[\"offset\"] + 100\n",
    "        response = requests.get(url, params=params)\n",
    "        if response.status_code == 200:\n",
    "            wb = response.json()\n",
    "            for element in wb[\"results\"]:\n",
    "                resulting_dictionnary.append(element)\n",
    "    # verify nb of observations\n",
    "    print(f\"nb of stations downloaded: {len(resulting_dictionnary)}\")\n",
    "    df = pd.json_normalize(resulting_dictionnary)\n",
    "    return df\n",
    "def get_absent_lat_lon_from_gouv_api(df):\n",
    "    empties = df[df[\"lon\"].isna()].copy()\n",
    "    base_url = \"https://api-adresse.data.gouv.fr/search/\"\n",
    "    # Paramètres de la requête\n",
    "    params = {\"q\": \"\", \"limit\": 1}\n",
    "    i = 0\n",
    "    for idx, row in empties.iterrows():\n",
    "        params[\"q\"] = \"gare de \"+row[\"nom_gare\"]\n",
    "        response = requests.get(base_url, params=params)\n",
    "        if response.status_code == 200:\n",
    "            data = response.json()\n",
    "            coordinates = data[\"features\"][0][\"geometry\"][\"coordinates\"]\n",
    "            i = i + 1\n",
    "        else:\n",
    "            coordinates = [None, None]\n",
    "        df.loc[idx, \"lon\"] = coordinates[0]\n",
    "        df.loc[idx, \"lat\"] = coordinates[1]\n",
    "    print(i, \"absent addresses filled successfully\")\n",
    "    return df"
   ]
  },
  {
   "cell_type": "code",
   "execution_count": 82,
   "metadata": {},
   "outputs": [
    {
     "name": "stdout",
     "output_type": "stream",
     "text": [
      "nb of stations downloaded: 2881\n"
     ]
    }
   ],
   "source": [
    "df = get_names_geo_data_from_sncf_api(\n",
    "    endpoint_suffix=\"gares-de-voyageurs\",\n",
    "    select=\"\"\"nom as nom_gare,\n",
    "                           position_geographique,\n",
    "                           codeinsee,\n",
    "                           codes_uic as uic\"\"\",\n",
    ")\n",
    "df = df.drop(\"position_geographique\", axis=1)\n",
    "\n",
    "df.rename(\n",
    "    columns={\n",
    "        \"position_geographique.lon\": \"lon\",\n",
    "        \"position_geographique.lat\": \"lat\",\n",
    "    },\n",
    "    inplace=True,\n",
    ")\n"
   ]
  },
  {
   "cell_type": "code",
   "execution_count": 83,
   "metadata": {},
   "outputs": [
    {
     "name": "stdout",
     "output_type": "stream",
     "text": [
      "nb of stations downloaded: 3010\n"
     ]
    }
   ],
   "source": [
    "frequentation = get_names_geo_data_from_sncf_api(\n",
    "    endpoint_suffix=\"frequentation-gares\",\n",
    "    select=\"\"\"total_voyageurs_2023,\n",
    "                           code_postal,\n",
    "                           nom_gare,\n",
    "                           code_uic_complet as uic \"\"\",\n",
    ")"
   ]
  },
  {
   "cell_type": "code",
   "execution_count": 84,
   "metadata": {},
   "outputs": [
    {
     "name": "stdout",
     "output_type": "stream",
     "text": [
      "nb of stations downloaded: 1465\n"
     ]
    }
   ],
   "source": [
    "property = get_names_geo_data_from_sncf_api(\n",
    "    endpoint_suffix=\"proprete-en-gare\",\n",
    "    select=\"\"\"nom_gare,\n",
    "                           uic ,\n",
    "                           avg(taux_de_conformite) as taux_de_conformite \"\"\",\n",
    "    refine='mois:\"2023\"',\n",
    "    group_by=\"nom_gare, uic \"\n",
    "    \n",
    ")"
   ]
  },
  {
   "cell_type": "code",
   "execution_count": 85,
   "metadata": {},
   "outputs": [],
   "source": [
    "property[\"uic\"]=property[\"uic\"].str[2:]"
   ]
  },
  {
   "cell_type": "code",
   "execution_count": 87,
   "metadata": {},
   "outputs": [],
   "source": [
    "merged=frequentation.merge(df.drop(\"nom_gare\",axis=1),on=[\"uic\"],how=\"left\")\n",
    "merged=merged[merged[\"total_voyageurs_2023\"]>0]\n"
   ]
  },
  {
   "cell_type": "code",
   "execution_count": 88,
   "metadata": {},
   "outputs": [],
   "source": [
    "merged=merged.merge(property.drop(\"nom_gare\",axis=1),on=[\"uic\"],how=\"left\")"
   ]
  },
  {
   "cell_type": "code",
   "execution_count": 90,
   "metadata": {},
   "outputs": [
    {
     "name": "stdout",
     "output_type": "stream",
     "text": [
      "nb of stations downloaded: 57\n"
     ]
    }
   ],
   "source": [
    "tgv = get_names_geo_data_from_sncf_api(\n",
    "    endpoint_suffix=\"regularite-mensuelle-tgv-aqst\",\n",
    "    select=\"\"\" \n",
    "                            gare_depart,\n",
    "                            avg(duree_moyenne) as duree_moyenne ,\n",
    "                            sum(nb_train_prevu) as nb_train_prevu ,\n",
    "                            sum(nb_annulation) as nb_annulation , \n",
    "                            sum(nb_train_depart_retard) as nb_train_depart_retard, \n",
    "                            avg(retard_moyen_depart) as  retard_moyen_depart  \"\"\",\n",
    "    refine='date:\"2023\"',\n",
    "    group_by=\"gare_depart \"\n",
    "    \n",
    ")"
   ]
  },
  {
   "cell_type": "code",
   "execution_count": 91,
   "metadata": {},
   "outputs": [
    {
     "name": "stdout",
     "output_type": "stream",
     "text": [
      "nb of stations downloaded: 2997\n"
     ]
    }
   ],
   "source": [
    "wifi = get_names_geo_data_from_sncf_api(\n",
    "    endpoint_suffix=\"gares-equipees-du-wifi\",\n",
    "    select=\"\"\" \n",
    "                            uic,\n",
    "                            nom_de_la_gare as nom_gare ,\n",
    "                            service_wifi  \n",
    "                            \"\"\",   \n",
    ")"
   ]
  },
  {
   "cell_type": "code",
   "execution_count": null,
   "metadata": {},
   "outputs": [],
   "source": [
    "merged[\"uic\"]=merged[\"uic\"].str[2:]\n"
   ]
  },
  {
   "cell_type": "code",
   "execution_count": 93,
   "metadata": {},
   "outputs": [],
   "source": [
    "merged=merged.merge(wifi.drop(\"nom_gare\",axis=1),on=[\"uic\"],how=\"left\")"
   ]
  },
  {
   "cell_type": "code",
   "execution_count": 94,
   "metadata": {},
   "outputs": [
    {
     "data": {
      "text/html": [
       "<div>\n",
       "<style scoped>\n",
       "    .dataframe tbody tr th:only-of-type {\n",
       "        vertical-align: middle;\n",
       "    }\n",
       "\n",
       "    .dataframe tbody tr th {\n",
       "        vertical-align: top;\n",
       "    }\n",
       "\n",
       "    .dataframe thead th {\n",
       "        text-align: right;\n",
       "    }\n",
       "</style>\n",
       "<table border=\"1\" class=\"dataframe\">\n",
       "  <thead>\n",
       "    <tr style=\"text-align: right;\">\n",
       "      <th></th>\n",
       "      <th>total_voyageurs_2023</th>\n",
       "      <th>code_postal</th>\n",
       "      <th>nom_gare</th>\n",
       "      <th>uic</th>\n",
       "      <th>codeinsee</th>\n",
       "      <th>lon</th>\n",
       "      <th>lat</th>\n",
       "      <th>taux_de_conformite</th>\n",
       "      <th>service_wifi</th>\n",
       "    </tr>\n",
       "  </thead>\n",
       "  <tbody>\n",
       "    <tr>\n",
       "      <th>0</th>\n",
       "      <td>54862</td>\n",
       "      <td>44170</td>\n",
       "      <td>Abbaretz</td>\n",
       "      <td>481614</td>\n",
       "      <td>44001</td>\n",
       "      <td>-1.524416</td>\n",
       "      <td>47.554643</td>\n",
       "      <td>90.326087</td>\n",
       "      <td>Non</td>\n",
       "    </tr>\n",
       "    <tr>\n",
       "      <th>1</th>\n",
       "      <td>188426</td>\n",
       "      <td>78100</td>\n",
       "      <td>Achères Grand Cormier</td>\n",
       "      <td>386052</td>\n",
       "      <td>78551</td>\n",
       "      <td>2.091903</td>\n",
       "      <td>48.955183</td>\n",
       "      <td>NaN</td>\n",
       "      <td>Non</td>\n",
       "    </tr>\n",
       "    <tr>\n",
       "      <th>2</th>\n",
       "      <td>82597</td>\n",
       "      <td>62121</td>\n",
       "      <td>Achiet-le-Grand</td>\n",
       "      <td>342048</td>\n",
       "      <td>62005</td>\n",
       "      <td>2.780168</td>\n",
       "      <td>50.131752</td>\n",
       "      <td>NaN</td>\n",
       "      <td>Non</td>\n",
       "    </tr>\n",
       "    <tr>\n",
       "      <th>3</th>\n",
       "      <td>39364</td>\n",
       "      <td>83530</td>\n",
       "      <td>Agay</td>\n",
       "      <td>757559</td>\n",
       "      <td>83118</td>\n",
       "      <td>6.856500</td>\n",
       "      <td>43.431370</td>\n",
       "      <td>90.895105</td>\n",
       "      <td>Non</td>\n",
       "    </tr>\n",
       "    <tr>\n",
       "      <th>4</th>\n",
       "      <td>17034</td>\n",
       "      <td>30220</td>\n",
       "      <td>Aigues-Mortes</td>\n",
       "      <td>775858</td>\n",
       "      <td>30003</td>\n",
       "      <td>4.191210</td>\n",
       "      <td>43.570901</td>\n",
       "      <td>97.643098</td>\n",
       "      <td>Non</td>\n",
       "    </tr>\n",
       "    <tr>\n",
       "      <th>...</th>\n",
       "      <td>...</td>\n",
       "      <td>...</td>\n",
       "      <td>...</td>\n",
       "      <td>...</td>\n",
       "      <td>...</td>\n",
       "      <td>...</td>\n",
       "      <td>...</td>\n",
       "      <td>...</td>\n",
       "      <td>...</td>\n",
       "    </tr>\n",
       "    <tr>\n",
       "      <th>2931</th>\n",
       "      <td>189583</td>\n",
       "      <td>67720</td>\n",
       "      <td>Weyersheim</td>\n",
       "      <td>213678</td>\n",
       "      <td>67529</td>\n",
       "      <td>7.797103</td>\n",
       "      <td>48.717790</td>\n",
       "      <td>96.428571</td>\n",
       "      <td>Non</td>\n",
       "    </tr>\n",
       "    <tr>\n",
       "      <th>2932</th>\n",
       "      <td>41410</td>\n",
       "      <td>68760</td>\n",
       "      <td>Willer-sur-Thur</td>\n",
       "      <td>182584</td>\n",
       "      <td>68372</td>\n",
       "      <td>7.069320</td>\n",
       "      <td>47.842549</td>\n",
       "      <td>NaN</td>\n",
       "      <td>Non</td>\n",
       "    </tr>\n",
       "    <tr>\n",
       "      <th>2933</th>\n",
       "      <td>35330</td>\n",
       "      <td>62126</td>\n",
       "      <td>Wimille - Wimereux</td>\n",
       "      <td>317123</td>\n",
       "      <td>62894</td>\n",
       "      <td>1.613746</td>\n",
       "      <td>50.763846</td>\n",
       "      <td>NaN</td>\n",
       "      <td>Non</td>\n",
       "    </tr>\n",
       "    <tr>\n",
       "      <th>2934</th>\n",
       "      <td>43728</td>\n",
       "      <td>40100</td>\n",
       "      <td>Ygos-Saint-Saturnin</td>\n",
       "      <td>671487</td>\n",
       "      <td>40333</td>\n",
       "      <td>-0.736153</td>\n",
       "      <td>43.978185</td>\n",
       "      <td>90.454545</td>\n",
       "      <td>Non</td>\n",
       "    </tr>\n",
       "    <tr>\n",
       "      <th>2935</th>\n",
       "      <td>339</td>\n",
       "      <td>15130</td>\n",
       "      <td>Ytrac</td>\n",
       "      <td>645101</td>\n",
       "      <td>15267</td>\n",
       "      <td>2.364447</td>\n",
       "      <td>44.910689</td>\n",
       "      <td>NaN</td>\n",
       "      <td>Non</td>\n",
       "    </tr>\n",
       "  </tbody>\n",
       "</table>\n",
       "<p>2936 rows × 9 columns</p>\n",
       "</div>"
      ],
      "text/plain": [
       "      total_voyageurs_2023 code_postal               nom_gare     uic  \\\n",
       "0                    54862       44170               Abbaretz  481614   \n",
       "1                   188426       78100  Achères Grand Cormier  386052   \n",
       "2                    82597       62121        Achiet-le-Grand  342048   \n",
       "3                    39364       83530                   Agay  757559   \n",
       "4                    17034       30220          Aigues-Mortes  775858   \n",
       "...                    ...         ...                    ...     ...   \n",
       "2931                189583       67720             Weyersheim  213678   \n",
       "2932                 41410       68760        Willer-sur-Thur  182584   \n",
       "2933                 35330       62126     Wimille - Wimereux  317123   \n",
       "2934                 43728       40100    Ygos-Saint-Saturnin  671487   \n",
       "2935                   339       15130                  Ytrac  645101   \n",
       "\n",
       "     codeinsee       lon        lat  taux_de_conformite service_wifi  \n",
       "0        44001 -1.524416  47.554643           90.326087          Non  \n",
       "1        78551  2.091903  48.955183                 NaN          Non  \n",
       "2        62005  2.780168  50.131752                 NaN          Non  \n",
       "3        83118  6.856500  43.431370           90.895105          Non  \n",
       "4        30003  4.191210  43.570901           97.643098          Non  \n",
       "...        ...       ...        ...                 ...          ...  \n",
       "2931     67529  7.797103  48.717790           96.428571          Non  \n",
       "2932     68372  7.069320  47.842549                 NaN          Non  \n",
       "2933     62894  1.613746  50.763846                 NaN          Non  \n",
       "2934     40333 -0.736153  43.978185           90.454545          Non  \n",
       "2935     15267  2.364447  44.910689                 NaN          Non  \n",
       "\n",
       "[2936 rows x 9 columns]"
      ]
     },
     "execution_count": 94,
     "metadata": {},
     "output_type": "execute_result"
    }
   ],
   "source": [
    "merged"
   ]
  },
  {
   "cell_type": "code",
   "execution_count": 98,
   "metadata": {},
   "outputs": [
    {
     "data": {
      "text/html": [
       "<div>\n",
       "<style scoped>\n",
       "    .dataframe tbody tr th:only-of-type {\n",
       "        vertical-align: middle;\n",
       "    }\n",
       "\n",
       "    .dataframe tbody tr th {\n",
       "        vertical-align: top;\n",
       "    }\n",
       "\n",
       "    .dataframe thead th {\n",
       "        text-align: right;\n",
       "    }\n",
       "</style>\n",
       "<table border=\"1\" class=\"dataframe\">\n",
       "  <thead>\n",
       "    <tr style=\"text-align: right;\">\n",
       "      <th></th>\n",
       "      <th>gare_depart</th>\n",
       "      <th>duree_moyenne</th>\n",
       "      <th>nb_train_prevu</th>\n",
       "      <th>nb_annulation</th>\n",
       "      <th>nb_train_depart_retard</th>\n",
       "      <th>retard_moyen_depart</th>\n",
       "    </tr>\n",
       "  </thead>\n",
       "  <tbody>\n",
       "    <tr>\n",
       "      <th>53</th>\n",
       "      <td>TOURS</td>\n",
       "      <td>77.083333</td>\n",
       "      <td>2139</td>\n",
       "      <td>72</td>\n",
       "      <td>188</td>\n",
       "      <td>10.277803</td>\n",
       "    </tr>\n",
       "    <tr>\n",
       "      <th>16</th>\n",
       "      <td>GENEVE</td>\n",
       "      <td>194.666667</td>\n",
       "      <td>2790</td>\n",
       "      <td>109</td>\n",
       "      <td>1819</td>\n",
       "      <td>4.419866</td>\n",
       "    </tr>\n",
       "    <tr>\n",
       "      <th>56</th>\n",
       "      <td>ZURICH</td>\n",
       "      <td>248.666667</td>\n",
       "      <td>1905</td>\n",
       "      <td>52</td>\n",
       "      <td>623</td>\n",
       "      <td>1.705202</td>\n",
       "    </tr>\n",
       "    <tr>\n",
       "      <th>48</th>\n",
       "      <td>STRASBOURG</td>\n",
       "      <td>224.875000</td>\n",
       "      <td>7394</td>\n",
       "      <td>177</td>\n",
       "      <td>3730</td>\n",
       "      <td>10.550119</td>\n",
       "    </tr>\n",
       "    <tr>\n",
       "      <th>55</th>\n",
       "      <td>VANNES</td>\n",
       "      <td>166.666667</td>\n",
       "      <td>3398</td>\n",
       "      <td>87</td>\n",
       "      <td>1857</td>\n",
       "      <td>8.770667</td>\n",
       "    </tr>\n",
       "  </tbody>\n",
       "</table>\n",
       "</div>"
      ],
      "text/plain": [
       "   gare_depart  duree_moyenne  nb_train_prevu  nb_annulation  \\\n",
       "53       TOURS      77.083333            2139             72   \n",
       "16      GENEVE     194.666667            2790            109   \n",
       "56      ZURICH     248.666667            1905             52   \n",
       "48  STRASBOURG     224.875000            7394            177   \n",
       "55      VANNES     166.666667            3398             87   \n",
       "\n",
       "    nb_train_depart_retard  retard_moyen_depart  \n",
       "53                     188            10.277803  \n",
       "16                    1819             4.419866  \n",
       "56                     623             1.705202  \n",
       "48                    3730            10.550119  \n",
       "55                    1857             8.770667  "
      ]
     },
     "execution_count": 98,
     "metadata": {},
     "output_type": "execute_result"
    }
   ],
   "source": [
    "tgv.sample(5)"
   ]
  },
  {
   "cell_type": "code",
   "execution_count": 96,
   "metadata": {},
   "outputs": [
    {
     "name": "stdout",
     "output_type": "stream",
     "text": [
      "90 absent addresses filled successfully\n"
     ]
    },
    {
     "data": {
      "text/plain": [
       "total_voyageurs_2023       0\n",
       "code_postal                0\n",
       "nom_gare                   0\n",
       "uic                        0\n",
       "codeinsee                 90\n",
       "lon                        0\n",
       "lat                        0\n",
       "taux_de_conformite      1474\n",
       "service_wifi              49\n",
       "dtype: int64"
      ]
     },
     "execution_count": 96,
     "metadata": {},
     "output_type": "execute_result"
    }
   ],
   "source": [
    "\n",
    "merged=get_absent_lat_lon_from_gouv_api(merged)\n",
    "merged.isna().sum()"
   ]
  }
 ],
 "metadata": {
  "kernelspec": {
   "display_name": "base",
   "language": "python",
   "name": "python3"
  },
  "language_info": {
   "codemirror_mode": {
    "name": "ipython",
    "version": 3
   },
   "file_extension": ".py",
   "mimetype": "text/x-python",
   "name": "python",
   "nbconvert_exporter": "python",
   "pygments_lexer": "ipython3",
   "version": "3.12.6"
  }
 },
 "nbformat": 4,
 "nbformat_minor": 2
}
