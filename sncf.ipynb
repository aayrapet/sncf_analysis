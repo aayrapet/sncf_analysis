{
 "cells": [
  {
   "cell_type": "code",
   "execution_count": 2,
   "metadata": {},
   "outputs": [],
   "source": [
    "import requests\n",
    "import pandas as pd\n",
    "import numpy as np \n"
   ]
  },
  {
   "cell_type": "code",
   "execution_count": 3,
   "metadata": {},
   "outputs": [],
   "source": [
    "def get_names_geo_data_from_sncf_api():\n",
    "    base_url = \"https://ressources.data.sncf.com\"\n",
    "    # Endpoint for the desired dataset\n",
    "    endpoint = \"/api/explore/v2.1/catalog/datasets/gares-de-voyageurs/records\"\n",
    "    # Parameters for the API request\n",
    "    params = {\n",
    "        \"select\": \"nom,position_geographique,codeinsee\",\n",
    "        \"limit\": 100,  # in this API maximum limit is 100\n",
    "        \"offset\": 0,  # we start from 0 to 100, then FROM 100 to 200 etc etc, but limit is fixed at 100, it is moving\n",
    "    }\n",
    "    # Construct the full URL\n",
    "    url = f\"{base_url}{endpoint}\"\n",
    "    response = requests.get(url, params=params)\n",
    "    wb = response.json()\n",
    "    resulting_dictionnary = wb[\"results\"].copy()\n",
    "    while wb[\"results\"] != []:\n",
    "        params[\"offset\"] = params[\"offset\"] + 100\n",
    "        response = requests.get(url, params=params)\n",
    "        if response.status_code == 200:\n",
    "            wb = response.json()\n",
    "            for element in wb[\"results\"]:\n",
    "                resulting_dictionnary.append(element)\n",
    "    # verify nb of observations\n",
    "    print(f\"nb of stations downloaded: {len(resulting_dictionnary)}\")\n",
    "    df = pd.json_normalize(resulting_dictionnary).drop(\"position_geographique\", axis=1)\n",
    "    df.rename(\n",
    "        columns={\n",
    "            \"position_geographique.lon\": \"lon\",\n",
    "            \"position_geographique.lat\": \"lat\",\n",
    "        },\n",
    "        inplace=True,\n",
    "    )\n",
    "    return df\n",
    "def get_absent_lat_lon_from_gouv_api(df):\n",
    "    empties = df[df[\"lon\"].isna()].copy()\n",
    "    base_url = \"https://api-adresse.data.gouv.fr/search/\"\n",
    "    # Paramètres de la requête\n",
    "    params = {\"q\": \"\", \"limit\": 1}\n",
    "    i = 0\n",
    "    for idx, row in empties.iterrows():\n",
    "        params[\"q\"] = row[\"nom\"]\n",
    "        response = requests.get(base_url, params=params)\n",
    "        if response.status_code == 200:\n",
    "            data = response.json()\n",
    "            coordinates = data[\"features\"][0][\"geometry\"][\"coordinates\"]\n",
    "            i = i + 1\n",
    "        else:\n",
    "            coordinates = [None, None]\n",
    "        df.loc[idx, \"lon\"] = coordinates[0]\n",
    "        df.loc[idx, \"lat\"] = coordinates[1]\n",
    "    print(i, \"absent addresses filled successfully\")\n",
    "    return df"
   ]
  },
  {
   "cell_type": "code",
   "execution_count": 4,
   "metadata": {},
   "outputs": [
    {
     "name": "stdout",
     "output_type": "stream",
     "text": [
      "nb of stations downloaded: 2881\n"
     ]
    },
    {
     "data": {
      "text/plain": [
       "nom          0\n",
       "codeinsee    0\n",
       "lon          7\n",
       "lat          7\n",
       "dtype: int64"
      ]
     },
     "execution_count": 4,
     "metadata": {},
     "output_type": "execute_result"
    }
   ],
   "source": [
    "df=get_names_geo_data_from_sncf_api()\n",
    "df.isna().sum()"
   ]
  },
  {
   "cell_type": "code",
   "execution_count": 5,
   "metadata": {},
   "outputs": [
    {
     "name": "stdout",
     "output_type": "stream",
     "text": [
      "7 absent addresses filled successfully\n"
     ]
    },
    {
     "data": {
      "text/plain": [
       "nom          0\n",
       "codeinsee    0\n",
       "lon          0\n",
       "lat          0\n",
       "dtype: int64"
      ]
     },
     "execution_count": 5,
     "metadata": {},
     "output_type": "execute_result"
    }
   ],
   "source": [
    "df=get_absent_lat_lon_from_gouv_api(df)\n",
    "df.isna().sum()"
   ]
  },
  {
   "cell_type": "code",
   "execution_count": 6,
   "metadata": {},
   "outputs": [
    {
     "data": {
      "text/html": [
       "<div>\n",
       "<style scoped>\n",
       "    .dataframe tbody tr th:only-of-type {\n",
       "        vertical-align: middle;\n",
       "    }\n",
       "\n",
       "    .dataframe tbody tr th {\n",
       "        vertical-align: top;\n",
       "    }\n",
       "\n",
       "    .dataframe thead th {\n",
       "        text-align: right;\n",
       "    }\n",
       "</style>\n",
       "<table border=\"1\" class=\"dataframe\">\n",
       "  <thead>\n",
       "    <tr style=\"text-align: right;\">\n",
       "      <th></th>\n",
       "      <th>nom</th>\n",
       "      <th>codeinsee</th>\n",
       "      <th>lon</th>\n",
       "      <th>lat</th>\n",
       "    </tr>\n",
       "  </thead>\n",
       "  <tbody>\n",
       "    <tr>\n",
       "      <th>0</th>\n",
       "      <td>Châteauneuf - Bujaleuf</td>\n",
       "      <td>87105</td>\n",
       "      <td>1.645303</td>\n",
       "      <td>45.759316</td>\n",
       "    </tr>\n",
       "    <tr>\n",
       "      <th>1</th>\n",
       "      <td>Cinq-Mars-la-Pile</td>\n",
       "      <td>37077</td>\n",
       "      <td>0.460488</td>\n",
       "      <td>47.345226</td>\n",
       "    </tr>\n",
       "    <tr>\n",
       "      <th>2</th>\n",
       "      <td>Bécon les Bruyères</td>\n",
       "      <td>92026</td>\n",
       "      <td>2.268380</td>\n",
       "      <td>48.905920</td>\n",
       "    </tr>\n",
       "    <tr>\n",
       "      <th>3</th>\n",
       "      <td>Cousance</td>\n",
       "      <td>39173</td>\n",
       "      <td>5.386822</td>\n",
       "      <td>46.535357</td>\n",
       "    </tr>\n",
       "    <tr>\n",
       "      <th>4</th>\n",
       "      <td>Culmont - Chalindrey</td>\n",
       "      <td>52155</td>\n",
       "      <td>5.443222</td>\n",
       "      <td>47.810090</td>\n",
       "    </tr>\n",
       "    <tr>\n",
       "      <th>...</th>\n",
       "      <td>...</td>\n",
       "      <td>...</td>\n",
       "      <td>...</td>\n",
       "      <td>...</td>\n",
       "    </tr>\n",
       "    <tr>\n",
       "      <th>2876</th>\n",
       "      <td>Messein</td>\n",
       "      <td>54366</td>\n",
       "      <td>6.137836</td>\n",
       "      <td>48.612879</td>\n",
       "    </tr>\n",
       "    <tr>\n",
       "      <th>2877</th>\n",
       "      <td>Port-la-Nouvelle</td>\n",
       "      <td>11266</td>\n",
       "      <td>3.038819</td>\n",
       "      <td>43.019934</td>\n",
       "    </tr>\n",
       "    <tr>\n",
       "      <th>2878</th>\n",
       "      <td>Pierre-Bénite</td>\n",
       "      <td>69152</td>\n",
       "      <td>4.824506</td>\n",
       "      <td>45.706677</td>\n",
       "    </tr>\n",
       "    <tr>\n",
       "      <th>2879</th>\n",
       "      <td>Caffiers</td>\n",
       "      <td>62191</td>\n",
       "      <td>1.812034</td>\n",
       "      <td>50.850068</td>\n",
       "    </tr>\n",
       "    <tr>\n",
       "      <th>2880</th>\n",
       "      <td>Wissembourg</td>\n",
       "      <td>67544</td>\n",
       "      <td>7.950144</td>\n",
       "      <td>49.031889</td>\n",
       "    </tr>\n",
       "  </tbody>\n",
       "</table>\n",
       "<p>2881 rows × 4 columns</p>\n",
       "</div>"
      ],
      "text/plain": [
       "                         nom codeinsee       lon        lat\n",
       "0     Châteauneuf - Bujaleuf     87105  1.645303  45.759316\n",
       "1          Cinq-Mars-la-Pile     37077  0.460488  47.345226\n",
       "2         Bécon les Bruyères     92026  2.268380  48.905920\n",
       "3                   Cousance     39173  5.386822  46.535357\n",
       "4       Culmont - Chalindrey     52155  5.443222  47.810090\n",
       "...                      ...       ...       ...        ...\n",
       "2876                 Messein     54366  6.137836  48.612879\n",
       "2877        Port-la-Nouvelle     11266  3.038819  43.019934\n",
       "2878           Pierre-Bénite     69152  4.824506  45.706677\n",
       "2879                Caffiers     62191  1.812034  50.850068\n",
       "2880             Wissembourg     67544  7.950144  49.031889\n",
       "\n",
       "[2881 rows x 4 columns]"
      ]
     },
     "execution_count": 6,
     "metadata": {},
     "output_type": "execute_result"
    }
   ],
   "source": [
    "df"
   ]
  }
 ],
 "metadata": {
  "kernelspec": {
   "display_name": "base",
   "language": "python",
   "name": "python3"
  },
  "language_info": {
   "codemirror_mode": {
    "name": "ipython",
    "version": 3
   },
   "file_extension": ".py",
   "mimetype": "text/x-python",
   "name": "python",
   "nbconvert_exporter": "python",
   "pygments_lexer": "ipython3",
   "version": "3.12.6"
  }
 },
 "nbformat": 4,
 "nbformat_minor": 2
}
