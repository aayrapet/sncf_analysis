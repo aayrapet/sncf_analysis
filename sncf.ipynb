{
 "cells": [
  {
   "cell_type": "code",
   "execution_count": 8,
   "metadata": {},
   "outputs": [],
   "source": [
    "import requests\n",
    "import pandas as pd\n",
    "import numpy as np \n"
   ]
  },
  {
   "cell_type": "code",
   "execution_count": 70,
   "metadata": {},
   "outputs": [],
   "source": [
    "def get_names_geo_data_from_sncf_api(endpoint_suffix,variables_in_string,**kwargs):\n",
    "    base_url = \"https://ressources.data.sncf.com\"\n",
    "    # Endpoint for the desired dataset\n",
    "    endpoint = f\"/api/explore/v2.1/catalog/datasets/{endpoint_suffix}/records\"\n",
    "    # Parameters for the API request\n",
    "    params = {\n",
    "        \"select\": variables_in_string,\n",
    "        \"limit\": 100,  # in this API maximum limit is 100\n",
    "        \"offset\": 0,  # we start from 0 to 100, then FROM 100 to 200 etc etc, but limit is fixed at 100, it is moving\n",
    "        \n",
    "    }\n",
    "    params.update(kwargs)\n",
    "    # Construct the full URL\n",
    "    url = f\"{base_url}{endpoint}\"\n",
    "    response = requests.get(url, params=params)\n",
    "    wb = response.json()\n",
    "    resulting_dictionnary = wb[\"results\"].copy()\n",
    "    while wb[\"results\"] != []:\n",
    "        params[\"offset\"] = params[\"offset\"] + 100\n",
    "        response = requests.get(url, params=params)\n",
    "        if response.status_code == 200:\n",
    "            wb = response.json()\n",
    "            for element in wb[\"results\"]:\n",
    "                resulting_dictionnary.append(element)\n",
    "    # verify nb of observations\n",
    "    print(f\"nb of stations downloaded: {len(resulting_dictionnary)}\")\n",
    "    df = pd.json_normalize(resulting_dictionnary)\n",
    "    return df\n",
    "def get_absent_lat_lon_from_gouv_api(df):\n",
    "    empties = df[df[\"lon\"].isna()].copy()\n",
    "    base_url = \"https://api-adresse.data.gouv.fr/search/\"\n",
    "    # Paramètres de la requête\n",
    "    params = {\"q\": \"\", \"limit\": 1}\n",
    "    i = 0\n",
    "    for idx, row in empties.iterrows():\n",
    "        params[\"q\"] = \"gare de \"+row[\"nom\"]\n",
    "        response = requests.get(base_url, params=params)\n",
    "        if response.status_code == 200:\n",
    "            data = response.json()\n",
    "            coordinates = data[\"features\"][0][\"geometry\"][\"coordinates\"]\n",
    "            i = i + 1\n",
    "        else:\n",
    "            coordinates = [None, None]\n",
    "        df.loc[idx, \"lon\"] = coordinates[0]\n",
    "        df.loc[idx, \"lat\"] = coordinates[1]\n",
    "    print(i, \"absent addresses filled successfully\")\n",
    "    return df"
   ]
  },
  {
   "cell_type": "code",
   "execution_count": null,
   "metadata": {},
   "outputs": [
    {
     "name": "stdout",
     "output_type": "stream",
     "text": [
      "nb of stations downloaded: 2881\n"
     ]
    },
    {
     "data": {
      "text/plain": [
       "nom          0\n",
       "codeinsee    0\n",
       "codes_uic    0\n",
       "lon          7\n",
       "lat          7\n",
       "dtype: int64"
      ]
     },
     "execution_count": 53,
     "metadata": {},
     "output_type": "execute_result"
    }
   ],
   "source": [
    "df = get_names_geo_data_from_sncf_api(\n",
    "    endpoint_suffix=\"gares-de-voyageurs\",\n",
    "    variables_in_string=\"nom,position_geographique,codeinsee,codes_uic\",\n",
    ")\n",
    "df = df.drop(\"position_geographique\", axis=1)\n",
    "\n",
    "df.rename(\n",
    "    columns={\n",
    "        \"position_geographique.lon\": \"lon\",\n",
    "        \"position_geographique.lat\": \"lat\",\n",
    "    },\n",
    "    inplace=True,\n",
    ")\n"
   ]
  },
  {
   "cell_type": "code",
   "execution_count": 54,
   "metadata": {},
   "outputs": [
    {
     "name": "stdout",
     "output_type": "stream",
     "text": [
      "nb of stations downloaded: 3010\n"
     ]
    }
   ],
   "source": [
    "frequentation = get_names_geo_data_from_sncf_api(\n",
    "    endpoint_suffix=\"frequentation-gares\",\n",
    "    variables_in_string=\"total_voyageurs_2023,code_postal,nom_gare as nom,code_uic_complet as codes_uic \",\n",
    ")"
   ]
  },
  {
   "cell_type": "code",
   "execution_count": 109,
   "metadata": {},
   "outputs": [
    {
     "name": "stdout",
     "output_type": "stream",
     "text": [
      "nb of stations downloaded: 1465\n"
     ]
    }
   ],
   "source": [
    "property = get_names_geo_data_from_sncf_api(\n",
    "    endpoint_suffix=\"proprete-en-gare\",\n",
    "    variables_in_string=\"nom_gare as nom ,uic as codes_uic ,avg(taux_de_conformite) as taux_de_conformite \",\n",
    "    refine='mois:\"2023\"',\n",
    "    group_by=\"nom_gare, uic \"\n",
    "    \n",
    ")"
   ]
  },
  {
   "cell_type": "code",
   "execution_count": 110,
   "metadata": {},
   "outputs": [],
   "source": [
    "property[\"codes_uic\"]=property[\"uic\"].str[2:]"
   ]
  },
  {
   "cell_type": "code",
   "execution_count": 112,
   "metadata": {},
   "outputs": [],
   "source": [
    "property=property.drop([\"nom_gare\",\"uic\"],axis=1)"
   ]
  },
  {
   "cell_type": "code",
   "execution_count": 113,
   "metadata": {},
   "outputs": [
    {
     "data": {
      "text/html": [
       "<div>\n",
       "<style scoped>\n",
       "    .dataframe tbody tr th:only-of-type {\n",
       "        vertical-align: middle;\n",
       "    }\n",
       "\n",
       "    .dataframe tbody tr th {\n",
       "        vertical-align: top;\n",
       "    }\n",
       "\n",
       "    .dataframe thead th {\n",
       "        text-align: right;\n",
       "    }\n",
       "</style>\n",
       "<table border=\"1\" class=\"dataframe\">\n",
       "  <thead>\n",
       "    <tr style=\"text-align: right;\">\n",
       "      <th></th>\n",
       "      <th>nom</th>\n",
       "      <th>codes_uic</th>\n",
       "      <th>taux_de_conformite</th>\n",
       "    </tr>\n",
       "  </thead>\n",
       "  <tbody>\n",
       "    <tr>\n",
       "      <th>0</th>\n",
       "      <td>Abancourt</td>\n",
       "      <td>87313759</td>\n",
       "      <td>96.906971</td>\n",
       "    </tr>\n",
       "    <tr>\n",
       "      <th>1</th>\n",
       "      <td>Abbaretz</td>\n",
       "      <td>87481614</td>\n",
       "      <td>90.326087</td>\n",
       "    </tr>\n",
       "    <tr>\n",
       "      <th>2</th>\n",
       "      <td>Abbeville</td>\n",
       "      <td>87317362</td>\n",
       "      <td>96.531024</td>\n",
       "    </tr>\n",
       "    <tr>\n",
       "      <th>3</th>\n",
       "      <td>Agay</td>\n",
       "      <td>87757559</td>\n",
       "      <td>90.895105</td>\n",
       "    </tr>\n",
       "    <tr>\n",
       "      <th>4</th>\n",
       "      <td>Agde</td>\n",
       "      <td>87781278</td>\n",
       "      <td>93.897317</td>\n",
       "    </tr>\n",
       "    <tr>\n",
       "      <th>...</th>\n",
       "      <td>...</td>\n",
       "      <td>...</td>\n",
       "      <td>...</td>\n",
       "    </tr>\n",
       "    <tr>\n",
       "      <th>1460</th>\n",
       "      <td>Étival-Clairefontaine</td>\n",
       "      <td>87144642</td>\n",
       "      <td>90.224309</td>\n",
       "    </tr>\n",
       "    <tr>\n",
       "      <th>1461</th>\n",
       "      <td>Étriché - Châteauneuf</td>\n",
       "      <td>87484154</td>\n",
       "      <td>97.222222</td>\n",
       "    </tr>\n",
       "    <tr>\n",
       "      <th>1462</th>\n",
       "      <td>Évian-les-Bains</td>\n",
       "      <td>87745679</td>\n",
       "      <td>81.545884</td>\n",
       "    </tr>\n",
       "    <tr>\n",
       "      <th>1463</th>\n",
       "      <td>Évreux Normandie</td>\n",
       "      <td>87387001</td>\n",
       "      <td>94.598827</td>\n",
       "    </tr>\n",
       "    <tr>\n",
       "      <th>1464</th>\n",
       "      <td>Évron</td>\n",
       "      <td>87478552</td>\n",
       "      <td>88.666667</td>\n",
       "    </tr>\n",
       "  </tbody>\n",
       "</table>\n",
       "<p>1465 rows × 3 columns</p>\n",
       "</div>"
      ],
      "text/plain": [
       "                        nom codes_uic  taux_de_conformite\n",
       "0                 Abancourt  87313759           96.906971\n",
       "1                  Abbaretz  87481614           90.326087\n",
       "2                 Abbeville  87317362           96.531024\n",
       "3                      Agay  87757559           90.895105\n",
       "4                      Agde  87781278           93.897317\n",
       "...                     ...       ...                 ...\n",
       "1460  Étival-Clairefontaine  87144642           90.224309\n",
       "1461  Étriché - Châteauneuf  87484154           97.222222\n",
       "1462        Évian-les-Bains  87745679           81.545884\n",
       "1463       Évreux Normandie  87387001           94.598827\n",
       "1464                  Évron  87478552           88.666667\n",
       "\n",
       "[1465 rows x 3 columns]"
      ]
     },
     "execution_count": 113,
     "metadata": {},
     "output_type": "execute_result"
    }
   ],
   "source": [
    "property"
   ]
  },
  {
   "cell_type": "code",
   "execution_count": 95,
   "metadata": {},
   "outputs": [
    {
     "data": {
      "text/plain": [
       "total_voyageurs_2023     0\n",
       "code_postal              0\n",
       "nom                      0\n",
       "codes_uic                0\n",
       "codeinsee               92\n",
       "lon                     92\n",
       "lat                     92\n",
       "dtype: int64"
      ]
     },
     "execution_count": 95,
     "metadata": {},
     "output_type": "execute_result"
    }
   ],
   "source": [
    "merged=frequentation.merge(df,on=[\"codes_uic\",\"nom\"],how=\"left\")\n",
    "merged=merged[merged[\"total_voyageurs_2023\"]>0]\n",
    "merged.isna().sum()"
   ]
  },
  {
   "cell_type": "code",
   "execution_count": 115,
   "metadata": {},
   "outputs": [
    {
     "data": {
      "text/html": [
       "<div>\n",
       "<style scoped>\n",
       "    .dataframe tbody tr th:only-of-type {\n",
       "        vertical-align: middle;\n",
       "    }\n",
       "\n",
       "    .dataframe tbody tr th {\n",
       "        vertical-align: top;\n",
       "    }\n",
       "\n",
       "    .dataframe thead th {\n",
       "        text-align: right;\n",
       "    }\n",
       "</style>\n",
       "<table border=\"1\" class=\"dataframe\">\n",
       "  <thead>\n",
       "    <tr style=\"text-align: right;\">\n",
       "      <th></th>\n",
       "      <th>total_voyageurs_2023</th>\n",
       "      <th>code_postal</th>\n",
       "      <th>nom</th>\n",
       "      <th>codes_uic</th>\n",
       "      <th>codeinsee</th>\n",
       "      <th>lon</th>\n",
       "      <th>lat</th>\n",
       "      <th>taux_de_conformite</th>\n",
       "    </tr>\n",
       "  </thead>\n",
       "  <tbody>\n",
       "    <tr>\n",
       "      <th>0</th>\n",
       "      <td>54862</td>\n",
       "      <td>44170</td>\n",
       "      <td>Abbaretz</td>\n",
       "      <td>87481614</td>\n",
       "      <td>44001</td>\n",
       "      <td>-1.524416</td>\n",
       "      <td>47.554643</td>\n",
       "      <td>90.326087</td>\n",
       "    </tr>\n",
       "    <tr>\n",
       "      <th>1</th>\n",
       "      <td>188426</td>\n",
       "      <td>78100</td>\n",
       "      <td>Achères Grand Cormier</td>\n",
       "      <td>87386052</td>\n",
       "      <td>78551</td>\n",
       "      <td>2.091903</td>\n",
       "      <td>48.955183</td>\n",
       "      <td>NaN</td>\n",
       "    </tr>\n",
       "    <tr>\n",
       "      <th>2</th>\n",
       "      <td>82597</td>\n",
       "      <td>62121</td>\n",
       "      <td>Achiet-le-Grand</td>\n",
       "      <td>87342048</td>\n",
       "      <td>62005</td>\n",
       "      <td>2.780168</td>\n",
       "      <td>50.131752</td>\n",
       "      <td>NaN</td>\n",
       "    </tr>\n",
       "    <tr>\n",
       "      <th>3</th>\n",
       "      <td>39364</td>\n",
       "      <td>83530</td>\n",
       "      <td>Agay</td>\n",
       "      <td>87757559</td>\n",
       "      <td>83118</td>\n",
       "      <td>6.856500</td>\n",
       "      <td>43.431370</td>\n",
       "      <td>90.895105</td>\n",
       "    </tr>\n",
       "    <tr>\n",
       "      <th>4</th>\n",
       "      <td>17034</td>\n",
       "      <td>30220</td>\n",
       "      <td>Aigues-Mortes</td>\n",
       "      <td>87775858</td>\n",
       "      <td>30003</td>\n",
       "      <td>4.191210</td>\n",
       "      <td>43.570901</td>\n",
       "      <td>97.643098</td>\n",
       "    </tr>\n",
       "    <tr>\n",
       "      <th>...</th>\n",
       "      <td>...</td>\n",
       "      <td>...</td>\n",
       "      <td>...</td>\n",
       "      <td>...</td>\n",
       "      <td>...</td>\n",
       "      <td>...</td>\n",
       "      <td>...</td>\n",
       "      <td>...</td>\n",
       "    </tr>\n",
       "    <tr>\n",
       "      <th>2931</th>\n",
       "      <td>189583</td>\n",
       "      <td>67720</td>\n",
       "      <td>Weyersheim</td>\n",
       "      <td>87213678</td>\n",
       "      <td>67529</td>\n",
       "      <td>7.797103</td>\n",
       "      <td>48.717790</td>\n",
       "      <td>96.428571</td>\n",
       "    </tr>\n",
       "    <tr>\n",
       "      <th>2932</th>\n",
       "      <td>41410</td>\n",
       "      <td>68760</td>\n",
       "      <td>Willer-sur-Thur</td>\n",
       "      <td>87182584</td>\n",
       "      <td>68372</td>\n",
       "      <td>7.069320</td>\n",
       "      <td>47.842549</td>\n",
       "      <td>NaN</td>\n",
       "    </tr>\n",
       "    <tr>\n",
       "      <th>2933</th>\n",
       "      <td>35330</td>\n",
       "      <td>62126</td>\n",
       "      <td>Wimille - Wimereux</td>\n",
       "      <td>87317123</td>\n",
       "      <td>62894</td>\n",
       "      <td>1.613746</td>\n",
       "      <td>50.763846</td>\n",
       "      <td>NaN</td>\n",
       "    </tr>\n",
       "    <tr>\n",
       "      <th>2934</th>\n",
       "      <td>43728</td>\n",
       "      <td>40100</td>\n",
       "      <td>Ygos-Saint-Saturnin</td>\n",
       "      <td>87671487</td>\n",
       "      <td>40333</td>\n",
       "      <td>-0.736153</td>\n",
       "      <td>43.978185</td>\n",
       "      <td>90.454545</td>\n",
       "    </tr>\n",
       "    <tr>\n",
       "      <th>2935</th>\n",
       "      <td>339</td>\n",
       "      <td>15130</td>\n",
       "      <td>Ytrac</td>\n",
       "      <td>87645101</td>\n",
       "      <td>15267</td>\n",
       "      <td>2.364447</td>\n",
       "      <td>44.910689</td>\n",
       "      <td>NaN</td>\n",
       "    </tr>\n",
       "  </tbody>\n",
       "</table>\n",
       "<p>2936 rows × 8 columns</p>\n",
       "</div>"
      ],
      "text/plain": [
       "      total_voyageurs_2023 code_postal                    nom codes_uic  \\\n",
       "0                    54862       44170               Abbaretz  87481614   \n",
       "1                   188426       78100  Achères Grand Cormier  87386052   \n",
       "2                    82597       62121        Achiet-le-Grand  87342048   \n",
       "3                    39364       83530                   Agay  87757559   \n",
       "4                    17034       30220          Aigues-Mortes  87775858   \n",
       "...                    ...         ...                    ...       ...   \n",
       "2931                189583       67720             Weyersheim  87213678   \n",
       "2932                 41410       68760        Willer-sur-Thur  87182584   \n",
       "2933                 35330       62126     Wimille - Wimereux  87317123   \n",
       "2934                 43728       40100    Ygos-Saint-Saturnin  87671487   \n",
       "2935                   339       15130                  Ytrac  87645101   \n",
       "\n",
       "     codeinsee       lon        lat  taux_de_conformite  \n",
       "0        44001 -1.524416  47.554643           90.326087  \n",
       "1        78551  2.091903  48.955183                 NaN  \n",
       "2        62005  2.780168  50.131752                 NaN  \n",
       "3        83118  6.856500  43.431370           90.895105  \n",
       "4        30003  4.191210  43.570901           97.643098  \n",
       "...        ...       ...        ...                 ...  \n",
       "2931     67529  7.797103  48.717790           96.428571  \n",
       "2932     68372  7.069320  47.842549                 NaN  \n",
       "2933     62894  1.613746  50.763846                 NaN  \n",
       "2934     40333 -0.736153  43.978185           90.454545  \n",
       "2935     15267  2.364447  44.910689                 NaN  \n",
       "\n",
       "[2936 rows x 8 columns]"
      ]
     },
     "execution_count": 115,
     "metadata": {},
     "output_type": "execute_result"
    }
   ],
   "source": [
    "merged.merge(property,on=[\"codes_uic\",\"nom\"],how=\"left\")"
   ]
  },
  {
   "cell_type": "code",
   "execution_count": 56,
   "metadata": {},
   "outputs": [
    {
     "name": "stdout",
     "output_type": "stream",
     "text": [
      "92 absent addresses filled successfully\n"
     ]
    },
    {
     "data": {
      "text/plain": [
       "total_voyageurs_2023     0\n",
       "code_postal              0\n",
       "nom                      0\n",
       "codes_uic                0\n",
       "codeinsee               92\n",
       "lon                      0\n",
       "lat                      0\n",
       "dtype: int64"
      ]
     },
     "execution_count": 56,
     "metadata": {},
     "output_type": "execute_result"
    }
   ],
   "source": [
    "\n",
    "merged=get_absent_lat_lon_from_gouv_api(merged)\n",
    "merged.isna().sum()"
   ]
  }
 ],
 "metadata": {
  "kernelspec": {
   "display_name": "base",
   "language": "python",
   "name": "python3"
  },
  "language_info": {
   "codemirror_mode": {
    "name": "ipython",
    "version": 3
   },
   "file_extension": ".py",
   "mimetype": "text/x-python",
   "name": "python",
   "nbconvert_exporter": "python",
   "pygments_lexer": "ipython3",
   "version": "3.12.6"
  }
 },
 "nbformat": 4,
 "nbformat_minor": 2
}
