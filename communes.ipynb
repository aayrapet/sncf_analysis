{
 "cells": [
  {
   "cell_type": "code",
   "execution_count": 61,
   "metadata": {},
   "outputs": [],
   "source": [
    "import s3fs\n",
    "\n",
    "# Configuration du système de fichiers S3\n",
    "fs = s3fs.S3FileSystem(\n",
    "    key=\"4LHZ3NJSE1V7AAG3DR97\",\n",
    "    secret=\"rFX2qUAoofKvBheVrGgmK4mVsgzUULJTF5QKqn9m\",\n",
    "    token=\"eyJhbGciOiJIUzUxMiIsInR5cCI6IkpXVCJ9.eyJhY2Nlc3NLZXkiOiI0TEhaM05KU0UxVjdBQUczRFI5NyIsImFsbG93ZWQtb3JpZ2lucyI6WyIqIl0sImF1ZCI6WyJtaW5pby1kYXRhbm9kZSIsIm9ueXhpYSIsImFjY291bnQiXSwiYXV0aF90aW1lIjoxNzMyNzE4ODIwLCJhenAiOiJvbnl4aWEiLCJlbWFpbCI6ImNvbGluLmxpY2hlcmVAZW5zYWUuZnIiLCJlbWFpbF92ZXJpZmllZCI6dHJ1ZSwiZXhwIjoxNzM0MDA4MzI2LCJmYW1pbHlfbmFtZSI6IkxpY2jDqHJlIiwiZ2l2ZW5fbmFtZSI6IkNvbGluIiwiZ3JvdXBzIjpbIlVTRVJfT05ZWElBIl0sImlhdCI6MTczMzQwMzUyNiwiaXNzIjoiaHR0cHM6Ly9hdXRoLmxhYi5zc3BjbG91ZC5mci9hdXRoL3JlYWxtcy9zc3BjbG91ZCIsImp0aSI6IjRiYTAwYzZkLTA2ZjMtNDJhNi1iYjkyLTU0MTA3YTE2ZmM1NyIsIm5hbWUiOiJDb2xpbiBMaWNow6hyZSIsInBvbGljeSI6InN0c29ubHkiLCJwcmVmZXJyZWRfdXNlcm5hbWUiOiJjbGljaGVyZSIsInJlYWxtX2FjY2VzcyI6eyJyb2xlcyI6WyJvZmZsaW5lX2FjY2VzcyIsInVtYV9hdXRob3JpemF0aW9uIiwiZGVmYXVsdC1yb2xlcy1zc3BjbG91ZCJdfSwicmVzb3VyY2VfYWNjZXNzIjp7ImFjY291bnQiOnsicm9sZXMiOlsibWFuYWdlLWFjY291bnQiLCJtYW5hZ2UtYWNjb3VudC1saW5rcyIsInZpZXctcHJvZmlsZSJdfX0sInJvbGVzIjpbIm9mZmxpbmVfYWNjZXNzIiwidW1hX2F1dGhvcml6YXRpb24iLCJkZWZhdWx0LXJvbGVzLXNzcGNsb3VkIl0sInNjb3BlIjoib3BlbmlkIHByb2ZpbGUgZ3JvdXBzIGVtYWlsIiwic2lkIjoiOGJlYTQ2MzctYTUzMi00YTY2LTkxOTctMDY3NDliYTMxZDVjIiwic3ViIjoiY2RkOGM5MzYtNWUxYy00OTE4LWIxMmItMjgzNjY1NzY5YTFlIiwidHlwIjoiQmVhcmVyIn0.nAoKnrR5RTK1_XbEr9QZBfIy9-6K703dwlPDnQhcfR04CvnxJS7LMdsckBUjMk3vrH0zUCPO0TMKFi0unqGQEQ\",\n",
    "    client_kwargs={\"endpoint_url\": \"https://minio.lab.sspcloud.fr\"}\n",
    ")\n"
   ]
  },
  {
   "cell_type": "code",
   "execution_count": 76,
   "metadata": {},
   "outputs": [],
   "source": [
    "import pandas as pd\n",
    "import s3fs\n",
    "\n",
    "def read_csv_from_s3(path: str, columns_to_select: list, dtype_spec: dict, encoding: str = \"utf-8\") -> pd.DataFrame:\n",
    "    \n",
    "    # Connexion à S3 via s3fs\n",
    "    fs = s3fs.S3FileSystem(\n",
    "        key=\"4LHZ3NJSE1V7AAG3DR97\",\n",
    "        secret=\"rFX2qUAoofKvBheVrGgmK4mVsgzUULJTF5QKqn9m\",\n",
    "        token=\"eyJhbGciOiJIUzUxMiIsInR5cCI6IkpXVCJ9.eyJhY2Nlc3NLZXkiOiI0TEhaM05KU0UxVjdBQUczRFI5NyIsImFsbG93ZWQtb3JpZ2lucyI6WyIqIl0sImF1ZCI6WyJtaW5pby1kYXRhbm9kZSIsIm9ueXhpYSIsImFjY291bnQiXSwiYXV0aF90aW1lIjoxNzMyNzE4ODIwLCJhenAiOiJvbnl4aWEiLCJlbWFpbCI6ImNvbGluLmxpY2hlcmVAZW5zYWUuZnIiLCJlbWFpbF92ZXJpZmllZCI6dHJ1ZSwiZXhwIjoxNzM0MDA4MzI2LCJmYW1pbHlfbmFtZSI6IkxpY2jDqHJlIiwiZ2l2ZW5fbmFtZSI6IkNvbGluIiwiZ3JvdXBzIjpbIlVTRVJfT05ZWElBIl0sImlhdCI6MTczMzQwMzUyNiwiaXNzIjoiaHR0cHM6Ly9hdXRoLmxhYi5zc3BjbG91ZC5mci9hdXRoL3JlYWxtcy9zc3BjbG91ZCIsImp0aSI6IjRiYTAwYzZkLTA2ZjMtNDJhNi1iYjkyLTU0MTA3YTE2ZmM1NyIsIm5hbWUiOiJDb2xpbiBMaWNow6hyZSIsInBvbGljeSI6InN0c29ubHkiLCJwcmVmZXJyZWRfdXNlcm5hbWUiOiJjbGljaGVyZSIsInJlYWxtX2FjY2VzcyI6eyJyb2xlcyI6WyJvZmZsaW5lX2FjY2VzcyIsInVtYV9hdXRob3JpemF0aW9uIiwiZGVmYXVsdC1yb2xlcy1zc3BjbG91ZCJdfSwicmVzb3VyY2VfYWNjZXNzIjp7ImFjY291bnQiOnsicm9sZXMiOlsibWFuYWdlLWFjY291bnQiLCJtYW5hZ2UtYWNjb3VudC1saW5rcyIsInZpZXctcHJvZmlsZSJdfX0sInJvbGVzIjpbIm9mZmxpbmVfYWNjZXNzIiwidW1hX2F1dGhvcml6YXRpb24iLCJkZWZhdWx0LXJvbGVzLXNzcGNsb3VkIl0sInNjb3BlIjoib3BlbmlkIHByb2ZpbGUgZ3JvdXBzIGVtYWlsIiwic2lkIjoiOGJlYTQ2MzctYTUzMi00YTY2LTkxOTctMDY3NDliYTMxZDVjIiwic3ViIjoiY2RkOGM5MzYtNWUxYy00OTE4LWIxMmItMjgzNjY1NzY5YTFlIiwidHlwIjoiQmVhcmVyIn0.nAoKnrR5RTK1_XbEr9QZBfIy9-6K703dwlPDnQhcfR04CvnxJS7LMdsckBUjMk3vrH0zUCPO0TMKFi0unqGQEQ\",\n",
    "        client_kwargs={\"endpoint_url\": \"https://minio.lab.sspcloud.fr\"})\n",
    "\n",
    "    # Lire le fichier CSV en utilisant les colonnes spécifiées et le type de données des colonnes\n",
    "    with fs.open(path, mode=\"r\", encoding=encoding) as file:\n",
    "        df = pd.read_csv(file, usecols=columns_to_select, dtype=dtype_spec)\n",
    "    \n",
    "    return df"
   ]
  },
  {
   "cell_type": "markdown",
   "metadata": {},
   "source": [
    "1. Revenus par habitant et population par commune"
   ]
  },
  {
   "cell_type": "code",
   "execution_count": null,
   "metadata": {},
   "outputs": [
    {
     "name": "stdout",
     "output_type": "stream",
     "text": [
      "  codecommune             nomcommune  pop2022  revmoy2022\n",
      "0       01001  ABERGEMENT-CLEMENCIAT      747   21615.654\n",
      "1       01002    ABERGEMENT-DE-VAREY      288   16945.766\n",
      "2       01004      AMBERIEU-EN-BUGEY    14375   18423.111\n",
      "3       01005    AMBERIEUX-EN-DOMBES     1717   20996.125\n",
      "4       01006                AMBLEON      116   18075.986\n",
      "            pop2022     revmoy2022\n",
      "count  3.666100e+04   34746.000000\n",
      "mean   1.925007e+03   17051.483011\n",
      "std    1.495215e+04    5197.378499\n",
      "min    0.000000e+00    3350.483900\n",
      "25%    1.820000e+02   14012.091750\n",
      "50%    4.290000e+02   16322.690500\n",
      "75%    1.118000e+03   19126.264250\n",
      "max    2.118266e+06  126903.910000\n"
     ]
    }
   ],
   "source": [
    "# Définir les colonnes à sélectionner et les types de données\n",
    "columns_to_select = [\"codecommune\", \"nomcommune\", \"pop2022\", \"revmoy2022\"]\n",
    "dtype_spec = {'codecommune': 'str'}\n",
    "\n",
    "# Lire le fichier CSV depuis S3\n",
    "path_revcommunes = \"clichere/diffusion/revcommunes.csv\"\n",
    "revcommunes = read_csv_from_s3(path_revcommunes, columns_to_select, dtype_spec)\n",
    "\n",
    "# Afficher un aperçu des données lues ainsi que les statistiques descriptives\n",
    "print(revcommunes.head())\n",
    "\n",
    "print(revcommunes.describe())"
   ]
  },
  {
   "cell_type": "markdown",
   "metadata": {},
   "source": [
    "2. Taux de diplome par commune"
   ]
  },
  {
   "cell_type": "code",
   "execution_count": 80,
   "metadata": {},
   "outputs": [
    {
     "name": "stdout",
     "output_type": "stream",
     "text": [
      "  codecommune  pbac2022  psup2022\n",
      "0       01001  0.447140  0.232236\n",
      "1       01002  0.672414  0.086207\n",
      "2       01003       NaN       NaN\n",
      "3       01004  0.461044  0.289937\n",
      "4       01005  0.337925  0.168558\n",
      "           pbac2022      psup2022\n",
      "count  35222.000000  35222.000000\n",
      "mean       0.460833      0.274160\n",
      "std        0.199317      0.174347\n",
      "min        0.000000      0.000000\n",
      "25%        0.333333      0.157895\n",
      "50%        0.451748      0.259494\n",
      "75%        0.575221      0.372092\n",
      "max        1.000000      1.000000\n"
     ]
    }
   ],
   "source": [
    "# Définir les colonnes à sélectionner et les types de données\n",
    "columns_to_select = [\"codecommune\",\"pbac2022\", \"psup2022\"]\n",
    "dtype_spec = {'codecommune': 'str'}\n",
    "\n",
    "# Lire le fichier CSV depuis S3\n",
    "path_dipcommunes = \"clichere/diffusion/diplomescommunes.csv\"\n",
    "dipcommunes = read_csv_from_s3(path_dipcommunes, columns_to_select, dtype_spec)\n",
    "\n",
    "# Afficher un aperçu des données lues ainsi que les statistiques descriptives\n",
    "print(dipcommunes.head())\n",
    "\n",
    "print(dipcommunes.describe())\n"
   ]
  },
  {
   "cell_type": "markdown",
   "metadata": {},
   "source": [
    "3. Fusionner les bases de données"
   ]
  },
  {
   "cell_type": "code",
   "execution_count": 81,
   "metadata": {},
   "outputs": [
    {
     "name": "stdout",
     "output_type": "stream",
     "text": [
      "      codecommune             nomcommune  pop2022  revmoy2022  pbac2022  \\\n",
      "0           01001  ABERGEMENT-CLEMENCIAT      747   21615.654  0.447140   \n",
      "1           01002    ABERGEMENT-DE-VAREY      288   16945.766  0.672414   \n",
      "2           01004      AMBERIEU-EN-BUGEY    14375   18423.111  0.461044   \n",
      "3           01005    AMBERIEUX-EN-DOMBES     1717   20996.125  0.337925   \n",
      "4           01006                AMBLEON      116   18075.986  1.000000   \n",
      "...           ...                    ...      ...         ...       ...   \n",
      "36627       95676     VILLERS-EN-ARTHIES      529   20655.250  0.533520   \n",
      "36628       95678          VILLIERS-ADAM      927   26113.932  0.891641   \n",
      "36629       95680        VILLIERS-LE-BEL    27033   11837.685  0.436124   \n",
      "36630       95682        VILLIERS-LE-SEC      248   18516.314  0.270115   \n",
      "36631       95690    WY-DIT-JOLY-VILLAGE      375   25304.949  0.871795   \n",
      "\n",
      "       psup2022  \n",
      "0      0.232236  \n",
      "1      0.086207  \n",
      "2      0.289937  \n",
      "3      0.168558  \n",
      "4      0.013158  \n",
      "...         ...  \n",
      "36627  0.508380  \n",
      "36628  0.673375  \n",
      "36629  0.232402  \n",
      "36630  0.091954  \n",
      "36631  0.593407  \n",
      "\n",
      "[36632 rows x 6 columns]\n"
     ]
    }
   ],
   "source": [
    "rev_dip_pop_comm = pd.merge(revcommunes, dipcommunes, on='codecommune', how='inner')\n",
    "\n",
    "\n",
    "print(rev_dip_pop_comm)"
   ]
  },
  {
   "cell_type": "code",
   "execution_count": 75,
   "metadata": {},
   "outputs": [],
   "source": [
    "output_path1 = 'clichere/diffusion/rev_dip_pop_comm.parquet'\n",
    "output_path2 = 'clichere/diffusion/revcommunes.parquet'\n",
    "output_path3 = 'clichere/diffusion/dipcommunes.parquet'\n",
    "\n",
    "# Exporter le DataFrame en format Parquet sur S3\n",
    "rev_dip_pop_comm.to_parquet(output_path1, engine='pyarrow', compression='snappy', filesystem=fs)\n",
    "revcommunes.to_parquet(output_path2, engine='pyarrow', compression='snappy', filesystem=fs)\n",
    "dipcommunes.to_parquet(output_path3, engine='pyarrow', compression='snappy', filesystem=fs)\n"
   ]
  },
  {
   "cell_type": "code",
   "execution_count": 83,
   "metadata": {},
   "outputs": [
    {
     "name": "stdout",
     "output_type": "stream",
     "text": [
      "codecommune       0\n",
      "nomcommune        7\n",
      "pop2022           0\n",
      "revmoy2022     1912\n",
      "pbac2022       1410\n",
      "psup2022       1410\n",
      "dtype: int64\n",
      "codecommune    0.000000\n",
      "nomcommune     0.019109\n",
      "pop2022        0.000000\n",
      "revmoy2022     5.219480\n",
      "pbac2022       3.849094\n",
      "psup2022       3.849094\n",
      "dtype: float64\n"
     ]
    }
   ],
   "source": [
    "# Calculer le nombre de valeurs manquantes (NA) par colonne\n",
    "na_counts = rev_dip_pop_comm.isna().sum()\n",
    "na_percentage = rev_dip_pop_comm.isna().mean() * 100\n",
    "\n",
    "# Afficher les résultats\n",
    "print(na_counts)\n",
    "print(na_percentage)"
   ]
  }
 ],
 "metadata": {
  "kernelspec": {
   "display_name": "base",
   "language": "python",
   "name": "python3"
  },
  "language_info": {
   "codemirror_mode": {
    "name": "ipython",
    "version": 3
   },
   "file_extension": ".py",
   "mimetype": "text/x-python",
   "name": "python",
   "nbconvert_exporter": "python",
   "pygments_lexer": "ipython3",
   "version": "3.12.6"
  }
 },
 "nbformat": 4,
 "nbformat_minor": 2
}
