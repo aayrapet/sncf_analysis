{
 "cells": [
  {
   "cell_type": "code",
   "execution_count": 1,
   "metadata": {},
   "outputs": [],
   "source": [
    "import requests\n",
    "import s3fs\n",
    "import pandas as pd\n",
    "import pyarrow as pa\n",
    "import pyarrow.parquet as pq\n",
    "import numpy as np \n",
    "import matplotlib.pyplot as plt\n"
   ]
  },
  {
   "cell_type": "code",
   "execution_count": 2,
   "metadata": {},
   "outputs": [],
   "source": [
    "access_key = \"G558I833UBL38WJ6XLPM\"\n",
    "secret_key = \"2LjI0sdv4Ghre3VpkGBYnVzWrbHTk757Lu+1zjsC\"\n",
    "token = \"eyJhbGciOiJIUzUxMiIsInR5cCI6IkpXVCJ9.eyJhY2Nlc3NLZXkiOiJHNTU4STgzM1VCTDM4V0o2WExQTSIsImFsbG93ZWQtb3JpZ2lucyI6WyIqIl0sImF1ZCI6WyJtaW5pby1kYXRhbm9kZSIsIm9ueXhpYSIsImFjY291bnQiXSwiYXV0aF90aW1lIjoxNzMyNzE4ODIwLCJhenAiOiJvbnl4aWEiLCJlbWFpbCI6ImNvbGluLmxpY2hlcmVAZW5zYWUuZnIiLCJlbWFpbF92ZXJpZmllZCI6dHJ1ZSwiZXhwIjoxNzM0MTgxNTA4LCJmYW1pbHlfbmFtZSI6IkxpY2jDqHJlIiwiZ2l2ZW5fbmFtZSI6IkNvbGluIiwiZ3JvdXBzIjpbIlVTRVJfT05ZWElBIl0sImlhdCI6MTczMzU3NjcwOCwiaXNzIjoiaHR0cHM6Ly9hdXRoLmxhYi5zc3BjbG91ZC5mci9hdXRoL3JlYWxtcy9zc3BjbG91ZCIsImp0aSI6IjFjMjU5YmIyLTZjMDAtNGRkNS1iZGFhLThjMWU4N2MzZDE1MSIsIm5hbWUiOiJDb2xpbiBMaWNow6hyZSIsInBvbGljeSI6InN0c29ubHkiLCJwcmVmZXJyZWRfdXNlcm5hbWUiOiJjbGljaGVyZSIsInJlYWxtX2FjY2VzcyI6eyJyb2xlcyI6WyJvZmZsaW5lX2FjY2VzcyIsInVtYV9hdXRob3JpemF0aW9uIiwiZGVmYXVsdC1yb2xlcy1zc3BjbG91ZCJdfSwicmVzb3VyY2VfYWNjZXNzIjp7ImFjY291bnQiOnsicm9sZXMiOlsibWFuYWdlLWFjY291bnQiLCJtYW5hZ2UtYWNjb3VudC1saW5rcyIsInZpZXctcHJvZmlsZSJdfX0sInJvbGVzIjpbIm9mZmxpbmVfYWNjZXNzIiwidW1hX2F1dGhvcml6YXRpb24iLCJkZWZhdWx0LXJvbGVzLXNzcGNsb3VkIl0sInNjb3BlIjoib3BlbmlkIHByb2ZpbGUgZ3JvdXBzIGVtYWlsIiwic2lkIjoiOGJlYTQ2MzctYTUzMi00YTY2LTkxOTctMDY3NDliYTMxZDVjIiwic3ViIjoiY2RkOGM5MzYtNWUxYy00OTE4LWIxMmItMjgzNjY1NzY5YTFlIiwidHlwIjoiQmVhcmVyIn0.iZazPSQeCUZSJ-QSaQduhl_kNl1PeNU_i4o09zGSKPdHfHQVbMdp5bmWLaVmAUE2Rrs3HwpTnk_tFaga-wpC8g\"\n"
   ]
  },
  {
   "cell_type": "code",
   "execution_count": 3,
   "metadata": {},
   "outputs": [
    {
     "name": "stdout",
     "output_type": "stream",
     "text": [
      "Connexion réussie. Fichiers disponibles : ['clichere/diffusion']\n"
     ]
    }
   ],
   "source": [
    "fs = s3fs.S3FileSystem(client_kwargs={\"endpoint_url\": \"https://minio.lab.sspcloud.fr\"}, key=access_key,\n",
    "        secret=secret_key, token=token)\n",
    "\n",
    "# Testez la connexion en listant les fichiers d’un bucket\n",
    "try:\n",
    "    files = fs.ls(\"clichere\")  # Remplacez par le nom de votre bucket\n",
    "    print(\"Connexion réussie. Fichiers disponibles :\", files)\n",
    "except Exception as e:\n",
    "    print(\"Erreur lors de la connexion :\", e)\n",
    "\n",
    "def read_csv_from_s3(path: str, columns_to_select: list, dtype_spec: dict, encoding: str = \"utf-8\") -> pd.DataFrame:\n",
    "  \n",
    "    with fs.open(path, mode=\"r\", encoding=encoding) as file:\n",
    "        df = pd.read_csv(file, usecols=columns_to_select, dtype=dtype_spec)\n",
    "    \n",
    "    return df\n",
    "\n",
    "def plot_hist(series, title_suffix=\"\"):\n",
    "    plt.figure(figsize=(8, 6))\n",
    "    plt.hist(series.dropna(), bins=30, alpha=0.7, color='blue', edgecolor='black')\n",
    "    plt.title(f\"Histogram {title_suffix}\")\n",
    "    plt.xlabel(\"Valeurs\")\n",
    "    plt.ylabel(\"Fréquence\")\n",
    "    plt.grid(axis='y', alpha=0.75)\n",
    "    plt.show()\n"
   ]
  },
  {
   "cell_type": "markdown",
   "metadata": {},
   "source": [
    "1. Revenus par habitant et population par commune"
   ]
  },
  {
   "cell_type": "code",
   "execution_count": 4,
   "metadata": {},
   "outputs": [
    {
     "name": "stdout",
     "output_type": "stream",
     "text": [
      "  codecommune             nomcommune  pop2022  revmoy2022\n",
      "0       01001  ABERGEMENT-CLEMENCIAT      747   21615.654\n",
      "1       01002    ABERGEMENT-DE-VAREY      288   16945.766\n",
      "2       01004      AMBERIEU-EN-BUGEY    14375   18423.111\n",
      "3       01005    AMBERIEUX-EN-DOMBES     1717   20996.125\n",
      "4       01006                AMBLEON      116   18075.986\n",
      "            pop2022     revmoy2022\n",
      "count  3.666100e+04   34746.000000\n",
      "mean   1.925007e+03   17051.483011\n",
      "std    1.495215e+04    5197.378499\n",
      "min    0.000000e+00    3350.483900\n",
      "25%    1.820000e+02   14012.091750\n",
      "50%    4.290000e+02   16322.690500\n",
      "75%    1.118000e+03   19126.264250\n",
      "max    2.118266e+06  126903.910000\n"
     ]
    }
   ],
   "source": [
    "# Définir les colonnes à sélectionner et les types de données\n",
    "columns_to_select = [\"codecommune\", \"nomcommune\", \"pop2022\", \"revmoy2022\"]\n",
    "dtype_spec = {'codecommune': 'str'}\n",
    "\n",
    "# Lire le fichier CSV depuis S3\n",
    "path_revcommunes = \"clichere/diffusion/revcommunes.csv\"\n",
    "revcommunes = read_csv_from_s3(path_revcommunes, columns_to_select, dtype_spec)\n",
    "\n",
    "# Afficher un aperçu des données lues ainsi que les statistiques descriptives\n",
    "print(revcommunes.head())\n",
    "\n",
    "print(revcommunes.describe())"
   ]
  },
  {
   "cell_type": "markdown",
   "metadata": {},
   "source": [
    "2. Taux de diplome par commune"
   ]
  },
  {
   "cell_type": "code",
   "execution_count": 5,
   "metadata": {},
   "outputs": [
    {
     "name": "stdout",
     "output_type": "stream",
     "text": [
      "  codecommune  pbac2022  psup2022\n",
      "0       01001  0.447140  0.232236\n",
      "1       01002  0.672414  0.086207\n",
      "2       01003       NaN       NaN\n",
      "3       01004  0.461044  0.289937\n",
      "4       01005  0.337925  0.168558\n",
      "           pbac2022      psup2022\n",
      "count  35222.000000  35222.000000\n",
      "mean       0.460833      0.274160\n",
      "std        0.199317      0.174347\n",
      "min        0.000000      0.000000\n",
      "25%        0.333333      0.157895\n",
      "50%        0.451748      0.259494\n",
      "75%        0.575221      0.372092\n",
      "max        1.000000      1.000000\n"
     ]
    }
   ],
   "source": [
    "# Définir les colonnes à sélectionner et les types de données\n",
    "columns_to_select = [\"codecommune\",\"pbac2022\", \"psup2022\"]\n",
    "dtype_spec = {'codecommune': 'str'}\n",
    "\n",
    "# Lire le fichier CSV depuis S3\n",
    "path_dipcommunes = \"clichere/diffusion/diplomescommunes.csv\"\n",
    "dipcommunes = read_csv_from_s3(path_dipcommunes, columns_to_select, dtype_spec)\n",
    "\n",
    "# Afficher un aperçu des données lues ainsi que les statistiques descriptives\n",
    "print(dipcommunes.head())\n",
    "\n",
    "print(dipcommunes.describe())\n"
   ]
  },
  {
   "cell_type": "markdown",
   "metadata": {},
   "source": [
    "3. Fusionner les bases de données"
   ]
  },
  {
   "cell_type": "code",
   "execution_count": 6,
   "metadata": {},
   "outputs": [
    {
     "name": "stdout",
     "output_type": "stream",
     "text": [
      "      codecommune             nomcommune  pop2022  revmoy2022  pbac2022  \\\n",
      "0           01001  ABERGEMENT-CLEMENCIAT      747   21615.654  0.447140   \n",
      "1           01002    ABERGEMENT-DE-VAREY      288   16945.766  0.672414   \n",
      "2           01004      AMBERIEU-EN-BUGEY    14375   18423.111  0.461044   \n",
      "3           01005    AMBERIEUX-EN-DOMBES     1717   20996.125  0.337925   \n",
      "4           01006                AMBLEON      116   18075.986  1.000000   \n",
      "...           ...                    ...      ...         ...       ...   \n",
      "36627       95676     VILLERS-EN-ARTHIES      529   20655.250  0.533520   \n",
      "36628       95678          VILLIERS-ADAM      927   26113.932  0.891641   \n",
      "36629       95680        VILLIERS-LE-BEL    27033   11837.685  0.436124   \n",
      "36630       95682        VILLIERS-LE-SEC      248   18516.314  0.270115   \n",
      "36631       95690    WY-DIT-JOLY-VILLAGE      375   25304.949  0.871795   \n",
      "\n",
      "       psup2022  \n",
      "0      0.232236  \n",
      "1      0.086207  \n",
      "2      0.289937  \n",
      "3      0.168558  \n",
      "4      0.013158  \n",
      "...         ...  \n",
      "36627  0.508380  \n",
      "36628  0.673375  \n",
      "36629  0.232402  \n",
      "36630  0.091954  \n",
      "36631  0.593407  \n",
      "\n",
      "[36632 rows x 6 columns]\n"
     ]
    }
   ],
   "source": [
    "rev_dip_pop_comm = pd.merge(revcommunes, dipcommunes, on='codecommune', how='inner')\n",
    "\n",
    "\n",
    "print(rev_dip_pop_comm)"
   ]
  },
  {
   "cell_type": "code",
   "execution_count": 75,
   "metadata": {},
   "outputs": [],
   "source": [
    "output_path1 = 'clichere/diffusion/rev_dip_pop_comm.parquet'\n",
    "output_path2 = 'clichere/diffusion/revcommunes.parquet'\n",
    "output_path3 = 'clichere/diffusion/dipcommunes.parquet'\n",
    "\n",
    "# Exporter le DataFrame en format Parquet sur S3\n",
    "rev_dip_pop_comm.to_parquet(output_path1, engine='pyarrow', compression='snappy', filesystem=fs)\n",
    "revcommunes.to_parquet(output_path2, engine='pyarrow', compression='snappy', filesystem=fs)\n",
    "dipcommunes.to_parquet(output_path3, engine='pyarrow', compression='snappy', filesystem=fs)\n"
   ]
  },
  {
   "cell_type": "code",
   "execution_count": 7,
   "metadata": {},
   "outputs": [
    {
     "name": "stdout",
     "output_type": "stream",
     "text": [
      "codecommune       0\n",
      "nomcommune        7\n",
      "pop2022           0\n",
      "revmoy2022     1912\n",
      "pbac2022       1410\n",
      "psup2022       1410\n",
      "dtype: int64\n",
      "codecommune    0.000000\n",
      "nomcommune     0.019109\n",
      "pop2022        0.000000\n",
      "revmoy2022     5.219480\n",
      "pbac2022       3.849094\n",
      "psup2022       3.849094\n",
      "dtype: float64\n"
     ]
    }
   ],
   "source": [
    "# Calculer le nombre de valeurs manquantes (NA) par colonne\n",
    "na_counts = rev_dip_pop_comm.isna().sum()\n",
    "na_percentage = rev_dip_pop_comm.isna().mean() * 100\n",
    "\n",
    "# Afficher les résultats\n",
    "print(na_counts)\n",
    "print(na_percentage)"
   ]
  },
  {
   "cell_type": "markdown",
   "metadata": {},
   "source": [
    "4. Récupération de la base de données de travail"
   ]
  },
  {
   "cell_type": "code",
   "execution_count": 9,
   "metadata": {},
   "outputs": [
    {
     "name": "stdout",
     "output_type": "stream",
     "text": [
      "   total_voyageurs_2022               nom_gare       uic codeinsee  lon_gare  \\\n",
      "0                 40825               Abbaretz  87481614     44001 -1.524416   \n",
      "1                177092  Achères Grand Cormier  87386052     78551  2.091903   \n",
      "2                 80648        Achiet-le-Grand  87342048     62005  2.780168   \n",
      "3                 32800                   Agay  87757559     83118  6.856500   \n",
      "4                 11325          Aigues-Mortes  87775858     30003  4.191210   \n",
      "\n",
      "    lat_gare codecommune             nomcommune  pop2022  revmoy2022  \\\n",
      "0  47.554643       44001               ABBARETZ   2257.0   12567.249   \n",
      "1  48.955183       78551  SAINT-GERMAIN-EN-LAYE  39172.0   41601.988   \n",
      "2  50.131752       62005        ACHIET-LE-GRAND    888.0   15813.034   \n",
      "3  43.431370       83118          SAINT-RAPHAEL  37114.0   26637.975   \n",
      "4  43.570901       30003          AIGUES-MORTES   8076.0   20798.898   \n",
      "\n",
      "   pbac2022  psup2022  dist_closest_station_km  nb_stations_same_commune  \\\n",
      "0  0.272793  0.167265                      9.7                         1   \n",
      "1  0.799042  0.636268                      2.0                         1   \n",
      "2  0.423381  0.341232                      4.2                         1   \n",
      "3  0.545461  0.339091                      1.8                         6   \n",
      "4  0.368033  0.195708                      5.6                         1   \n",
      "\n",
      "                      regions  \n",
      "0            Pays de la Loire  \n",
      "1               Île-de-France  \n",
      "2             Hauts-de-France  \n",
      "3  Provence-Alpes-Côte d'Azur  \n",
      "4                   Occitanie  \n"
     ]
    }
   ],
   "source": [
    "dataset = pq.ParquetDataset('aayrapetyan/diffusion/final_table.parquet', filesystem=fs)\n",
    "final_dataset = dataset.read().to_pandas()\n",
    "\n",
    "# Afficher les premières lignes\n",
    "print(final_dataset.head())"
   ]
  },
  {
   "cell_type": "code",
   "execution_count": 10,
   "metadata": {},
   "outputs": [
    {
     "name": "stdout",
     "output_type": "stream",
     "text": [
      "             pop2022     revmoy2022      pbac2022      psup2022\n",
      "count   36632.000000   34720.000000  35222.000000  35222.000000\n",
      "mean     1829.919387   17049.742626      0.460833      0.274160\n",
      "std      9954.647803    5194.780298      0.199317      0.174347\n",
      "min         0.000000    3350.483900      0.000000      0.000000\n",
      "25%       182.000000   14011.968000      0.333333      0.157895\n",
      "50%       428.000000   16321.857000      0.451748      0.259494\n",
      "75%      1116.000000   19124.010750      0.575221      0.372092\n",
      "max    875791.000000  126903.910000      1.000000      1.000000\n",
      "             pop2022     revmoy2022     pbac2022     psup2022\n",
      "count    2808.000000    2808.000000  2808.000000  2808.000000\n",
      "mean    18078.540954   18221.520429     0.460001     0.293846\n",
      "std     50290.901554    6608.596156     0.134600     0.132249\n",
      "min        55.000000    5818.043000     0.000000     0.000000\n",
      "25%      1570.250000   14922.083000     0.367286     0.203781\n",
      "50%      4067.500000   16931.457000     0.453300     0.279855\n",
      "75%     12203.000000   19639.297250     0.544030     0.365996\n",
      "max    875791.000000  107572.810000     1.000000     1.000000\n"
     ]
    }
   ],
   "source": [
    "select_columns = ['pop2022', 'revmoy2022', 'pbac2022', 'psup2022']\n",
    "\n",
    "print(rev_dip_pop_comm[select_columns].describe())\n",
    "print(final_dataset[select_columns].describe())"
   ]
  },
  {
   "cell_type": "markdown",
   "metadata": {},
   "source": [
    "On voit que la population moyenne diminue lorsque l'on sélectionne les communes ayant une gare. Cela correspond au fait que les petites communes ont moins de chance d'avoir une gare. On passe de 36000 communes à 2800 communes, ce qui donne tout de même beaucoup d'observations. Le revenu est légèrement supérieur ainsi que la part des habitants qui ont un diplôme du supérieur dans les villes où il y a une gare. Cela nous donne une première indication sur ce que l'on cherche à montrer : une relation positive entre le revenu et la fréquentation des gares. "
   ]
  },
  {
   "cell_type": "markdown",
   "metadata": {},
   "source": [
    "5. Création d'une nouvelle variable"
   ]
  },
  {
   "cell_type": "code",
   "execution_count": 11,
   "metadata": {},
   "outputs": [
    {
     "name": "stdout",
     "output_type": "stream",
     "text": [
      "   total_voyageurs_2022               nom_gare       uic codeinsee  lon_gare  \\\n",
      "0                 40825               Abbaretz  87481614     44001 -1.524416   \n",
      "1                177092  Achères Grand Cormier  87386052     78551  2.091903   \n",
      "2                 80648        Achiet-le-Grand  87342048     62005  2.780168   \n",
      "3                 32800                   Agay  87757559     83118  6.856500   \n",
      "4                 11325          Aigues-Mortes  87775858     30003  4.191210   \n",
      "\n",
      "    lat_gare codecommune             nomcommune  pop2022  revmoy2022  \\\n",
      "0  47.554643       44001               ABBARETZ   2257.0   12567.249   \n",
      "1  48.955183       78551  SAINT-GERMAIN-EN-LAYE  39172.0   41601.988   \n",
      "2  50.131752       62005        ACHIET-LE-GRAND    888.0   15813.034   \n",
      "3  43.431370       83118          SAINT-RAPHAEL  37114.0   26637.975   \n",
      "4  43.570901       30003          AIGUES-MORTES   8076.0   20798.898   \n",
      "\n",
      "   pbac2022  psup2022  dist_closest_station_km  nb_stations_same_commune  \\\n",
      "0  0.272793  0.167265                      9.7                         1   \n",
      "1  0.799042  0.636268                      2.0                         1   \n",
      "2  0.423381  0.341232                      4.2                         1   \n",
      "3  0.545461  0.339091                      1.8                         6   \n",
      "4  0.368033  0.195708                      5.6                         1   \n",
      "\n",
      "                      regions  freq_par_hab  \n",
      "0            Pays de la Loire     18.088170  \n",
      "1               Île-de-France      4.520882  \n",
      "2             Hauts-de-France     90.819820  \n",
      "3  Provence-Alpes-Côte d'Azur      0.883764  \n",
      "4                   Occitanie      1.402303  \n"
     ]
    }
   ],
   "source": [
    "final_dataset['freq_par_hab']= final_dataset['total_voyageurs_2022']/final_dataset['pop2022']\n",
    "print(final_dataset.head())"
   ]
  },
  {
   "cell_type": "code",
   "execution_count": 12,
   "metadata": {},
   "outputs": [
    {
     "data": {
      "image/png": "[encoded data removed]",
      "text/plain": [
       "<Figure size 800x600 with 1 Axes>"
      ]
     },
     "metadata": {},
     "output_type": "display_data"
    }
   ],
   "source": [
    "plot_hist(series=(final_dataset['freq_par_hab']),title_suffix=\"frequency par habitant\")"
   ]
  }
 ],
 "metadata": {
  "kernelspec": {
   "display_name": "base",
   "language": "python",
   "name": "python3"
  },
  "language_info": {
   "codemirror_mode": {
    "name": "ipython",
    "version": 3
   },
   "file_extension": ".py",
   "mimetype": "text/x-python",
   "name": "python",
   "nbconvert_exporter": "python",
   "pygments_lexer": "ipython3",
   "version": "3.12.6"
  }
 },
 "nbformat": 4,
 "nbformat_minor": 2
}
