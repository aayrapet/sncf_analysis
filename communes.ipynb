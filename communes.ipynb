{
 "cells": [
  {
   "cell_type": "code",
   "execution_count": 4,
   "metadata": {},
   "outputs": [],
   "source": [
    "import requests\n",
    "import s3fs\n",
    "import pandas as pd\n",
    "import pyarrow as pa\n",
    "import pyarrow.parquet as pq\n",
    "import numpy as np \n",
    "import matplotlib.pyplot as plt\n",
    "from helpers import *\n"
   ]
  },
  {
   "cell_type": "code",
   "execution_count": 5,
   "metadata": {},
   "outputs": [
    {
     "name": "stdout",
     "output_type": "stream",
     "text": [
      "connection successful\n"
     ]
    }
   ],
   "source": [
    "s3=s3_connection()"
   ]
  },
  {
   "cell_type": "markdown",
   "metadata": {},
   "source": [
    "1. Revenus par habitant et population par commune"
   ]
  },
  {
   "cell_type": "code",
   "execution_count": null,
   "metadata": {},
   "outputs": [
    {
     "name": "stdout",
     "output_type": "stream",
     "text": [
      "  codecommune             nomcommune  pop2022  revmoy2022\n",
      "0       01001  ABERGEMENT-CLEMENCIAT      747   21615.654\n",
      "1       01002    ABERGEMENT-DE-VAREY      288   16945.766\n",
      "2       01004      AMBERIEU-EN-BUGEY    14375   18423.111\n",
      "3       01005    AMBERIEUX-EN-DOMBES     1717   20996.125\n",
      "4       01006                AMBLEON      116   18075.986\n",
      "            pop2022     revmoy2022\n",
      "count  3.666100e+04   34746.000000\n",
      "mean   1.925007e+03   17051.483011\n",
      "std    1.495215e+04    5197.378499\n",
      "min    0.000000e+00    3350.483900\n",
      "25%    1.820000e+02   14012.091750\n",
      "50%    4.290000e+02   16322.690500\n",
      "75%    1.118000e+03   19126.264250\n",
      "max    2.118266e+06  126903.910000\n"
     ]
    }
   ],
   "source": [
    "columns_to_select = [\"codecommune\", \"nomcommune\", \"pop2022\", \"revmoy2022\"]\n",
    "dtype_spec = {'codecommune': 'str'}\n",
    "\n",
    "path_revcommunes = \"clichere/diffusion/revcommunes.csv\"\n",
    "revcommunes = s3.read_csv_from_s3(path_revcommunes, columns_to_select, dtype_spec)\n",
    "\n",
    "print(revcommunes.head())\n",
    "\n",
    "print(revcommunes.describe())"
   ]
  },
  {
   "cell_type": "markdown",
   "metadata": {},
   "source": [
    "2. Taux de diplome par commune"
   ]
  },
  {
   "cell_type": "code",
   "execution_count": null,
   "metadata": {},
   "outputs": [
    {
     "name": "stdout",
     "output_type": "stream",
     "text": [
      "  codecommune  pbac2022  psup2022\n",
      "0       01001  0.447140  0.232236\n",
      "1       01002  0.672414  0.086207\n",
      "2       01003       NaN       NaN\n",
      "3       01004  0.461044  0.289937\n",
      "4       01005  0.337925  0.168558\n",
      "           pbac2022      psup2022\n",
      "count  35222.000000  35222.000000\n",
      "mean       0.460833      0.274160\n",
      "std        0.199317      0.174347\n",
      "min        0.000000      0.000000\n",
      "25%        0.333333      0.157895\n",
      "50%        0.451748      0.259494\n",
      "75%        0.575221      0.372092\n",
      "max        1.000000      1.000000\n"
     ]
    }
   ],
   "source": [
    "columns_to_select = [\"codecommune\",\"pbac2022\", \"psup2022\"]\n",
    "dtype_spec = {'codecommune': 'str'}\n",
    "\n",
    "path_dipcommunes = \"clichere/diffusion/diplomescommunes.csv\"\n",
    "dipcommunes = s3.read_csv_from_s3(path_dipcommunes, columns_to_select, dtype_spec)\n",
    "\n",
    "print(dipcommunes.head())\n",
    "\n",
    "print(dipcommunes.describe())\n"
   ]
  },
  {
   "cell_type": "markdown",
   "metadata": {},
   "source": [
    "3. Fusionner les bases de données"
   ]
  },
  {
   "cell_type": "code",
   "execution_count": 8,
   "metadata": {},
   "outputs": [
    {
     "name": "stdout",
     "output_type": "stream",
     "text": [
      "      codecommune             nomcommune  pop2022  revmoy2022  pbac2022  \\\n",
      "0           01001  ABERGEMENT-CLEMENCIAT      747   21615.654  0.447140   \n",
      "1           01002    ABERGEMENT-DE-VAREY      288   16945.766  0.672414   \n",
      "2           01004      AMBERIEU-EN-BUGEY    14375   18423.111  0.461044   \n",
      "3           01005    AMBERIEUX-EN-DOMBES     1717   20996.125  0.337925   \n",
      "4           01006                AMBLEON      116   18075.986  1.000000   \n",
      "...           ...                    ...      ...         ...       ...   \n",
      "36627       95676     VILLERS-EN-ARTHIES      529   20655.250  0.533520   \n",
      "36628       95678          VILLIERS-ADAM      927   26113.932  0.891641   \n",
      "36629       95680        VILLIERS-LE-BEL    27033   11837.685  0.436124   \n",
      "36630       95682        VILLIERS-LE-SEC      248   18516.314  0.270115   \n",
      "36631       95690    WY-DIT-JOLY-VILLAGE      375   25304.949  0.871795   \n",
      "\n",
      "       psup2022  \n",
      "0      0.232236  \n",
      "1      0.086207  \n",
      "2      0.289937  \n",
      "3      0.168558  \n",
      "4      0.013158  \n",
      "...         ...  \n",
      "36627  0.508380  \n",
      "36628  0.673375  \n",
      "36629  0.232402  \n",
      "36630  0.091954  \n",
      "36631  0.593407  \n",
      "\n",
      "[36632 rows x 6 columns]\n"
     ]
    }
   ],
   "source": [
    "rev_dip_pop_comm = pd.merge(revcommunes, dipcommunes, on='codecommune', how='inner')\n",
    "\n",
    "\n",
    "print(rev_dip_pop_comm)"
   ]
  },
  {
   "cell_type": "markdown",
   "metadata": {},
   "source": [
    "5. Création d'une nouvelle variable"
   ]
  },
  {
   "cell_type": "code",
   "execution_count": 15,
   "metadata": {},
   "outputs": [
    {
     "name": "stdout",
     "output_type": "stream",
     "text": [
      "   total_voyageurs_2022               nom_gare       uic codeinsee  lon_gare  \\\n",
      "0                 40825               Abbaretz  87481614     44001 -1.524416   \n",
      "1                177092  Achères Grand Cormier  87386052     78551  2.091903   \n",
      "2                 80648        Achiet-le-Grand  87342048     62005  2.780168   \n",
      "3                 32800                   Agay  87757559     83118  6.856500   \n",
      "4                 11325          Aigues-Mortes  87775858     30003  4.191210   \n",
      "\n",
      "    lat_gare codecommune             nomcommune  pop2022  revmoy2022  \\\n",
      "0  47.554643       44001               ABBARETZ   2257.0   12567.249   \n",
      "1  48.955183       78551  SAINT-GERMAIN-EN-LAYE  39172.0   41601.988   \n",
      "2  50.131752       62005        ACHIET-LE-GRAND    888.0   15813.034   \n",
      "3  43.431370       83118          SAINT-RAPHAEL  37114.0   26637.975   \n",
      "4  43.570901       30003          AIGUES-MORTES   8076.0   20798.898   \n",
      "\n",
      "   pbac2022  psup2022  dist_closest_station_km  nb_stations_same_commune  \\\n",
      "0  0.272793  0.167265                 9.747018                         1   \n",
      "1  0.799042  0.636268                 1.969106                         1   \n",
      "2  0.423381  0.341232                 4.224939                         1   \n",
      "3  0.545461  0.339091                 1.802655                         6   \n",
      "4  0.368033  0.195708                 5.559663                         1   \n",
      "\n",
      "                      regions  freq_par_hab  \n",
      "0            Pays de la Loire     18.088170  \n",
      "1               Île-de-France      4.520882  \n",
      "2             Hauts-de-France     90.819820  \n",
      "3  Provence-Alpes-Côte d'Azur      0.883764  \n",
      "4                   Occitanie      1.402303  \n"
     ]
    }
   ],
   "source": [
    "final_dataset['freq_par_hab']= final_dataset['total_voyageurs_2022']/final_dataset['pop2022']\n",
    "print(final_dataset.head())"
   ]
  },
  {
   "cell_type": "code",
   "execution_count": 1,
   "metadata": {},
   "outputs": [
    {
     "ename": "NameError",
     "evalue": "name 'plot_hist' is not defined",
     "output_type": "error",
     "traceback": [
      "\u001b[0;31m---------------------------------------------------------------------------\u001b[0m",
      "\u001b[0;31mNameError\u001b[0m                                 Traceback (most recent call last)",
      "Cell \u001b[0;32mIn[1], line 1\u001b[0m\n\u001b[0;32m----> 1\u001b[0m \u001b[43mplot_hist\u001b[49m(series\u001b[38;5;241m=\u001b[39m(final_dataset[\u001b[38;5;124m'\u001b[39m\u001b[38;5;124mfreq_par_hab\u001b[39m\u001b[38;5;124m'\u001b[39m]),title_suffix\u001b[38;5;241m=\u001b[39m\u001b[38;5;124m\"\u001b[39m\u001b[38;5;124mfrequence par habitant\u001b[39m\u001b[38;5;124m\"\u001b[39m)\n",
      "\u001b[0;31mNameError\u001b[0m: name 'plot_hist' is not defined"
     ]
    }
   ],
   "source": [
    "plot_hist(series=(final_dataset['freq_par_hab']),title_suffix=\"frequence par habitant\")"
   ]
  }
 ],
 "metadata": {
  "kernelspec": {
   "display_name": "base",
   "language": "python",
   "name": "python3"
  },
  "language_info": {
   "codemirror_mode": {
    "name": "ipython",
    "version": 3
   },
   "file_extension": ".py",
   "mimetype": "text/x-python",
   "name": "python",
   "nbconvert_exporter": "python",
   "pygments_lexer": "ipython3",
   "version": "3.12.7"
  }
 },
 "nbformat": 4,
 "nbformat_minor": 2
}
