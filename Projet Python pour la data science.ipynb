{
 "cells": [
  {
   "cell_type": "code",
   "execution_count": 1,
   "metadata": {},
   "outputs": [],
   "source": [
    "import s3fs\n",
    "\n",
    "# Initialisation du système de fichiers S3\n",
    "fs = s3fs.S3FileSystem(client_kwargs={\"endpoint_url\": \"https://minio.lab.sspcloud.fr\"})"
   ]
  },
  {
   "cell_type": "markdown",
   "metadata": {},
   "source": [
    "1. Revenus par habitant et population par commune"
   ]
  },
  {
   "cell_type": "code",
   "execution_count": 2,
   "metadata": {},
   "outputs": [
    {
     "name": "stdout",
     "output_type": "stream",
     "text": [
      "['codeagglo', 'codecommune', 'dep', 'nomagglo', 'nomcommune', 'nomdep', 'paris', 'plm', 'revratio1790', 'revratio1791', 'revratio1792', 'revratio1793', 'revratio1794', 'revratio1795', 'revratio1796', 'revratio1797', 'revratio1798', 'revratio1799', 'revratio1800', 'revratio1801', 'revratio1802', 'revratio1803', 'revratio1804', 'revratio1805', 'revratio1806', 'revratio1807', 'revratio1808', 'revratio1809', 'revratio1810', 'revratio1811', 'revratio1812', 'revratio1813', 'revratio1814', 'revratio1815', 'revratio1816', 'revratio1817', 'revratio1818', 'revratio1819', 'revratio1820', 'revratio1821', 'revratio1822', 'revratio1823', 'revratio1824', 'revratio1825', 'revratio1826', 'revratio1827', 'revratio1828', 'revratio1829', 'revratio1830', 'revratio1831', 'revratio1832', 'revratio1833', 'revratio1834', 'revratio1835', 'revratio1836', 'revratio1837', 'revratio1838', 'revratio1839', 'revratio1840', 'revratio1841', 'revratio1842', 'revratio1843', 'revratio1844', 'revratio1845', 'revratio1846', 'revratio1847', 'revratio1848', 'revratio1849', 'revratio1850', 'revratio1851', 'revratio1852', 'revratio1853', 'revratio1854', 'revratio1855', 'revratio1856', 'revratio1857', 'revratio1858', 'revratio1859', 'revratio1860', 'revratio1861', 'revratio1862', 'revratio1863', 'revratio1864', 'revratio1865', 'revratio1866', 'revratio1867', 'revratio1868', 'revratio1869', 'revratio1870', 'revratio1871', 'revratio1872', 'revratio1873', 'revratio1874', 'revratio1875', 'revratio1876', 'revratio1877', 'revratio1878', 'revratio1879', 'revratio1880', 'revratio1881', 'revratio1882', 'revratio1883', 'revratio1884', 'revratio1885', 'revratio1886', 'revratio1887', 'revratio1888', 'revratio1889', 'revratio1890', 'revratio1891', 'revratio1892', 'revratio1893', 'revratio1894', 'revratio1895', 'revratio1896', 'revratio1897', 'revratio1898', 'revratio1899', 'revratio1900', 'revratio1901', 'revratio1902', 'revratio1903', 'revratio1904', 'revratio1905', 'revratio1906', 'revratio1907', 'revratio1908', 'revratio1909', 'revratio1910', 'revratio1911', 'revratio1912', 'revratio1913', 'revratio1914', 'revratio1915', 'revratio1916', 'revratio1917', 'revratio1918', 'revratio1919', 'revratio1920', 'revratio1921', 'revratio1922', 'revratio1923', 'revratio1924', 'revratio1925', 'revratio1926', 'revratio1927', 'revratio1928', 'revratio1929', 'revratio1930', 'revratio1931', 'revratio1932', 'revratio1933', 'revratio1934', 'revratio1935', 'revratio1936', 'revratio1937', 'revratio1938', 'revratio1939', 'revratio1940', 'revratio1941', 'revratio1942', 'revratio1943', 'revratio1944', 'revratio1945', 'revratio1946', 'revratio1947', 'revratio1948', 'revratio1949', 'revratio1950', 'revratio1951', 'revratio1952', 'revratio1953', 'revratio1954', 'revratio1955', 'revratio1956', 'revratio1957', 'revratio1958', 'revratio1959', 'revratio1960', 'revratio1961', 'revratio1962', 'revratio1963', 'revratio1964', 'revratio1965', 'revratio1966', 'revratio1967', 'revratio1968', 'revratio1969', 'revratio1970', 'revratio1971', 'revratio1972', 'revratio1973', 'revratio1974', 'revratio1975', 'revratio1976', 'revratio1977', 'revratio1978', 'revratio1979', 'revratio1980', 'revratio1981', 'revratio1982', 'revratio1983', 'revratio1984', 'revratio1985', 'revratio1986', 'revratio1987', 'revratio1988', 'revratio1989', 'revratio1990', 'revratio1991', 'revratio1992', 'revratio1993', 'revratio1994', 'revratio1995', 'revratio1996', 'revratio1997', 'revratio1998', 'revratio1999', 'revratio2000', 'revratio2001', 'revratio2002', 'revratio2003', 'revratio2004', 'revratio2005', 'revratio2006', 'revratio2007', 'revratio2008', 'revratio2009', 'revratio2010', 'revratio2011', 'revratio2012', 'revratio2013', 'revratio2014', 'revratio2015', 'revratio2016', 'revratio2017', 'revratio2018', 'revratio2019', 'revratio2020', 'revratio2021', 'revratio2022', 'revtot1860', 'revtot1861', 'revtot1862', 'revtot1863', 'revtot1864', 'revtot1865', 'revtot1866', 'revtot1867', 'revtot1868', 'revtot1869', 'revtot1870', 'revtot1871', 'revtot1872', 'revtot1873', 'revtot1874', 'revtot1875', 'revtot1876', 'revtot1877', 'revtot1878', 'revtot1879', 'revtot1880', 'revtot1881', 'revtot1882', 'revtot1883', 'revtot1884', 'revtot1885', 'revtot1886', 'revtot1887', 'revtot1888', 'revtot1889', 'revtot1890', 'revtot1891', 'revtot1892', 'revtot1893', 'revtot1894', 'revtot1895', 'revtot1896', 'revtot1897', 'revtot1898', 'revtot1899', 'revtot1900', 'revtot1901', 'revtot1902', 'revtot1903', 'revtot1904', 'revtot1905', 'revtot1906', 'revtot1907', 'revtot1908', 'revtot1909', 'revtot1910', 'revtot1911', 'revtot1912', 'revtot1913', 'revtot1914', 'revtot1915', 'revtot1916', 'revtot1917', 'revtot1918', 'revtot1919', 'revtot1920', 'revtot1921', 'revtot1922', 'revtot1923', 'revtot1924', 'revtot1925', 'revtot1926', 'revtot1927', 'revtot1928', 'revtot1929', 'revtot1930', 'revtot1931', 'revtot1932', 'revtot1933', 'revtot1934', 'revtot1935', 'revtot1936', 'revtot1937', 'revtot1938', 'revtot1939', 'revtot1940', 'revtot1941', 'revtot1942', 'revtot1943', 'revtot1944', 'revtot1945', 'revtot1946', 'revtot1947', 'revtot1948', 'revtot1949', 'revtot1950', 'revtot1951', 'revtot1952', 'revtot1953', 'revtot1954', 'revtot1955', 'revtot1956', 'revtot1957', 'revtot1958', 'revtot1959', 'revtot1960', 'revtot1961', 'revtot1962', 'revtot1963', 'revtot1964', 'revtot1965', 'revtot1966', 'revtot1967', 'revtot1968', 'revtot1969', 'revtot1970', 'revtot1971', 'revtot1972', 'revtot1973', 'revtot1974', 'revtot1975', 'revtot1976', 'revtot1977', 'revtot1978', 'revtot1979', 'revtot1980', 'revtot1981', 'revtot1982', 'revtot1983', 'revtot1984', 'revtot1985', 'revtot1986', 'revtot1987', 'revtot1988', 'revtot1989', 'revtot1990', 'revtot1991', 'revtot1992', 'revtot1993', 'revtot1994', 'revtot1995', 'revtot1996', 'revtot1997', 'revtot1998', 'revtot1999', 'revtot2000', 'revtot2001', 'revtot2002', 'revtot2003', 'revtot2004', 'revtot2005', 'revtot2006', 'revtot2007', 'revtot2008', 'revtot2009', 'revtot2010', 'revtot2011', 'revtot2012', 'revtot2013', 'revtot2014', 'revtot2015', 'revtot2016', 'revtot2017', 'revtot2018', 'revtot2019', 'revtot2020', 'revtot2021', 'revtot2022', 'revtotagglo1860', 'revtotagglo1861', 'revtotagglo1862', 'revtotagglo1863', 'revtotagglo1864', 'revtotagglo1865', 'revtotagglo1866', 'revtotagglo1867', 'revtotagglo1868', 'revtotagglo1869', 'revtotagglo1870', 'revtotagglo1871', 'revtotagglo1872', 'revtotagglo1873', 'revtotagglo1874', 'revtotagglo1875', 'revtotagglo1876', 'revtotagglo1877', 'revtotagglo1878', 'revtotagglo1879', 'revtotagglo1880', 'revtotagglo1881', 'revtotagglo1882', 'revtotagglo1883', 'revtotagglo1884', 'revtotagglo1885', 'revtotagglo1886', 'revtotagglo1887', 'revtotagglo1888', 'revtotagglo1889', 'revtotagglo1890', 'revtotagglo1891', 'revtotagglo1892', 'revtotagglo1893', 'revtotagglo1894', 'revtotagglo1895', 'revtotagglo1896', 'revtotagglo1897', 'revtotagglo1898', 'revtotagglo1899', 'revtotagglo1900', 'revtotagglo1901', 'revtotagglo1902', 'revtotagglo1903', 'revtotagglo1904', 'revtotagglo1905', 'revtotagglo1906', 'revtotagglo1907', 'revtotagglo1908', 'revtotagglo1909', 'revtotagglo1910', 'revtotagglo1911', 'revtotagglo1912', 'revtotagglo1913', 'revtotagglo1914', 'revtotagglo1915', 'revtotagglo1916', 'revtotagglo1917', 'revtotagglo1918', 'revtotagglo1919', 'revtotagglo1920', 'revtotagglo1921', 'revtotagglo1922', 'revtotagglo1923', 'revtotagglo1924', 'revtotagglo1925', 'revtotagglo1926', 'revtotagglo1927', 'revtotagglo1928', 'revtotagglo1929', 'revtotagglo1930', 'revtotagglo1931', 'revtotagglo1932', 'revtotagglo1933', 'revtotagglo1934', 'revtotagglo1935', 'revtotagglo1936', 'revtotagglo1937', 'revtotagglo1938', 'revtotagglo1939', 'revtotagglo1940', 'revtotagglo1941', 'revtotagglo1942', 'revtotagglo1943', 'revtotagglo1944', 'revtotagglo1945', 'revtotagglo1946', 'revtotagglo1947', 'revtotagglo1948', 'revtotagglo1949', 'revtotagglo1950', 'revtotagglo1951', 'revtotagglo1952', 'revtotagglo1953', 'revtotagglo1954', 'revtotagglo1955', 'revtotagglo1956', 'revtotagglo1957', 'revtotagglo1958', 'revtotagglo1959', 'revtotagglo1960', 'revtotagglo1961', 'revtotagglo1962', 'revtotagglo1963', 'revtotagglo1964', 'revtotagglo1965', 'revtotagglo1966', 'revtotagglo1967', 'revtotagglo1968', 'revtotagglo1969', 'revtotagglo1970', 'revtotagglo1971', 'revtotagglo1972', 'revtotagglo1973', 'revtotagglo1974', 'revtotagglo1975', 'revtotagglo1976', 'revtotagglo1977', 'revtotagglo1978', 'revtotagglo1979', 'revtotagglo1980', 'revtotagglo1981', 'revtotagglo1982', 'revtotagglo1983', 'revtotagglo1984', 'revtotagglo1985', 'revtotagglo1986', 'revtotagglo1987', 'revtotagglo1988', 'revtotagglo1989', 'revtotagglo1990', 'revtotagglo1991', 'revtotagglo1992', 'revtotagglo1993', 'revtotagglo1994', 'revtotagglo1995', 'revtotagglo1996', 'revtotagglo1997', 'revtotagglo1998', 'revtotagglo1999', 'revtotagglo2000', 'revtotagglo2001', 'revtotagglo2002', 'revtotagglo2003', 'revtotagglo2004', 'revtotagglo2005', 'revtotagglo2006', 'revtotagglo2007', 'revtotagglo2008', 'revtotagglo2009', 'revtotagglo2010', 'revtotagglo2011', 'revtotagglo2012', 'revtotagglo2013', 'revtotagglo2014', 'revtotagglo2015', 'revtotagglo2016', 'revtotagglo2017', 'revtotagglo2018', 'revtotagglo2019', 'revtotagglo2020', 'revtotagglo2021', 'revtotagglo2022', 'revratioagglo1860', 'perrevagglo1860', 'revratioagglo1861', 'perrevagglo1861', 'revratioagglo1862', 'perrevagglo1862', 'revratioagglo1863', 'perrevagglo1863', 'revratioagglo1864', 'perrevagglo1864', 'revratioagglo1865', 'perrevagglo1865', 'revratioagglo1866', 'perrevagglo1866', 'revratioagglo1867', 'perrevagglo1867', 'revratioagglo1868', 'perrevagglo1868', 'revratioagglo1869', 'perrevagglo1869', 'revratioagglo1870', 'perrevagglo1870', 'revratioagglo1871', 'perrevagglo1871', 'revratioagglo1872', 'perrevagglo1872', 'revratioagglo1873', 'perrevagglo1873', 'revratioagglo1874', 'perrevagglo1874', 'revratioagglo1875', 'perrevagglo1875', 'revratioagglo1876', 'perrevagglo1876', 'revratioagglo1877', 'perrevagglo1877', 'revratioagglo1878', 'perrevagglo1878', 'revratioagglo1879', 'perrevagglo1879', 'revratioagglo1880', 'perrevagglo1880', 'revratioagglo1881', 'perrevagglo1881', 'revratioagglo1882', 'perrevagglo1882', 'revratioagglo1883', 'perrevagglo1883', 'revratioagglo1884', 'perrevagglo1884', 'revratioagglo1885', 'perrevagglo1885', 'revratioagglo1886', 'perrevagglo1886', 'revratioagglo1887', 'perrevagglo1887', 'revratioagglo1888', 'perrevagglo1888', 'revratioagglo1889', 'perrevagglo1889', 'revratioagglo1890', 'perrevagglo1890', 'revratioagglo1891', 'perrevagglo1891', 'revratioagglo1892', 'perrevagglo1892', 'revratioagglo1893', 'perrevagglo1893', 'revratioagglo1894', 'perrevagglo1894', 'revratioagglo1895', 'perrevagglo1895', 'revratioagglo1896', 'perrevagglo1896', 'revratioagglo1897', 'perrevagglo1897', 'revratioagglo1898', 'perrevagglo1898', 'revratioagglo1899', 'perrevagglo1899', 'revratioagglo1900', 'perrevagglo1900', 'revratioagglo1901', 'perrevagglo1901', 'revratioagglo1902', 'perrevagglo1902', 'revratioagglo1903', 'perrevagglo1903', 'revratioagglo1904', 'perrevagglo1904', 'revratioagglo1905', 'perrevagglo1905', 'revratioagglo1906', 'perrevagglo1906', 'revratioagglo1907', 'perrevagglo1907', 'revratioagglo1908', 'perrevagglo1908', 'revratioagglo1909', 'perrevagglo1909', 'revratioagglo1910', 'perrevagglo1910', 'revratioagglo1911', 'perrevagglo1911', 'revratioagglo1912', 'perrevagglo1912', 'revratioagglo1913', 'perrevagglo1913', 'revratioagglo1914', 'perrevagglo1914', 'revratioagglo1915', 'perrevagglo1915', 'revratioagglo1916', 'perrevagglo1916', 'revratioagglo1917', 'perrevagglo1917', 'revratioagglo1918', 'perrevagglo1918', 'revratioagglo1919', 'perrevagglo1919', 'revratioagglo1920', 'perrevagglo1920', 'revratioagglo1921', 'perrevagglo1921', 'revratioagglo1922', 'perrevagglo1922', 'revratioagglo1923', 'perrevagglo1923', 'revratioagglo1924', 'perrevagglo1924', 'revratioagglo1925', 'perrevagglo1925', 'revratioagglo1926', 'perrevagglo1926', 'revratioagglo1927', 'perrevagglo1927', 'revratioagglo1928', 'perrevagglo1928', 'revratioagglo1929', 'perrevagglo1929', 'revratioagglo1930', 'perrevagglo1930', 'revratioagglo1931', 'perrevagglo1931', 'revratioagglo1932', 'perrevagglo1932', 'revratioagglo1933', 'perrevagglo1933', 'revratioagglo1934', 'perrevagglo1934', 'revratioagglo1935', 'perrevagglo1935', 'revratioagglo1936', 'perrevagglo1936', 'revratioagglo1937', 'perrevagglo1937', 'revratioagglo1938', 'perrevagglo1938', 'revratioagglo1939', 'perrevagglo1939', 'revratioagglo1940', 'perrevagglo1940', 'revratioagglo1941', 'perrevagglo1941', 'revratioagglo1942', 'perrevagglo1942', 'revratioagglo1943', 'perrevagglo1943', 'revratioagglo1944', 'perrevagglo1944', 'revratioagglo1945', 'perrevagglo1945', 'revratioagglo1946', 'perrevagglo1946', 'revratioagglo1947', 'perrevagglo1947', 'revratioagglo1948', 'perrevagglo1948', 'revratioagglo1949', 'perrevagglo1949', 'revratioagglo1950', 'perrevagglo1950', 'revratioagglo1951', 'perrevagglo1951', 'revratioagglo1952', 'perrevagglo1952', 'revratioagglo1953', 'perrevagglo1953', 'revratioagglo1954', 'perrevagglo1954', 'revratioagglo1955', 'perrevagglo1955', 'revratioagglo1956', 'perrevagglo1956', 'revratioagglo1957', 'perrevagglo1957', 'revratioagglo1958', 'perrevagglo1958', 'revratioagglo1959', 'perrevagglo1959', 'revratioagglo1960', 'perrevagglo1960', 'revratioagglo1961', 'perrevagglo1961', 'revratioagglo1962', 'perrevagglo1962', 'revratioagglo1963', 'perrevagglo1963', 'revratioagglo1964', 'perrevagglo1964', 'revratioagglo1965', 'perrevagglo1965', 'revratioagglo1966', 'perrevagglo1966', 'revratioagglo1967', 'perrevagglo1967', 'revratioagglo1968', 'perrevagglo1968', 'revratioagglo1969', 'perrevagglo1969', 'revratioagglo1970', 'perrevagglo1970', 'revratioagglo1971', 'perrevagglo1971', 'revratioagglo1972', 'perrevagglo1972', 'revratioagglo1973', 'perrevagglo1973', 'revratioagglo1974', 'perrevagglo1974', 'revratioagglo1975', 'perrevagglo1975', 'revratioagglo1976', 'perrevagglo1976', 'revratioagglo1977', 'perrevagglo1977', 'revratioagglo1978', 'perrevagglo1978', 'revratioagglo1979', 'perrevagglo1979', 'revratioagglo1980', 'perrevagglo1980', 'revratioagglo1981', 'perrevagglo1981', 'revratioagglo1982', 'perrevagglo1982', 'revratioagglo1983', 'perrevagglo1983', 'revratioagglo1984', 'perrevagglo1984', 'revratioagglo1985', 'perrevagglo1985', 'revratioagglo1986', 'perrevagglo1986', 'revratioagglo1987', 'perrevagglo1987', 'revratioagglo1988', 'perrevagglo1988', 'revratioagglo1989', 'perrevagglo1989', 'revratioagglo1990', 'perrevagglo1990', 'revratioagglo1991', 'perrevagglo1991', 'revratioagglo1992', 'perrevagglo1992', 'revratioagglo1993', 'perrevagglo1993', 'revratioagglo1994', 'perrevagglo1994', 'revratioagglo1995', 'perrevagglo1995', 'revratioagglo1996', 'perrevagglo1996', 'revratioagglo1997', 'perrevagglo1997', 'revratioagglo1998', 'perrevagglo1998', 'revratioagglo1999', 'perrevagglo1999', 'revratioagglo2000', 'perrevagglo2000', 'revratioagglo2001', 'perrevagglo2001', 'revratioagglo2002', 'perrevagglo2002', 'revratioagglo2003', 'perrevagglo2003', 'revratioagglo2004', 'perrevagglo2004', 'revratioagglo2005', 'perrevagglo2005', 'revratioagglo2006', 'perrevagglo2006', 'revratioagglo2007', 'perrevagglo2007', 'revratioagglo2008', 'perrevagglo2008', 'revratioagglo2009', 'perrevagglo2009', 'revratioagglo2010', 'perrevagglo2010', 'revratioagglo2011', 'perrevagglo2011', 'revratioagglo2012', 'perrevagglo2012', 'revratioagglo2013', 'perrevagglo2013', 'revratioagglo2014', 'perrevagglo2014', 'revratioagglo2015', 'perrevagglo2015', 'revratioagglo2016', 'perrevagglo2016', 'revratioagglo2017', 'perrevagglo2017', 'revratioagglo2018', 'perrevagglo2018', 'revratioagglo2019', 'perrevagglo2019', 'revratioagglo2020', 'perrevagglo2020', 'revratioagglo2021', 'perrevagglo2021', 'revratioagglo2022', 'perrevagglo2022', 'perrevagglo1790', 'revratioagglo1790', 'perrevagglo1791', 'revratioagglo1791', 'perrevagglo1792', 'revratioagglo1792', 'perrevagglo1793', 'revratioagglo1793', 'perrevagglo1794', 'revratioagglo1794', 'perrevagglo1795', 'revratioagglo1795', 'perrevagglo1796', 'revratioagglo1796', 'perrevagglo1797', 'revratioagglo1797', 'perrevagglo1798', 'revratioagglo1798', 'perrevagglo1799', 'revratioagglo1799', 'perrevagglo1800', 'revratioagglo1800', 'perrevagglo1801', 'revratioagglo1801', 'perrevagglo1802', 'revratioagglo1802', 'perrevagglo1803', 'revratioagglo1803', 'perrevagglo1804', 'revratioagglo1804', 'perrevagglo1805', 'revratioagglo1805', 'perrevagglo1806', 'revratioagglo1806', 'perrevagglo1807', 'revratioagglo1807', 'perrevagglo1808', 'revratioagglo1808', 'perrevagglo1809', 'revratioagglo1809', 'perrevagglo1810', 'revratioagglo1810', 'perrevagglo1811', 'revratioagglo1811', 'perrevagglo1812', 'revratioagglo1812', 'perrevagglo1813', 'revratioagglo1813', 'perrevagglo1814', 'revratioagglo1814', 'perrevagglo1815', 'revratioagglo1815', 'perrevagglo1816', 'revratioagglo1816', 'perrevagglo1817', 'revratioagglo1817', 'perrevagglo1818', 'revratioagglo1818', 'perrevagglo1819', 'revratioagglo1819', 'perrevagglo1820', 'revratioagglo1820', 'perrevagglo1821', 'revratioagglo1821', 'perrevagglo1822', 'revratioagglo1822', 'perrevagglo1823', 'revratioagglo1823', 'perrevagglo1824', 'revratioagglo1824', 'perrevagglo1825', 'revratioagglo1825', 'perrevagglo1826', 'revratioagglo1826', 'perrevagglo1827', 'revratioagglo1827', 'perrevagglo1828', 'revratioagglo1828', 'perrevagglo1829', 'revratioagglo1829', 'perrevagglo1830', 'revratioagglo1830', 'perrevagglo1831', 'revratioagglo1831', 'perrevagglo1832', 'revratioagglo1832', 'perrevagglo1833', 'revratioagglo1833', 'perrevagglo1834', 'revratioagglo1834', 'perrevagglo1835', 'revratioagglo1835', 'perrevagglo1836', 'revratioagglo1836', 'perrevagglo1837', 'revratioagglo1837', 'perrevagglo1838', 'revratioagglo1838', 'perrevagglo1839', 'revratioagglo1839', 'perrevagglo1840', 'revratioagglo1840', 'perrevagglo1841', 'revratioagglo1841', 'perrevagglo1842', 'revratioagglo1842', 'perrevagglo1843', 'revratioagglo1843', 'perrevagglo1844', 'revratioagglo1844', 'perrevagglo1845', 'revratioagglo1845', 'perrevagglo1846', 'revratioagglo1846', 'perrevagglo1847', 'revratioagglo1847', 'perrevagglo1848', 'revratioagglo1848', 'perrevagglo1849', 'revratioagglo1849', 'perrevagglo1850', 'revratioagglo1850', 'perrevagglo1851', 'revratioagglo1851', 'perrevagglo1852', 'revratioagglo1852', 'perrevagglo1853', 'revratioagglo1853', 'perrevagglo1854', 'revratioagglo1854', 'perrevagglo1855', 'revratioagglo1855', 'perrevagglo1856', 'revratioagglo1856', 'perrevagglo1857', 'revratioagglo1857', 'perrevagglo1858', 'revratioagglo1858', 'perrevagglo1859', 'revratioagglo1859', 'revratioadu1980', 'revratioadu1981', 'revratioadu1982', 'revratioadu1983', 'revratioadu1984', 'revratioadu1985', 'revratioadu1986', 'revratioadu1987', 'revratioadu1988', 'revratioadu1989', 'revratioadu1990', 'revratioadu1991', 'revratioadu1992', 'revratioadu1993', 'revratioadu1994', 'revratioadu1995', 'revratioadu1996', 'revratioadu1997', 'revratioadu1998', 'revratioadu1999', 'revratioadu2000', 'revratioadu2001', 'revratioadu2002', 'revratioadu2003', 'revratioadu2004', 'revratioadu2005', 'revratioadu2006', 'revratioadu2007', 'revratioadu2008', 'revratioadu2009', 'revratioadu2010', 'revratioadu2011', 'revratioadu2012', 'revratioadu2013', 'revratioadu2014', 'revratioadu2015', 'revratioadu2016', 'revratioadu2017', 'revratioadu2018', 'revratioadu2019', 'revratioadu2020', 'revratioadu2021', 'revratioadu2022', 'revratiofoy1980', 'revratiofoy1981', 'revratiofoy1982', 'revratiofoy1983', 'revratiofoy1984', 'revratiofoy1985', 'revratiofoy1986', 'revratiofoy1987', 'revratiofoy1988', 'revratiofoy1989', 'revratiofoy1990', 'revratiofoy1991', 'revratiofoy1992', 'revratiofoy1993', 'revratiofoy1994', 'revratiofoy1995', 'revratiofoy1996', 'revratiofoy1997', 'revratiofoy1998', 'revratiofoy1999', 'revratiofoy2000', 'revratiofoy2001', 'revratiofoy2002', 'revratiofoy2003', 'revratiofoy2004', 'revratiofoy2005', 'revratiofoy2006', 'revratiofoy2007', 'revratiofoy2008', 'revratiofoy2009', 'revratiofoy2010', 'revratiofoy2011', 'revratiofoy2012', 'revratiofoy2013', 'revratiofoy2014', 'revratiofoy2015', 'revratiofoy2016', 'revratiofoy2017', 'revratiofoy2018', 'revratiofoy2019', 'revratiofoy2020', 'revratiofoy2021', 'revratiofoy2022', 'pop1860', 'pop1861', 'pop1862', 'pop1863', 'pop1864', 'pop1865', 'pop1866', 'pop1867', 'pop1868', 'pop1869', 'pop1870', 'pop1871', 'pop1872', 'pop1873', 'pop1874', 'pop1875', 'pop1876', 'pop1877', 'pop1878', 'pop1879', 'pop1880', 'pop1881', 'pop1882', 'pop1883', 'pop1884', 'pop1885', 'pop1886', 'pop1887', 'pop1888', 'pop1889', 'pop1890', 'pop1891', 'pop1892', 'pop1893', 'pop1894', 'pop1895', 'pop1896', 'pop1897', 'pop1898', 'pop1899', 'pop1900', 'pop1901', 'pop1902', 'pop1903', 'pop1904', 'pop1905', 'pop1906', 'pop1907', 'pop1908', 'pop1909', 'pop1910', 'pop1911', 'pop1912', 'pop1913', 'pop1914', 'pop1915', 'pop1916', 'pop1917', 'pop1918', 'pop1919', 'pop1920', 'pop1921', 'pop1922', 'pop1923', 'pop1924', 'pop1925', 'pop1926', 'pop1927', 'pop1928', 'pop1929', 'pop1930', 'pop1931', 'pop1932', 'pop1933', 'pop1934', 'pop1935', 'pop1936', 'pop1937', 'pop1938', 'pop1939', 'pop1940', 'pop1941', 'pop1942', 'pop1943', 'pop1944', 'pop1945', 'pop1946', 'pop1947', 'pop1948', 'pop1949', 'pop1950', 'pop1951', 'pop1952', 'pop1953', 'pop1954', 'pop1955', 'pop1956', 'pop1957', 'pop1958', 'pop1959', 'pop1960', 'pop1961', 'pop1962', 'pop1963', 'pop1964', 'pop1965', 'pop1966', 'pop1967', 'pop1968', 'pop1969', 'pop1970', 'pop1971', 'pop1972', 'pop1973', 'pop1974', 'pop1975', 'pop1976', 'pop1977', 'pop1978', 'pop1979', 'pop1980', 'pop1981', 'pop1982', 'pop1983', 'pop1984', 'pop1985', 'pop1986', 'pop1987', 'pop1988', 'pop1989', 'pop1990', 'pop1991', 'pop1992', 'pop1993', 'pop1994', 'pop1995', 'pop1996', 'pop1997', 'pop1998', 'pop1999', 'pop2000', 'pop2001', 'pop2002', 'pop2003', 'pop2004', 'pop2005', 'pop2006', 'pop2007', 'pop2008', 'pop2009', 'pop2010', 'pop2011', 'pop2012', 'pop2013', 'pop2014', 'pop2015', 'pop2016', 'pop2017', 'pop2018', 'pop2019', 'pop2020', 'pop2021', 'pop2022', 'revdep1860', 'revdep1861', 'revdep1862', 'revdep1863', 'revdep1864', 'revdep1865', 'revdep1866', 'revdep1867', 'revdep1868', 'revdep1869', 'revdep1870', 'revdep1871', 'revdep1872', 'revdep1873', 'revdep1874', 'revdep1875', 'revdep1876', 'revdep1877', 'revdep1878', 'revdep1879', 'revdep1880', 'revdep1881', 'revdep1882', 'revdep1883', 'revdep1884', 'revdep1885', 'revdep1886', 'revdep1887', 'revdep1888', 'revdep1889', 'revdep1890', 'revdep1891', 'revdep1892', 'revdep1893', 'revdep1894', 'revdep1895', 'revdep1896', 'revdep1897', 'revdep1898', 'revdep1899', 'revdep1900', 'revdep1901', 'revdep1902', 'revdep1903', 'revdep1904', 'revdep1905', 'revdep1906', 'revdep1907', 'revdep1908', 'revdep1909', 'revdep1910', 'revdep1911', 'revdep1912', 'revdep1913', 'revdep1914', 'revdep1915', 'revdep1916', 'revdep1917', 'revdep1918', 'revdep1919', 'revdep1920', 'revdep1921', 'revdep1922', 'revdep1923', 'revdep1924', 'revdep1925', 'revdep1926', 'revdep1927', 'revdep1928', 'revdep1929', 'revdep1930', 'revdep1931', 'revdep1932', 'revdep1933', 'revdep1934', 'revdep1935', 'revdep1936', 'revdep1937', 'revdep1938', 'revdep1939', 'revdep1940', 'revdep1941', 'revdep1942', 'revdep1943', 'revdep1944', 'revdep1945', 'revdep1946', 'revdep1947', 'revdep1948', 'revdep1949', 'revdep1950', 'revdep1951', 'revdep1952', 'revdep1953', 'revdep1954', 'revdep1955', 'revdep1956', 'revdep1957', 'revdep1958', 'revdep1959', 'revdep1960', 'revdep1961', 'revdep1962', 'revdep1963', 'revdep1964', 'revdep1965', 'revdep1966', 'revdep1967', 'revdep1968', 'revdep1969', 'revdep1970', 'revdep1971', 'revdep1972', 'revdep1973', 'revdep1974', 'revdep1975', 'revdep1976', 'revdep1977', 'revdep1978', 'revdep1979', 'nadult1980', 'nadult1981', 'nadult1982', 'nadult1983', 'nadult1984', 'nadult1985', 'nadult1986', 'nadult1987', 'nadult1988', 'nadult1989', 'nadult1990', 'nadult1991', 'nadult1992', 'nadult1993', 'nadult1994', 'nadult1995', 'nadult1996', 'nadult1997', 'nadult1998', 'nadult1999', 'nadult2000', 'nadult2001', 'nadult2002', 'nadult2003', 'nadult2004', 'nadult2005', 'nadult2006', 'nadult2007', 'nadult2008', 'nadult2009', 'nadult2010', 'nadult2011', 'nadult2012', 'nadult2013', 'nadult2014', 'nadult2015', 'nadult2016', 'nadult2017', 'nadult2018', 'nadult2019', 'nadult2020', 'nadult2021', 'nadult2022', 'nfoyer1980', 'nfoyer1981', 'nfoyer1982', 'nfoyer1983', 'nfoyer1984', 'nfoyer1985', 'nfoyer1986', 'nfoyer1987', 'nfoyer1988', 'nfoyer1989', 'nfoyer1990', 'nfoyer1991', 'nfoyer1992', 'nfoyer1993', 'nfoyer1994', 'nfoyer1995', 'nfoyer1996', 'nfoyer1997', 'nfoyer1998', 'nfoyer1999', 'nfoyer2000', 'nfoyer2001', 'nfoyer2002', 'nfoyer2003', 'nfoyer2004', 'nfoyer2005', 'nfoyer2006', 'nfoyer2007', 'nfoyer2008', 'nfoyer2009', 'nfoyer2010', 'nfoyer2011', 'nfoyer2012', 'nfoyer2013', 'nfoyer2014', 'nfoyer2015', 'nfoyer2016', 'nfoyer2017', 'nfoyer2018', 'nfoyer2019', 'nfoyer2020', 'nfoyer2021', 'nfoyer2022', 'revmoy1980', 'revmoy1981', 'revmoy1982', 'revmoy1983', 'revmoy1984', 'revmoy1985', 'revmoy1986', 'revmoy1987', 'revmoy1988', 'revmoy1989', 'revmoy1990', 'revmoy1991', 'revmoy1992', 'revmoy1993', 'revmoy1994', 'revmoy1995', 'revmoy1996', 'revmoy1997', 'revmoy1998', 'revmoy1999', 'revmoy2000', 'revmoy2001', 'revmoy2002', 'revmoy2003', 'revmoy2004', 'revmoy2005', 'revmoy2006', 'revmoy2007', 'revmoy2008', 'revmoy2009', 'revmoy2010', 'revmoy2011', 'revmoy2012', 'revmoy2013', 'revmoy2014', 'revmoy2015', 'revmoy2016', 'revmoy2017', 'revmoy2018', 'revmoy2019', 'revmoy2020', 'revmoy2021', 'revmoy2022', 'revmoyadu1980', 'revmoyadu1981', 'revmoyadu1982', 'revmoyadu1983', 'revmoyadu1984', 'revmoyadu1985', 'revmoyadu1986', 'revmoyadu1987', 'revmoyadu1988', 'revmoyadu1989', 'revmoyadu1990', 'revmoyadu1991', 'revmoyadu1992', 'revmoyadu1993', 'revmoyadu1994', 'revmoyadu1995', 'revmoyadu1996', 'revmoyadu1997', 'revmoyadu1998', 'revmoyadu1999', 'revmoyadu2000', 'revmoyadu2001', 'revmoyadu2002', 'revmoyadu2003', 'revmoyadu2004', 'revmoyadu2005', 'revmoyadu2006', 'revmoyadu2007', 'revmoyadu2008', 'revmoyadu2009', 'revmoyadu2010', 'revmoyadu2011', 'revmoyadu2012', 'revmoyadu2013', 'revmoyadu2014', 'revmoyadu2015', 'revmoyadu2016', 'revmoyadu2017', 'revmoyadu2018', 'revmoyadu2019', 'revmoyadu2020', 'revmoyadu2021', 'revmoyadu2022', 'revmoyfoy1980', 'revmoyfoy1981', 'revmoyfoy1982', 'revmoyfoy1983', 'revmoyfoy1984', 'revmoyfoy1985', 'revmoyfoy1986', 'revmoyfoy1987', 'revmoyfoy1988', 'revmoyfoy1989', 'revmoyfoy1990', 'revmoyfoy1991', 'revmoyfoy1992', 'revmoyfoy1993', 'revmoyfoy1994', 'revmoyfoy1995', 'revmoyfoy1996', 'revmoyfoy1997', 'revmoyfoy1998', 'revmoyfoy1999', 'revmoyfoy2000', 'revmoyfoy2001', 'revmoyfoy2002', 'revmoyfoy2003', 'revmoyfoy2004', 'revmoyfoy2005', 'revmoyfoy2006', 'revmoyfoy2007', 'revmoyfoy2008', 'revmoyfoy2009', 'revmoyfoy2010', 'revmoyfoy2011', 'revmoyfoy2012', 'revmoyfoy2013', 'revmoyfoy2014', 'revmoyfoy2015', 'revmoyfoy2016', 'revmoyfoy2017', 'revmoyfoy2018', 'revmoyfoy2019', 'revmoyfoy2020', 'revmoyfoy2021', 'revmoyfoy2022', 'perrevfoy1980', 'perrevfoy1981', 'perrevfoy1982', 'perrevfoy1983', 'perrevfoy1984', 'perrevfoy1985', 'perrevfoy1986', 'perrevfoy1987', 'perrevfoy1988', 'perrevfoy1989', 'perrevfoy1990', 'perrevfoy1991', 'perrevfoy1992', 'perrevfoy1993', 'perrevfoy1994', 'perrevfoy1995', 'perrevfoy1996', 'perrevfoy1997', 'perrevfoy1998', 'perrevfoy1999', 'perrevfoy2000', 'perrevfoy2001', 'perrevfoy2002', 'perrevfoy2003', 'perrevfoy2004', 'perrevfoy2005', 'perrevfoy2006', 'perrevfoy2007', 'perrevfoy2008', 'perrevfoy2009', 'perrevfoy2010', 'perrevfoy2011', 'perrevfoy2012', 'perrevfoy2013', 'perrevfoy2014', 'perrevfoy2015', 'perrevfoy2016', 'perrevfoy2017', 'perrevfoy2018', 'perrevfoy2019', 'perrevfoy2020', 'perrevfoy2021', 'perrevfoy2022', 'perrevadu1980', 'perrevadu1981', 'perrevadu1982', 'perrevadu1983', 'perrevadu1984', 'perrevadu1985', 'perrevadu1986', 'perrevadu1987', 'perrevadu1988', 'perrevadu1989', 'perrevadu1990', 'perrevadu1991', 'perrevadu1992', 'perrevadu1993', 'perrevadu1994', 'perrevadu1995', 'perrevadu1996', 'perrevadu1997', 'perrevadu1998', 'perrevadu1999', 'perrevadu2000', 'perrevadu2001', 'perrevadu2002', 'perrevadu2003', 'perrevadu2004', 'perrevadu2005', 'perrevadu2006', 'perrevadu2007', 'perrevadu2008', 'perrevadu2009', 'perrevadu2010', 'perrevadu2011', 'perrevadu2012', 'perrevadu2013', 'perrevadu2014', 'perrevadu2015', 'perrevadu2016', 'perrevadu2017', 'perrevadu2018', 'perrevadu2019', 'perrevadu2020', 'perrevadu2021', 'perrevadu2022', 'perrev1860', 'perrev1861', 'perrev1862', 'perrev1863', 'perrev1864', 'perrev1865', 'perrev1866', 'perrev1867', 'perrev1868', 'perrev1869', 'perrev1870', 'perrev1871', 'perrev1872', 'perrev1873', 'perrev1874', 'perrev1875', 'perrev1876', 'perrev1877', 'perrev1878', 'perrev1879', 'perrev1880', 'perrev1881', 'perrev1882', 'perrev1883', 'perrev1884', 'perrev1885', 'perrev1886', 'perrev1887', 'perrev1888', 'perrev1889', 'perrev1890', 'perrev1891', 'perrev1892', 'perrev1893', 'perrev1894', 'perrev1895', 'perrev1896', 'perrev1897', 'perrev1898', 'perrev1899', 'perrev1900', 'perrev1901', 'perrev1902', 'perrev1903', 'perrev1904', 'perrev1905', 'perrev1906', 'perrev1907', 'perrev1908', 'perrev1909', 'perrev1910', 'perrev1911', 'perrev1912', 'perrev1913', 'perrev1914', 'perrev1915', 'perrev1916', 'perrev1917', 'perrev1918', 'perrev1919', 'perrev1920', 'perrev1921', 'perrev1922', 'perrev1923', 'perrev1924', 'perrev1925', 'perrev1926', 'perrev1927', 'perrev1928', 'perrev1929', 'perrev1930', 'perrev1931', 'perrev1932', 'perrev1933', 'perrev1934', 'perrev1935', 'perrev1936', 'perrev1937', 'perrev1938', 'perrev1939', 'perrev1940', 'perrev1941', 'perrev1942', 'perrev1943', 'perrev1944', 'perrev1945', 'perrev1946', 'perrev1947', 'perrev1948', 'perrev1949', 'perrev1950', 'perrev1951', 'perrev1952', 'perrev1953', 'perrev1954', 'perrev1955', 'perrev1956', 'perrev1957', 'perrev1958', 'perrev1959', 'perrev1960', 'perrev1961', 'perrev1962', 'perrev1963', 'perrev1964', 'perrev1965', 'perrev1966', 'perrev1967', 'perrev1968', 'perrev1969', 'perrev1970', 'perrev1971', 'perrev1972', 'perrev1973', 'perrev1974', 'perrev1975', 'perrev1976', 'perrev1977', 'perrev1978', 'perrev1979', 'perrev1980', 'perrev1981', 'perrev1982', 'perrev1983', 'perrev1984', 'perrev1985', 'perrev1986', 'perrev1987', 'perrev1988', 'perrev1989', 'perrev1990', 'perrev1991', 'perrev1992', 'perrev1993', 'perrev1994', 'perrev1995', 'perrev1996', 'perrev1997', 'perrev1998', 'perrev1999', 'perrev2000', 'perrev2001', 'perrev2002', 'perrev2003', 'perrev2004', 'perrev2005', 'perrev2006', 'perrev2007', 'perrev2008', 'perrev2009', 'perrev2010', 'perrev2011', 'perrev2012', 'perrev2013', 'perrev2014', 'perrev2015', 'perrev2016', 'perrev2017', 'perrev2018', 'perrev2019', 'perrev2020', 'perrev2021', 'perrev2022', 'perrev1790', 'perrev1791', 'perrev1792', 'perrev1793', 'perrev1794', 'perrev1795', 'perrev1796', 'perrev1797', 'perrev1798', 'perrev1799', 'perrev1800', 'perrev1801', 'perrev1802', 'perrev1803', 'perrev1804', 'perrev1805', 'perrev1806', 'perrev1807', 'perrev1808', 'perrev1809', 'perrev1810', 'perrev1811', 'perrev1812', 'perrev1813', 'perrev1814', 'perrev1815', 'perrev1816', 'perrev1817', 'perrev1818', 'perrev1819', 'perrev1820', 'perrev1821', 'perrev1822', 'perrev1823', 'perrev1824', 'perrev1825', 'perrev1826', 'perrev1827', 'perrev1828', 'perrev1829', 'perrev1830', 'perrev1831', 'perrev1832', 'perrev1833', 'perrev1834', 'perrev1835', 'perrev1836', 'perrev1837', 'perrev1838', 'perrev1839', 'perrev1840', 'perrev1841', 'perrev1842', 'perrev1843', 'perrev1844', 'perrev1845', 'perrev1846', 'perrev1847', 'perrev1848', 'perrev1849', 'perrev1850', 'perrev1851', 'perrev1852', 'perrev1853', 'perrev1854', 'perrev1855', 'perrev1856', 'perrev1857', 'perrev1858', 'perrev1859']\n"
     ]
    }
   ],
   "source": [
    "import pandas as pd\n",
    "\n",
    "# Chemin du fichier CSV dans S3\n",
    "path_revcommunes = \"clichere/diffusion/revcommunes.csv\"\n",
    "\n",
    "# Lire uniquement les noms des colonnes\n",
    "with fs.open(path_revcommunes, mode=\"r\", encoding=\"utf-8\") as file:\n",
    "    revcommunes_col = pd.read_csv(file, nrows=0)  \n",
    "\n",
    "# Afficher les colonnes disponibles dans le fichier\n",
    "print(revcommunes_col.columns.tolist())"
   ]
  },
  {
   "cell_type": "code",
   "execution_count": 3,
   "metadata": {},
   "outputs": [
    {
     "name": "stdout",
     "output_type": "stream",
     "text": [
      "   revratio2021  revtot2021  revtotagglo2021  revratioagglo2021  \\\n",
      "0      1.133784    0.000013         0.000013           1.133714   \n",
      "1      0.904978    0.000004         0.000004           0.904922   \n",
      "2      0.973528    0.000210         0.000253           0.959800   \n",
      "3      1.113494    0.000029         0.000029           1.113424   \n",
      "4      0.985927    0.000002         0.000002           0.985865   \n",
      "\n",
      "   perrevagglo2021  revratioadu2021  revratiofoy2021  pop2021  nadult2021  \\\n",
      "0         0.748862         1.148040         1.083824      750         564   \n",
      "1         0.341153         1.046548         1.094375      284         187   \n",
      "2         0.504508         1.005571         0.907630    14326       10561   \n",
      "3         0.734630         1.035550         1.127406     1705        1396   \n",
      "4         0.574105         0.894497         0.961750      112          94   \n",
      "\n",
      "   nfoyer2021  revmoy2021  revmoyadu2021  revmoyfoy2021  perrevfoy2021  \\\n",
      "0         451   21529.191      28629.244      35802.426       0.734968   \n",
      "1         135   17184.438      26098.291      36150.969       0.746424   \n",
      "2        8833   18486.125      25076.434      29982.137       0.483537   \n",
      "3         968   21143.896      25824.029      37242.090       0.778123   \n",
      "4          66   18721.557      22306.537      31769.916       0.586685   \n",
      "\n",
      "   perrevadu2021  perrev2021  \n",
      "0       0.800666    0.777491  \n",
      "1       0.700677    0.480661  \n",
      "2       0.655195    0.618342  \n",
      "3       0.689139    0.761117  \n",
      "4       0.446936    0.631884  \n"
     ]
    }
   ],
   "source": [
    "# Sélectionner les colonnes dont le nom se termine par \"2021\"\n",
    "columns_to_select = [col for col in revcommunes_col.columns if col.endswith(\"2021\")]\n",
    "\n",
    "# Lire uniquement les noms des colonnes\n",
    "with fs.open(path_revcommunes, mode=\"r\", encoding=\"utf-8\") as file:\n",
    "    revcommunes_col = pd.read_csv(file, nrows=6, usecols=columns_to_select)  \n",
    "\n",
    "# Afficher les colonnes disponibles dans le fichier\n",
    "print(revcommunes_col.head())"
   ]
  },
  {
   "cell_type": "code",
   "execution_count": 10,
   "metadata": {},
   "outputs": [
    {
     "name": "stdout",
     "output_type": "stream",
     "text": [
      "<class 'pandas.core.frame.DataFrame'>\n",
      "RangeIndex: 36661 entries, 0 to 36660\n",
      "Data columns (total 4 columns):\n",
      " #   Column       Non-Null Count  Dtype  \n",
      "---  ------       --------------  -----  \n",
      " 0   codecommune  36661 non-null  object \n",
      " 1   nomcommune   36652 non-null  object \n",
      " 2   pop2021      36661 non-null  int64  \n",
      " 3   revmoy2021   34746 non-null  float64\n",
      "dtypes: float64(1), int64(1), object(2)\n",
      "memory usage: 1.1+ MB\n",
      "None\n"
     ]
    }
   ],
   "source": [
    "\n",
    "# Sélectionner les colonnes qui nous intéressent\n",
    "columns_to_select = [\"codecommune\", \"nomcommune\", \"pop2021\", \"revmoy2021\"]\n",
    "\n",
    "# Spécifier le type de la colonne \"codecommune\" comme une chaîne de caractères (string)\n",
    "dtype_spec = {'codecommune': 'str'}\n",
    "\n",
    "# Lire le fichier CSV avec les colonnes sélectionnées et spécifier le type de la colonne \"codecommune\"\n",
    "with fs.open(path_revcommunes, mode=\"r\", encoding=\"utf-8\") as file:\n",
    "    revcommunes = pd.read_csv(file, usecols=columns_to_select, dtype=dtype_spec)\n",
    "\n",
    "# Afficher les statistiques descriptives\n",
    "print(revcommunes.info())"
   ]
  },
  {
   "cell_type": "markdown",
   "metadata": {},
   "source": [
    "2. Taux de diplome par commune"
   ]
  },
  {
   "cell_type": "code",
   "execution_count": null,
   "metadata": {},
   "outputs": [
    {
     "name": "stdout",
     "output_type": "stream",
     "text": [
      "   nodiph2021  bach2021  suph2021  nodipf2021  bacf2021  supf2021  nodip2021  \\\n",
      "0         156        60        76         162        60        58        318   \n",
      "1          40        44        10          18        50        12         58   \n",
      "2           0         0         0           0         0         0          0   \n",
      "3        2488       687      1379        2873      1011      1435       5361   \n",
      "4         397       113       134         410        94        73        807   \n",
      "\n",
      "   bac2021  sup2021  pbac2021  perbac2021  psup2021  persup2021  \n",
      "0      120      134  0.444056    0.370707  0.234266    0.261884  \n",
      "1       94       22  0.666667    0.875345  0.126437    0.044369  \n",
      "2        0        0       NaN    1.000001       NaN    1.000003  \n",
      "3     1697     2814  0.456949    0.405721  0.285049    0.414108  \n",
      "4      207      206  0.338525    0.117503  0.168852    0.099584  \n"
     ]
    }
   ],
   "source": [
    "# Chemin du fichier CSV dans S3\n",
    "path_diplomescommunes = \"clichere/diffusion/diplomescommunes.csv\"\n",
    "\n",
    "with fs.open(path_diplomescommunes, mode=\"r\", encoding=\"utf-8\") as file:\n",
    "    dipcommunes_head = pd.read_csv(file, nrows=5) \n",
    "\n",
    "# Sélectionner les colonnes dont le nom se termine par \"2021\"\n",
    "columns_to_select = [col for col in dipcommunes_head.columns if col.endswith(\"2021\")]\n",
    "\n",
    "# Lire uniquement les noms des colonnes\n",
    "with fs.open(path_diplomescommunes, mode=\"r\", encoding=\"utf-8\") as file:\n",
    "    dipcommunes_col = pd.read_csv(file, nrows=6, usecols=columns_to_select)  \n",
    "\n",
    "# Afficher les colonnes correspondantes\n",
    "print(dipcommunes_col.head())\n"
   ]
  },
  {
   "cell_type": "code",
   "execution_count": 8,
   "metadata": {},
   "outputs": [
    {
     "name": "stdout",
     "output_type": "stream",
     "text": [
      "           pbac2021      psup2021\n",
      "count  35224.000000  35224.000000\n",
      "mean       0.450989      0.267633\n",
      "std        0.187830      0.164391\n",
      "min        0.000000      0.000000\n",
      "25%        0.332675      0.159292\n",
      "50%        0.443547      0.253964\n",
      "75%        0.559055      0.358807\n",
      "max        1.000000      1.000000\n"
     ]
    }
   ],
   "source": [
    "columns_to_select = [\"codecommune\", \"nomcommune\", \"pbac2021\", \"psup2021\"]\n",
    "\n",
    "# Spécifier le type de la colonne \"codecommune\" comme une chaîne de caractères (string)\n",
    "dtype_spec = {'codecommune': 'str'}\n",
    "\n",
    "# Lire le fichier CSV avec les colonnes sélectionnées et spécifier le type de la colonne \"codecommune\"\n",
    "with fs.open(path_diplomescommunes, mode=\"r\", encoding=\"utf-8\") as file:\n",
    "    dipcommunes = pd.read_csv(file, usecols=columns_to_select, dtype=dtype_spec)\n",
    "\n",
    "# Afficher les statistiques descriptives\n",
    "print(dipcommunes.describe())"
   ]
  },
  {
   "cell_type": "markdown",
   "metadata": {},
   "source": [
    "3. Fusionner les bases de données"
   ]
  },
  {
   "cell_type": "code",
   "execution_count": null,
   "metadata": {},
   "outputs": [
    {
     "name": "stdout",
     "output_type": "stream",
     "text": [
      "      codecommune           nomcommune_x  pop2021  revmoy2021  \\\n",
      "0           01001  ABERGEMENT-CLEMENCIAT      750   21529.191   \n",
      "1           01002    ABERGEMENT-DE-VAREY      284   17184.438   \n",
      "2           01004      AMBERIEU-EN-BUGEY    14326   18486.125   \n",
      "3           01005    AMBERIEUX-EN-DOMBES     1705   21143.896   \n",
      "4           01006                AMBLEON      112   18721.557   \n",
      "...           ...                    ...      ...         ...   \n",
      "36627       95676     VILLERS-EN-ARTHIES      525   20812.623   \n",
      "36628       95678          VILLIERS-ADAM      918   26369.949   \n",
      "36629       95680        VILLIERS-LE-BEL    27068   11822.378   \n",
      "36630       95682        VILLIERS-LE-SEC      239   19213.582   \n",
      "36631       95690    WY-DIT-JOLY-VILLAGE      370   25646.908   \n",
      "\n",
      "                nomcommune_y  pbac2021  psup2021  \n",
      "0      ABERGEMENT-CLEMENCIAT  0.444056  0.234266  \n",
      "1        ABERGEMENT-DE-VAREY  0.666667  0.126437  \n",
      "2          AMBERIEU-EN-BUGEY  0.456949  0.285049  \n",
      "3        AMBERIEUX-EN-DOMBES  0.338525  0.168852  \n",
      "4                    AMBLEON  1.000000  0.027778  \n",
      "...                      ...       ...       ...  \n",
      "36627     VILLERS-EN-ARTHIES  0.529577  0.484507  \n",
      "36628          VILLIERS-ADAM  0.853125  0.640625  \n",
      "36629        VILLIERS-LE-BEL  0.424788  0.226182  \n",
      "36630        VILLIERS-LE-SEC  0.273810  0.101190  \n",
      "36631    WY-DIT-JOLI-VILLAGE  0.844444  0.570370  \n",
      "\n",
      "[36632 rows x 7 columns]\n"
     ]
    }
   ],
   "source": [
    "rev_dip_pop_comm = pd.merge(revcommunes, dipcommunes, on='codecommune', how='inner')\n",
    "\n",
    "\n",
    "print(rev_dip_pop_comm)"
   ]
  }
 ],
 "metadata": {
  "kernelspec": {
   "display_name": "base",
   "language": "python",
   "name": "python3"
  },
  "language_info": {
   "codemirror_mode": {
    "name": "ipython",
    "version": 3
   },
   "file_extension": ".py",
   "mimetype": "text/x-python",
   "name": "python",
   "nbconvert_exporter": "python",
   "pygments_lexer": "ipython3",
   "version": "3.12.6"
  }
 },
 "nbformat": 4,
 "nbformat_minor": 2
}
